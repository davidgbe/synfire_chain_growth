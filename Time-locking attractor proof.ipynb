{
 "cells": [
  {
   "cell_type": "markdown",
   "metadata": {},
   "source": [
    "Begin with:\n",
    "\n",
    "\\begin{equation*}\n",
    "v(x, t) = v_0(x) + u(t)w(x)\n",
    "\\label{eq:1} \\tag{1}\n",
    "\\end{equation*}"
   ]
  },
  {
   "cell_type": "markdown",
   "metadata": {},
   "source": [
    "Require a fixed point at $v(x,t) \\biggr\\rvert_{x=v_c t} = v_c$ so that\n",
    "\n",
    "$$\n",
    "v_c = v_0(x) + u(t)w(x) \\biggr\\rvert_{x=v_c t} = v_0(v_c t) + u(t) w(v_c t) \\hspace{0.3cm}.\n",
    "$$"
   ]
  },
  {
   "cell_type": "markdown",
   "metadata": {},
   "source": [
    "Now we take $\\frac{d}{d t}$ of both sides:\n",
    "\n",
    "$$\n",
    "0 = \\left( \\frac{\\delta v_0(x)}{\\delta x} \\dot{x} + \\dot{u}(t) w(x) + u(t) \\frac{\\delta w(x)}{\\delta x} \\dot{x} \\right)\\biggr\\rvert_{x=v_c t} \n",
    "$$\n"
   ]
  },
  {
   "cell_type": "markdown",
   "metadata": {},
   "source": [
    "\\begin{equation*}\n",
    "0 = v_c \\left(\\frac{\\delta v_0(x)}{\\delta x} + u(t) \\frac{\\delta w(x)}{\\delta x} \\right) \\biggr\\rvert_{x=v_c t}  + \\dot{u}(t) w(v_c t)\n",
    "\\label{eq:2} \\tag{2}\n",
    "\\end{equation*}"
   ]
  },
  {
   "cell_type": "markdown",
   "metadata": {},
   "source": [
    "Separately, we take $\\frac{\\delta}{\\delta x}$ of (1) and evaluate at $x=v_c t$, yielding"
   ]
  },
  {
   "cell_type": "markdown",
   "metadata": {},
   "source": [
    "\\begin{equation*}\n",
    "    \\frac{\\delta v(x, t)}{\\delta x} \\biggr\\rvert_{x=v_c t} = \\left( \\frac{\\delta v_0(x)}{\\delta x} + u(t) \\frac{\\delta w(x)}{\\delta x} \\right) \\biggr\\rvert_{x=v_c t} \\hspace{0.3cm}.\n",
    "\\label{eq:3} \\tag{3}\n",
    "\\end{equation*}"
   ]
  },
  {
   "cell_type": "markdown",
   "metadata": {},
   "source": [
    "For the fixed velocity attractor to be stable, we require\n",
    "\n",
    "\\begin{equation*}\n",
    "\\frac{\\delta v(x, t)}{\\delta x} \\biggr\\rvert_{x=v_c t} < 0 \\hspace{0.3cm}.\n",
    "\\label{eq:4} \\tag{4}\n",
    "\\end{equation*}"
   ]
  },
  {
   "cell_type": "markdown",
   "metadata": {},
   "source": [
    "Combining (2) and (3) yields"
   ]
  },
  {
   "cell_type": "markdown",
   "metadata": {},
   "source": [
    "$$\n",
    "- v_c \\frac{\\delta v(x, t)}{\\delta x} \\biggr\\rvert_{x=v_c t} =  \\dot{u}(t) w(v_c t) \\hspace{0.3cm}.\n",
    "$$"
   ]
  },
  {
   "cell_type": "markdown",
   "metadata": {},
   "source": [
    "We require that $v_c$ > 0 and use (4) to determine:\n"
   ]
  },
  {
   "cell_type": "markdown",
   "metadata": {},
   "source": [
    "$$\n",
    "\\dot{u}(t) w(v_c t) > 0\n",
    "$$"
   ]
  },
  {
   "cell_type": "markdown",
   "metadata": {},
   "source": [
    "which can always be made true with choice of $w(x)$\n",
    "\n",
    "$$\n",
    "w(x) \\propto \\dot{u}\\left(\\frac{x}{v_c}\\right)\n",
    "$$"
   ]
  }
 ],
 "metadata": {
  "kernelspec": {
   "display_name": "Python 3",
   "language": "python",
   "name": "python3"
  },
  "language_info": {
   "codemirror_mode": {
    "name": "ipython",
    "version": 3
   },
   "file_extension": ".py",
   "mimetype": "text/x-python",
   "name": "python",
   "nbconvert_exporter": "python",
   "pygments_lexer": "ipython3",
   "version": "3.7.6"
  }
 },
 "nbformat": 4,
 "nbformat_minor": 4
}
