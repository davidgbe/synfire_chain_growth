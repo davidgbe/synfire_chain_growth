{
 "cells": [
  {
   "cell_type": "markdown",
   "metadata": {},
   "source": [
    "The aim of this calculation is to demonstrate that a 1-D chain of firing-rate neurons has an attractor state that is parametrized by $V_{th}$, synaptic strength $W$, and a time-constant $\\tau$. We begin with a firing-rate model of the single neuron in which the firing rate of the neuron is written as:"
   ]
  },
  {
   "cell_type": "markdown",
   "metadata": {},
   "source": [
    "$$\n",
    "\\begin{equation*}\n",
    "F(I_s) = \\beta \\left[ I_s - \\gamma \\right]_+\n",
    "\\tag{1}\n",
    "\\end{equation*}\n",
    "$$\n",
    "\n",
    "Here, $\\beta$ is some constant with units of charge$^{-1}$ and $\\gamma$ is proportional to $V_{th}$. The $\\left[ \\right]_+$ denotes half-wave rectification.\n",
    "\n",
    "The synaptic current $I_s$ is written as:\n",
    "\n",
    "$$\n",
    "\\begin{equation*}\n",
    "I_s = \\frac{W}{\\tau} \\int_0^t g(t-t') r_{in}(t') dt'\n",
    "\\tag{2}\n",
    "\\end{equation*}\n",
    "$$\n",
    "\n",
    "Here, $g(t)$ is the conductance kernel, $r_{in}$ is the rate of presynaptic spikes, $W$ is the synapse strength in units of volts, and $\\tau$ is the time constant of synapse."
   ]
  },
  {
   "cell_type": "markdown",
   "metadata": {},
   "source": [
    "$$\n",
    "\\begin{equation*}\n",
    "r_{out}(t) = \\beta \\left[ \\frac{W}{\\tau} \\int_0^t g(t-t') r_{in}(t') dt' - \\gamma \\right]_+\n",
    "\\tag{3}\n",
    "\\end{equation*}\n",
    "$$"
   ]
  },
  {
   "cell_type": "markdown",
   "metadata": {},
   "source": [
    "A fixed point in the dynamics should leave $r(t)$ unchanged from neuron to neuron, so $r_{out}(t) = r_{in}(t - t^*)$, where $t^*$ is the inverse of the propagation speed. Therefore, we write:"
   ]
  },
  {
   "cell_type": "markdown",
   "metadata": {},
   "source": [
    "$$\n",
    "\\begin{equation*}\n",
    "r_{in}(t - t^*) = \\beta \\left[ \\frac{W}{\\tau} \\int_0^t g(t-t') r_{in}(t') dt' - \\gamma \\right]_+\n",
    "\\tag{4}\n",
    "\\end{equation*}\n",
    "$$"
   ]
  },
  {
   "cell_type": "markdown",
   "metadata": {},
   "source": [
    "We assume that prior to $t^*$, the driven neuron should have emitted no spikes. If we assume that $r(t)$ is continuous, then $r_{out}(t^*) = r_{in}(0) = 0$. Therefore:\n",
    "\n",
    "$$\n",
    "\\begin{equation*}\n",
    "r_{in}(0) = 0 = \\beta \\left[ \\frac{W}{\\tau} \\int_0^{t^*} g(t^*-t') r_{in}(t') dt' - \\gamma \\right]\n",
    "\\tag{5}\n",
    "\\end{equation*}\n",
    "$$\n",
    "\n",
    "Here, we have dropped the half-wave rectification.\n",
    "\n",
    "$$\n",
    "\\begin{equation*}\n",
    "\\gamma = \\frac{W}{\\tau} \\int_0^{t^*} g(t^*-t') r_{in}(t') dt'\n",
    "\\tag{6}\n",
    "\\end{equation*}\n",
    "$$\n",
    "\n",
    "This relates the threshold, $r(t)$, and $t^*$.\n",
    "\n"
   ]
  },
  {
   "cell_type": "markdown",
   "metadata": {},
   "source": [
    "Now we resume with equation (4) and make the change of variable $\\bar{t} = t - t^*$. We further drop the subscript on $r_{in}(t)$:\n",
    "\n",
    "$$\n",
    "\\begin{equation*}\n",
    "r(\\bar{t}) = \\beta \\left[ \\frac{W}{\\tau} \\int_0^{t^* + \\bar{t}} g(t^* + \\bar{t} -t') r(t') dt' - \\gamma \\right]_+\n",
    "\\tag{7}\n",
    "\\end{equation*}\n",
    "$$"
   ]
  },
  {
   "cell_type": "markdown",
   "metadata": {},
   "source": [
    "Here, we consider the specific conductance kernel:\n",
    "$$ g(t - t') = \\alpha (t - t') e^{-(t - t')/\\tau} \\Theta(t - t') $$"
   ]
  },
  {
   "cell_type": "markdown",
   "metadata": {},
   "source": [
    "$\\frac{d r_{in}(\\bar{t})}{d\\bar{t}}$ is defined for $\\bar{t} > 0$, so we take the derivative of both sides of (7)."
   ]
  },
  {
   "cell_type": "markdown",
   "metadata": {},
   "source": [
    "$$ \\dot{r}(\\bar{t}) = \\frac{\\beta W}{\\tau} \\frac{d}{d\\bar{t}} \\int_0^{t^* + \\bar{t}} g(t^* + \\bar{t} -t') r(t') dt' $$"
   ]
  },
  {
   "cell_type": "markdown",
   "metadata": {},
   "source": [
    "Here, we apply the Leibniz integral rule to swap the order of derivative and integral:"
   ]
  },
  {
   "cell_type": "markdown",
   "metadata": {},
   "source": [
    "$$ \\dot{r}(\\bar{t}) = \\frac{\\beta W}{\\tau} \\left[ g(0) \\, r(t^* + \\bar{t}) \\frac{d}{d\\bar{t}}(t^* + \\bar{t})  - g(t^* + \\bar{t}) \\, r(0) \\frac{d}{d\\bar{t}}(0) + \\int_0^{t^* + \\bar{t}} \\frac{d}{d\\bar{t}} \\left( g(t^* + \\bar{t} -t') r(t') \\right) dt' \\right]$$"
   ]
  },
  {
   "cell_type": "markdown",
   "metadata": {},
   "source": [
    "The first two terms are zero, leaving:\n",
    "\n",
    "$$ \\dot{r}(\\bar{t}) = \\frac{\\beta W}{\\tau} \\int_0^{t^* + \\bar{t}} \\frac{d}{d\\bar{t}} \\left( g(t^* + \\bar{t} -t') r(t') \\right) dt' $$"
   ]
  },
  {
   "cell_type": "markdown",
   "metadata": {},
   "source": [
    "Now we compute:\n",
    "\n",
    "$$ \\frac{d}{d\\bar{t}} g(t^* + \\bar{t} -t')  = \\alpha \\left( 1 - \\frac{t^* + \\bar{t} - t'}{\\tau} \\right) e^{-(t^* + \\bar{t} - t') / \\tau} = \\alpha e^{-(t^* + \\bar{t} - t') / \\tau} - \\frac{1}{\\tau} g(t^* + \\bar{t} -t')$$"
   ]
  },
  {
   "cell_type": "markdown",
   "metadata": {},
   "source": [
    "$$ \\dot{r}(\\bar{t}) = \\frac{\\beta W}{\\tau} \\int_0^{t^* + \\bar{t}} \\left( \\alpha e^{-(t^* + \\bar{t} - t') / \\tau} - \\frac{1}{\\tau} g(t^* + \\bar{t} -t') \\right) r(t') dt' $$"
   ]
  },
  {
   "cell_type": "markdown",
   "metadata": {},
   "source": [
    "$$ \\dot{r}(\\bar{t}) = \\frac{\\beta W \\alpha}{\\tau} \\int_0^{t^* + \\bar{t}} e^{-(t^* + \\bar{t} - t') / \\tau} r(t') dt' - \\frac{\\beta W}{\\tau^2} \\int_0^{t^* + \\bar{t}} g(t^* + \\bar{t} -t') r(t') dt' $$"
   ]
  },
  {
   "cell_type": "markdown",
   "metadata": {},
   "source": [
    "We may replace part of the second term with $r(\\bar{t})$ using (7):\n",
    "\n",
    "$$ \\dot{r}(\\bar{t}) = \\frac{\\beta W \\alpha}{\\tau} \\int_0^{t^* + \\bar{t}} e^{-(t^* + \\bar{t} - t') / \\tau} r(t') dt' - \\frac{r(\\bar{t})}{\\tau}  $$"
   ]
  },
  {
   "cell_type": "markdown",
   "metadata": {},
   "source": [
    "$$\n",
    "\\begin{equation*}\n",
    "\\dot{r}(\\bar{t}) + \\frac{r(\\bar{t})}{\\tau} = \\frac{\\beta W \\alpha}{\\tau} \\int_0^{t^* + \\bar{t}} e^{-(t^* + \\bar{t} - t') / \\tau} r(t') dt'\n",
    "\\tag{8}\n",
    "\\end{equation*}\n",
    "$$"
   ]
  },
  {
   "cell_type": "markdown",
   "metadata": {},
   "source": [
    "Now, we take $\\frac{d}{d\\bar{t}}$ again:\n",
    "\n",
    "$$ \\ddot{r}(\\bar{t}) + \\frac{\\dot{r}(\\bar{t})}{\\tau} = \\frac{\\beta W \\alpha}{\\tau} \\frac{d}{d\\bar{t}} \\int_0^{t^* + \\bar{t}} e^{-(t^* + \\bar{t} - t') / \\tau} r(t') dt'  $$"
   ]
  },
  {
   "cell_type": "markdown",
   "metadata": {},
   "source": [
    "We again apply the integral rule:"
   ]
  },
  {
   "cell_type": "markdown",
   "metadata": {},
   "source": [
    "$$ \\ddot{r}(\\bar{t}) + \\frac{\\dot{r}(\\bar{t})}{\\tau} = \\frac{\\beta W \\alpha}{\\tau} \\left[ r(t^* + \\bar{t}) +  \\int_0^{t^* + \\bar{t}} \\frac{d}{d\\bar{t}} \\left(e^{-(t^* + \\bar{t} - t') / \\tau} r(t') \\right) dt' \\right]  $$\n",
    "\n",
    "$$ \\ddot{r}(\\bar{t}) + \\frac{\\dot{r}(\\bar{t})}{\\tau} = \\frac{\\beta W \\alpha}{\\tau} \\left[ r(t^* + \\bar{t}) - \\frac{1}{\\tau}  \\int_0^{t^* + \\bar{t}} e^{-(t^* + \\bar{t} - t') / \\tau} r(t') dt' \\right]  $$"
   ]
  },
  {
   "cell_type": "markdown",
   "metadata": {},
   "source": [
    "Now we may use (8) to replace the final integral, giving:\n",
    "\n",
    "$$ \\ddot{r}(\\bar{t}) + \\frac{\\dot{r}(\\bar{t})}{\\tau} = \\frac{\\beta W \\alpha}{\\tau} r(t^* + \\bar{t}) - \\frac{\\beta W \\alpha}{\\tau^2}  \\int_0^{t^* + \\bar{t}} e^{-(t^* + \\bar{t} - t') / \\tau} r(t') dt'   $$"
   ]
  },
  {
   "cell_type": "markdown",
   "metadata": {},
   "source": [
    "$$ \\ddot{r}(\\bar{t}) + \\frac{\\dot{r}(\\bar{t})}{\\tau} = \\frac{\\beta W \\alpha}{\\tau} r(t^* + \\bar{t}) - \\frac{1}{\\tau} \\left( \\dot{r}(\\bar{t}) + \\frac{r(\\bar{t})}{\\tau} \\right) $$"
   ]
  },
  {
   "cell_type": "markdown",
   "metadata": {},
   "source": [
    "$$ \\ddot{r}(\\bar{t}) + 2 \\frac{\\dot{r}(\\bar{t})}{\\tau} + \\frac{r(\\bar{t})}{\\tau^2} = \\frac{\\beta W \\alpha}{\\tau} r(t^* + \\bar{t}) $$"
   ]
  },
  {
   "cell_type": "code",
   "execution_count": null,
   "metadata": {},
   "outputs": [],
   "source": []
  }
 ],
 "metadata": {
  "kernelspec": {
   "display_name": "Python 3",
   "language": "python",
   "name": "python3"
  },
  "language_info": {
   "codemirror_mode": {
    "name": "ipython",
    "version": 3
   },
   "file_extension": ".py",
   "mimetype": "text/x-python",
   "name": "python",
   "nbconvert_exporter": "python",
   "pygments_lexer": "ipython3",
   "version": "3.7.6"
  }
 },
 "nbformat": 4,
 "nbformat_minor": 4
}
