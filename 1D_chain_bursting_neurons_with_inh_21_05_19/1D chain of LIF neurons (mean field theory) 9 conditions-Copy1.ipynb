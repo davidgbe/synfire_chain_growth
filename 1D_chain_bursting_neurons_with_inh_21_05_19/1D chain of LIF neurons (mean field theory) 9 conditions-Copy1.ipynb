{
 "cells": [
  {
   "cell_type": "markdown",
   "metadata": {},
   "source": [
    "## Derivation of propagation speed of a spike propagating through a 1D chain of excitatory neurons coupled to recurrent inhibition"
   ]
  },
  {
   "cell_type": "markdown",
   "metadata": {},
   "source": [
    "### Overview\n",
    "The aim is to solve exactly a simple network in which excitatory cells are coupled in a 1-D manner and a single inhibitory cell is recurrently coupled to all excitatory cells."
   ]
  },
  {
   "cell_type": "markdown",
   "metadata": {},
   "source": [
    "### Single cell model"
   ]
  },
  {
   "cell_type": "markdown",
   "metadata": {},
   "source": [
    "Consider a 1-D chain of bursting neurons coupled to a single inhibitory cell. The governing equations for the dynamics of each individual cell are:\n",
    "\n",
    "\\begin{equation*}\n",
    "\\dot{V}(t) = -\\frac{V(t)}{\\tau_m} + \\frac{I(t)}{C}\n",
    "\\label{eq:single_membrane} \\tag{1}\n",
    "\\end{equation*}\n",
    "\n",
    "where $V(t)$ is the membrane potential, $\\tau_m$ is the membrane time constant, $I(t)$ is the external current, and $C$ is the membrane capacitance."
   ]
  },
  {
   "cell_type": "markdown",
   "metadata": {},
   "source": [
    "If neuron 1 is connected to neuron 2 by directional weight $w$, then the spike from 1 elicits current $I_{s}(t)$ in cell 2, where $I_{s}$ is given by:\n",
    "\n",
    "\\begin{equation*}\n",
    "I_{s}(t) = w \\frac{t}{\\tau_{\\alpha}} e^{-t/\\tau_{\\alpha}} \\Theta (t)\n",
    "\\label{eq:single_spike_current} \\tag{2}\n",
    "\\end{equation*}\n",
    "\n",
    "where $\\Theta$ is the Heaviside function. Notice that $w$ carries units of current here."
   ]
  },
  {
   "cell_type": "markdown",
   "metadata": {},
   "source": [
    "### Constant current approximation"
   ]
  },
  {
   "cell_type": "markdown",
   "metadata": {},
   "source": [
    "If neuron 1 fires at a consistent rate $f$, such that $1/f$ is proportional to or less the $\\tau_{\\alpha}$, the current in cell 2 will saturate at:\n",
    "\n",
    "$$ I_{const} = w \\tau_{\\alpha} f $$\n",
    "\n",
    "This is the constant current approximation. Further, the following equation is a reasonable approximation of the current as the cell is driven:\n",
    "\n",
    "\\begin{equation*}\n",
    "I_{rise}(t) = w \\tau_{\\alpha} f \\left(1 - e^{-t/\\tau_{\\alpha}}\\right)\n",
    "\\label{eq:current_approx}\n",
    "\\end{equation*}"
   ]
  },
  {
   "cell_type": "markdown",
   "metadata": {},
   "source": [
    "Therefore, a cell receiving $n$ spikes at frequency $f$ with the first spike occuring at $t=0$ will have the following current input:\n"
   ]
  },
  {
   "cell_type": "markdown",
   "metadata": {},
   "source": [
    "\\begin{equation*}\n",
    "I(t) = \\begin{cases} \n",
    "    w \\tau_{\\alpha} f \\left(1 - e^{-t / \\tau_{\\alpha}}\\right) & t \\leq \\frac{n}{f} \\\\\n",
    "    w \\tau_{\\alpha} f \\left(1 - e^{-n / (f \\tau_{\\alpha})}\\right) e^{-(t - \\frac{n}{f}) / \\tau_{\\alpha}} & t \\gt \\frac{n}{f} \\\\\n",
    "\\end{cases}\n",
    "\\label{eq:current_approx_rising_and_falling} \\tag{3}\n",
    "\\end{equation*}"
   ]
  },
  {
   "cell_type": "markdown",
   "metadata": {},
   "source": [
    "### Calculating number of output spikes"
   ]
  },
  {
   "cell_type": "markdown",
   "metadata": {},
   "source": [
    "Typically, the excusion of the membrane potential due to an input current $I(t)$ is:\n",
    "\n",
    "$$\n",
    "V(t) = \\frac{1}{C} \\int_{0}^{t} I(t') e^{(t-t')/\\tau_{m}} dt'\n",
    "$$\n",
    "\n",
    "until $V(t) = V_{th}$, at which point the voltage is reset.\n",
    "\n",
    "For a first order solution, we take the membrane constant $\\tau_m$ to be large compared to $t - t'$, allowing us to approximate $V(t)$ as:\n",
    "\n",
    "$$\n",
    "V(t) \\approx \\frac{1}{C} \\int_{0}^{t} I(t') dt'\n",
    "$$\n",
    "\n",
    "The ouput spikes due to input current $I(t)$, then, is:\n",
    "\n",
    "$$\n",
    "n' = \\frac{1}{C V_{th}} \\int_0^{\\inf} I(t') dt'\n",
    "$$\n",
    "\n",
    "Here, the integral is written with upper bound $\\inf$, but it is understood the approximation only holds if $I(t)$ is non-zero for a duration comparable to $\\tau_m$ or less.\n",
    "\n",
    "The number of output spikes due to $n$ input spikes at frequency $f$ is then:\n",
    "\n",
    "$$\n",
    "n' = \\frac{1}{C V_{th}} \\int_0^{\\inf} I(t') dt'\n",
    "$$\n",
    "\n",
    "$$\n",
    "= \\frac{w \\tau_{\\alpha} f}{C V_{th}} \\left[\\int_0^{n/f} \\left(1 - e^{-t / \\tau_{\\alpha}}\\right)dt + \\int_{n/f}^{\\inf} \\left(1 - e^{-n / (f \\tau_{\\alpha})}\\right) e^{-(t - \\frac{n}{f}) / \\tau_{\\alpha}} dt \\right]\n",
    "$$"
   ]
  },
  {
   "cell_type": "markdown",
   "metadata": {},
   "source": [
    "$$\n",
    "= \\frac{w \\tau_{\\alpha} f}{C V_{th}} \\left[ \\left(\\frac{n}{f} + \\tau_{\\alpha} (e^{-n/(f \\tau_{\\alpha})} - 1) \\right) + \\tau_{\\alpha}\\left(1 - e^{-n / (f \\tau_{\\alpha})}\\right) \\right]\n",
    "$$"
   ]
  },
  {
   "cell_type": "markdown",
   "metadata": {},
   "source": [
    "\\begin{equation*}\n",
    "n' = \\frac{w \\tau_{\\alpha} n}{C V_{th}}\n",
    "\\label{eq:input_output_spike_relation} \\tag{4}\n",
    "\\end{equation*}"
   ]
  },
  {
   "cell_type": "markdown",
   "metadata": {},
   "source": [
    "This calculation, of course, is limited in that it does not calculate exactly when these spikes occur. For the time being, we will assume the spikes emitted from a drive cell always occur at frequency $f_e$."
   ]
  },
  {
   "cell_type": "markdown",
   "metadata": {},
   "source": [
    "### Considering a 1D chain without inhibition"
   ]
  },
  {
   "cell_type": "markdown",
   "metadata": {},
   "source": [
    "From equation (4), we see that a chain without inhibition only supports one fixed points in its dynamics. This occurs when:"
   ]
  },
  {
   "cell_type": "markdown",
   "metadata": {},
   "source": [
    "\\begin{equation*}\n",
    "\\frac{w \\tau_{\\alpha}}{C V_e^{th}} = 1\n",
    "\\label{eq:input_output_spike_relation_1D}\n",
    "\\end{equation*}"
   ]
  },
  {
   "cell_type": "markdown",
   "metadata": {},
   "source": [
    "Otherwise, the number of spikes will continue to grow or decrease as the excitation propagates along the chain."
   ]
  },
  {
   "cell_type": "markdown",
   "metadata": {},
   "source": [
    "### Adding inhibition"
   ]
  },
  {
   "cell_type": "markdown",
   "metadata": {},
   "source": [
    "We now consider an inhibitory cell that receives afferents from all excitatory cells organized in a 1D chain. The average spiking activity this cell receives is:\n",
    "\n",
    "$$\n",
    "f_{e->i} = \\frac{n}{t^*_e},\n",
    "$$\n",
    "\n",
    "where $n$ is the number of spikes per excitatory cell and $t^*_e$ is the average latency in the first spike time of two adjacent neurons in the chain. "
   ]
  },
  {
   "cell_type": "markdown",
   "metadata": {},
   "source": [
    "Invoking the constant current approximation, the average current recieved is:\n",
    "\n",
    "$$\n",
    "I_{e->i} = w_{e->i} \\tau_{\\alpha} f_{e->i}\n",
    "$$\n",
    "\n",
    "$$\n",
    "= \\frac{w_{e->i} \\tau_{\\alpha} n}{t^*_e}\n",
    "$$"
   ]
  },
  {
   "cell_type": "markdown",
   "metadata": {},
   "source": [
    "To calculate the average firing rate of the I cell, we begin with the equation for the voltage of a current-coupled neuron driven by a constant current:\n",
    "\n",
    "$$ V(t) = \\frac{1}{C_i}\\int_{0}^{t} e^{-(t-t')/\\tau_m} I_{e->i} dt'$$"
   ]
  },
  {
   "cell_type": "markdown",
   "metadata": {},
   "source": [
    "\\begin{equation*}\n",
    "V_{i}^{th} = \\frac{I_{e->i}}{C_i} \\tau_m \\left(1 - e^{-t/\\tau_m}\\right)\n",
    "\\label{eq:steady_state_voltage} \\tag{5}\n",
    "\\end{equation*}"
   ]
  },
  {
   "cell_type": "markdown",
   "metadata": {},
   "source": [
    "This implies the average time to fire is:\n",
    "\n",
    "$$ t^*_i = -\\tau_m \\log \\left( 1 - \\frac{V_{i}^{th} C_i}{I_{e->i} \\tau_m} \\right) $$\n",
    "\n",
    "This implies firing rate $f_i$:\n",
    "\n",
    "$$ f_i = \\frac{-1}{\\tau_m \\log \\left( 1 - \\frac{V_{i}^{th} C_i t^*_e}{w_{e->i} \\tau_{\\alpha} n \\tau_m} \\right)} $$"
   ]
  },
  {
   "cell_type": "markdown",
   "metadata": {},
   "source": [
    "This may be approximated effectively as:\n",
    "\n",
    "\\begin{equation*}\n",
    "f_i = \\begin{cases}\n",
    "    0 & x \\leq 1 \\\\\n",
    "    \\frac{1}{\\tau_m log(2)} + \\frac{1}{2 \\tau_m log^2(2)} \\left(x-2\\right) & x \\gt 1 \\\\\n",
    "\\end{cases}\n",
    "\\label{eq:f_i_approx} \\tag{6}\n",
    "\\end{equation*}\n",
    "\n",
    "where\n",
    "\n",
    "$$\n",
    "x = \\frac{w_{e->i} \\tau_{\\alpha} n \\tau_m}{V_{i}^{th} C_i t^*_e}.\n",
    "$$"
   ]
  },
  {
   "cell_type": "markdown",
   "metadata": {},
   "source": [
    "### Calculation of inter-layer first spike latency and spikes per layer"
   ]
  },
  {
   "cell_type": "markdown",
   "metadata": {},
   "source": [
    "We assume a given excitatory cell in our 1D chain has been driven a long time by spiking activity from the inhibitory cell. Extrapolating from equation (5), the steady-state voltage of an excitatory cell will be:\n",
    "\n",
    "$$\n",
    "V_e = V_{e, 0} + \\frac{I_{i->e} \\tau_m}{C} = V_{e, 0} + \\frac{w_{i->e} f_i \\tau_{\\alpha} \\tau_m}{C}\n",
    "$$\n",
    "\n",
    "Here, it is assumed that $w_{i->e}$ is negative so that it lowers the steady-state voltage of the cell."
   ]
  },
  {
   "cell_type": "markdown",
   "metadata": {},
   "source": [
    "When an excitatory cell is driven by a spike train of $n$ spikes at frequency $f$, we can calculate the time to first spike of the driven cell (relative to the start of the incoming spike train) by examining the time-to-threshold of the driven cell:\n",
    "\n",
    "\\begin{equation*}\n",
    "V(t^*) = V_{e}^{th} = V_{e, 0} + \\frac{w_{i->e} f_i \\tau_{\\alpha} \\tau_m}{C} + \\frac{1}{C}  \\int_0^{t^*_e} I_{e->e}(t') dt'\n",
    "\\label{eq:t_star det step 0} \\tag{7}\n",
    "\\end{equation*}\n",
    "\n",
    "We now assume $t^* < \\frac{n}{f}$, permitting us to use the first case of equation (3). We further set $V_{e, 0} = 0$. Equation (7) then becomes:"
   ]
  },
  {
   "cell_type": "markdown",
   "metadata": {},
   "source": [
    "\\begin{equation*}\n",
    "V_{e}^{th} = \\frac{w_{i->e} f_i \\tau_{\\alpha} \\tau_m }{C} + \\frac{w_{e->e} \\tau_{\\alpha} f_e}{C} \\int_0^{t^*_e} (1 - e^{-t' / \\tau_{\\alpha}}) dt'\n",
    "\\label{eq:t_star det step 1}\n",
    "\\end{equation*}"
   ]
  },
  {
   "cell_type": "markdown",
   "metadata": {},
   "source": [
    "\\begin{equation*}\n",
    "V_{e}^{th} = \\frac{w_{i->e} f_i \\tau_{\\alpha} \\tau_m }{C} + \\frac{w_{e->e} \\tau_{\\alpha} f_e}{C}  \\left(t^*_e - \\tau_{\\alpha} (e^{-t^*_e / \\tau_{\\alpha}} - 1) \\right)\n",
    "\\label{eq:t_star det step 2}\n",
    "\\end{equation*}"
   ]
  },
  {
   "cell_type": "markdown",
   "metadata": {},
   "source": [
    "\\begin{equation*}\n",
    "C V_{e}^{th} = w_{i->e} f_i \\tau_{\\alpha} \\tau_m + w_{e->e} \\tau_{\\alpha} f_e \\left(t^*_e + \\tau_{\\alpha} - \\tau_{\\alpha} e^{-t^*_e / \\tau_{\\alpha}}) \\right)\n",
    "\\label{eq:t_star det step 3} \\tag{8}\n",
    "\\end{equation*}"
   ]
  },
  {
   "cell_type": "markdown",
   "metadata": {},
   "source": [
    "To calculate spikes per layer with inhibition present, we recall equation (4) and send $V^{th}_e \\rightarrow V^{th}_e - \\frac{w_{i->e} f_i \\tau_{\\alpha} \\tau_m}{C} $, yielding:"
   ]
  },
  {
   "cell_type": "markdown",
   "metadata": {},
   "source": [
    "\\begin{equation*}\n",
    "n' = \\frac{w \\tau_{\\alpha} n}{C \\left(V^{th}_e - \\frac{w_{i->e} f_i \\tau_{\\alpha} \\tau_m}{C} \\right)}\n",
    "\\label{eq:input_output_spike_with_inh} \\tag{9}\n",
    "\\end{equation*}"
   ]
  },
  {
   "cell_type": "markdown",
   "metadata": {},
   "source": [
    "Recalling that $f_{i} = f_{i}(n, t^*)$, equations (6), (8), and (9) now fully determine $n'$ and $t^*$ for a given $n$. To make such a calculation tractable, we assume that $x > 1$ in (6) (the inhibitory cell will never fire if this is not true). Then the average current from the inhibitory cell into an excitatory cell is"
   ]
  },
  {
   "cell_type": "markdown",
   "metadata": {},
   "source": [
    "\n",
    "\\begin{equation*}\n",
    "\\tau_m f_i(n, t^*_e) = \\left[ \\frac{\\log(2) - 1}{ \\log^2(2)} +\n",
    "\\frac{1}{2 \\log^2(2)} \\left(\\frac{w_{e->i} \\tau_{\\alpha} n \\tau_m}{V_{i}^{th} C_i t^*_e}\\right) \\right]\n",
    "\\label{dimless_f_i_expansion} \\tag{10}\n",
    "\\end{equation*}"
   ]
  },
  {
   "cell_type": "markdown",
   "metadata": {},
   "source": [
    "Inserting into (8), we have:"
   ]
  },
  {
   "cell_type": "markdown",
   "metadata": {},
   "source": [
    "\\begin{equation*}\n",
    "C V_{e}^{th} =\n",
    "\\frac{w_{i->e} \\tau_{\\alpha}}{ \\log^2(2)} \\left[\\log(2) - 1 +\n",
    "\\frac{1}{2} \\left(\\frac{w_{e->i} \\tau_{\\alpha} n \\tau_m}{V_{i}^{th} C_i t^*_e}\\right) \\right]\n",
    "+ w_{e->e} \\tau_{\\alpha} f_e \\left(t^*_e + \\tau_{\\alpha} - \\tau_{\\alpha} e^{-t^*_e / \\tau_{\\alpha}}) \\right)\n",
    "\\label{eq:final t_star det} \\tag{11}\n",
    "\\end{equation*}"
   ]
  },
  {
   "cell_type": "markdown",
   "metadata": {},
   "source": [
    "This equation may be numerically solved to determine $t^*_e$.\n",
    "\n",
    "Once $t^*_e$ has been calculated, $n'$ may be determined from equation (9)."
   ]
  },
  {
   "cell_type": "markdown",
   "metadata": {},
   "source": [
    "Note that these equations can be further simplified if one is only interested in the fixed point of the spiking activity, i.e. when $n = n'$."
   ]
  },
  {
   "cell_type": "markdown",
   "metadata": {},
   "source": [
    "## Equations for numerical calculatons"
   ]
  },
  {
   "cell_type": "code",
   "execution_count": 7,
   "metadata": {},
   "outputs": [],
   "source": [
    "# EQUATION (10)\n",
    "# multiplied by tau_m, so dimensionless\n",
    "def f_i(n_in, t_star, params):\n",
    "    p = params\n",
    "    x = (p['w_ei'] * p['tau_a'] * n_in * p['tau_m'] / (p['v_th_i'] * p['c_i'] * t_star))\n",
    "    if x < 1:\n",
    "        return 0\n",
    "    return -1 / (p['tau_m'] * np.log(1-1/x))"
   ]
  },
  {
   "cell_type": "code",
   "execution_count": 8,
   "metadata": {},
   "outputs": [],
   "source": [
    "# EQUATION (8)\n",
    "def n_t_star_relation(t_star, n_in, params):\n",
    "    p = params\n",
    "    term_1 = - p['c_e'] * p['v_th_e']\n",
    "    term_2 = p['w_ie'] * p['tau_a'] * f_i(n_in, t_star, params)\n",
    "    term_3 = p['w_ee'] * p['tau_a'] * p['f_e'] * (t_star + p['tau_a'] - p['tau_a'] * np.exp(- t_star / p['tau_a']))\n",
    "    eq = term_1 + term_2 + term_3\n",
    "    return eq"
   ]
  },
  {
   "cell_type": "code",
   "execution_count": 9,
   "metadata": {},
   "outputs": [],
   "source": [
    "# EQUATION (9)\n",
    "def calc_n_out(n_in, t_star, params):\n",
    "    p = params\n",
    "    n_out = p['w_ee'] * p['tau_a'] * n_in / (p['c_e'] * p['v_th_e'] - p['w_ie'] * f_i(n_in, t_star, params) * p['tau_a'])\n",
    "    return n_out"
   ]
  },
  {
   "cell_type": "code",
   "execution_count": 10,
   "metadata": {},
   "outputs": [],
   "source": [
    "def calc_analytical_preds(n_in, params):\n",
    "    n_out = []\n",
    "    t_star = []\n",
    "    \n",
    "    for n in n_in:\n",
    "        f = partial(n_t_star_relation, n_in=n, params=params)\n",
    "        sol = fsolve(f, 1e-3)\n",
    "        t_star.append(sol[0])\n",
    "        n_out.append(calc_n_out(n, t_star[-1], params=params))\n",
    "    return np.array(n_out), np.array(t_star)"
   ]
  },
  {
   "cell_type": "markdown",
   "metadata": {},
   "source": [
    "### Calculation of stable values of p for different values of recurrent inhibition"
   ]
  },
  {
   "cell_type": "code",
   "execution_count": 11,
   "metadata": {},
   "outputs": [],
   "source": [
    "%matplotlib inline\n",
    "from copy import deepcopy as copy\n",
    "import matplotlib.gridspec as gridspec\n",
    "import matplotlib.pyplot as plt\n",
    "import matplotlib\n",
    "import numpy as np\n",
    "from scipy import stats\n",
    "from scipy.optimize import fsolve\n",
    "import scipy.io as sio\n",
    "import pandas as pd\n",
    "from tqdm import tqdm\n",
    "import pickle\n",
    "from collections import OrderedDict\n",
    "import os\n",
    "from scipy.ndimage.interpolation import shift\n",
    "from functools import reduce\n",
    "import time\n",
    "from ntwk import LIFNtwkI\n",
    "from aux import *\n",
    "import matplotlib.gridspec as gridspec\n",
    "import matplotlib.pyplot as plt\n",
    "from functools import partial\n",
    "\n",
    "import warnings\n",
    "warnings.filterwarnings(\"ignore\", category=RuntimeWarning) "
   ]
  },
  {
   "cell_type": "code",
   "execution_count": 12,
   "metadata": {},
   "outputs": [],
   "source": [
    "dt = 5e-5\n",
    "tau_m_e = 4e-3\n",
    "tau_m_i = 4e-3\n",
    "tau_a = 1.6e-3\n",
    "v_th_e = 20e-3\n",
    "v_th_i = 20e-3\n",
    "c_e = 1e-6\n",
    "c_i = 1e-6\n",
    "f_e = 130\n",
    "\n",
    "w_ee = 2.4e-4\n",
    "w_ei = 0.5e-5\n",
    "w_ie = -3e-5"
   ]
  },
  {
   "cell_type": "code",
   "execution_count": 13,
   "metadata": {},
   "outputs": [],
   "source": [
    "# PARAMS\n",
    "## NEURON AND NETWORK MODEL\n",
    "M = Generic(\n",
    "    # Excitatory membrane\n",
    "    C_M_E=1e-6,  # membrane capacitance\n",
    "    G_L_E=.1e-3,  # membrane leak conductance (T_M (s) = C_M (F/cm^2) / G_L (S/cm^2))\n",
    "    E_L_E=-.07,  # membrane leak potential (V)\n",
    "    V_TH_E=-.05,  # membrane spike threshold (V)\n",
    "    T_R_E=0.5e-3,  # refractory period (s)\n",
    "    T_R_I=0,\n",
    "    E_R_E=-0.07, # reset voltage (V)\n",
    "    \n",
    "    # Inhibitory membrane\n",
    "    #C_M_I=1e-6,\n",
    "    #G_L_E=.1e-3, \n",
    "    #E_L_I=-.06,\n",
    "    #V_TH_E=-.05,\n",
    "    #T_R_I=.002,\n",
    "    \n",
    "    N_EXC=250,\n",
    "    N_INH=1,\n",
    "    \n",
    "    # OTHER INPUTS\n",
    "    SGM_N=0,  # noise level (A*sqrt(s))\n",
    "    I_EXT_B=0,  # additional baseline current input\n",
    "    \n",
    "    W_E_E = w_ee,\n",
    "    W_E_I = w_ei, #0.2e-5, #1e-5,\n",
    "    W_I_E = w_ie,\n",
    "    W_U_E = 0,\n",
    "    W_U_I = 0, #1e-1,\n",
    "    \n",
    "    F_IN = 500,\n",
    "    SIGMA_IN = 10e-3,\n",
    "    \n",
    "    F_B = 5e3,\n",
    "    T_B = 15e-3,\n",
    ")\n",
    "\n",
    "tau_m = 10e-3\n",
    "\n",
    "t_r = M.T_R_E * np.ones((M.N_EXC + M.N_INH))\n",
    "t_r[-1] = M.T_R_I"
   ]
  },
  {
   "cell_type": "code",
   "execution_count": 17,
   "metadata": {},
   "outputs": [],
   "source": [
    "np.random.seed(2002)\n",
    "\n",
    "def speed_test(M, buffer=200):\n",
    "    w_r = np.block([\n",
    "        [ M.W_E_E * np.diag(np.ones((M.N_EXC - 1)), k=-1), M.W_I_E * np.ones((M.N_EXC, M.N_INH)) ],\n",
    "        [ M.W_E_I * np.ones((M.N_INH, M.N_EXC)), np.zeros((M.N_INH, M.N_INH)) ],\n",
    "    ])\n",
    "\n",
    "    w_u = np.block([\n",
    "        [ np.array([M.W_U_E]), np.zeros((1)) ],\n",
    "        [ np.zeros((M.N_EXC - 1, 2)) ],\n",
    "        [ np.zeros((M.N_INH, 1)), M.W_U_I * np.ones((M.N_INH, 1)) ],\n",
    "    ])\n",
    "\n",
    "    i_b = np.zeros((M.N_EXC + M.N_INH), dtype=int)\n",
    "\n",
    "    ntwk = LIFNtwkI(\n",
    "        c_m = M.C_M_E,\n",
    "        g_l = M.G_L_E,\n",
    "        e_l = M.E_L_E,\n",
    "        v_th = M.V_TH_E,\n",
    "        v_r = M.E_R_E,\n",
    "        t_r = t_r,\n",
    "        w_r = w_r,\n",
    "        w_u = w_u,\n",
    "        i_b = i_b,\n",
    "        f_b = M.F_B,\n",
    "        t_b = M.T_B,\n",
    "        t_a = tau_a,\n",
    "    )\n",
    "\n",
    "    S = Generic(RNG_SEED=0, T=0.62, DT=dt)\n",
    "    t = np.arange(0, S.T, S.DT)\n",
    "\n",
    "    spks_u = np.zeros((len(t), 2), dtype=int)\n",
    "    \n",
    "    clamp_input_spks = {}\n",
    "    \n",
    "    driving_pulse = np.random.poisson(lam=m.F_IN * dt, size=int(M.SIGMA_IN / dt))\n",
    "    for i, val in enumerate(driving_pulse):\n",
    "        if val == 1:\n",
    "            clamp_input_spks[i * dt] = [0]\n",
    "\n",
    "    rsp = ntwk.run(\n",
    "        dt=S.DT,\n",
    "        clamp=Generic(v={0: M.E_L_E * np.ones((M.N_EXC + M.N_INH))}, spk=clamp_input_spks),\n",
    "        i_ext=np.zeros(len(t)),\n",
    "        spks_u=spks_u)\n",
    "\n",
    "    raster = np.stack([rsp.spks_t, rsp.spks_c])\n",
    "    inh_raster = raster[:, raster[1, :] >= M.N_EXC]\n",
    "    exc_raster = raster[:, raster[1, :] < M.N_EXC]\n",
    "    \n",
    "    parsed_exc_raster = exc_raster[:, exc_raster[0, :] >= buffer * S.DT]\n",
    "    try:\n",
    "        res = stats.linregress(parsed_exc_raster[0, :], parsed_exc_raster[1, :])\n",
    "    except ValueError as e:\n",
    "        return (np.nan, raster)\n",
    "    \n",
    "    return res.slope, raster"
   ]
  },
  {
   "cell_type": "code",
   "execution_count": 18,
   "metadata": {},
   "outputs": [],
   "source": [
    "def get_equally_spaced_colors(n, cmap='autumn'):\n",
    "    cmap = plt.get_cmap(cmap)\n",
    "    colors = cmap(np.linspace(0, 1, n))\n",
    "    return [matplotlib.colors.rgb2hex(rgba) for rgba in colors]\n",
    "\n",
    "all_colors = get_equally_spaced_colors(50)"
   ]
  },
  {
   "cell_type": "code",
   "execution_count": null,
   "metadata": {
    "scrolled": false
   },
   "outputs": [
    {
     "name": "stdout",
     "output_type": "stream",
     "text": [
      "w_ee: 0.00025, w_ei: 2.5e-06\n",
      "w_ee: 0.00025, w_ei: 5e-06\n",
      "w_ee: 0.00025, w_ei: 7.5e-06\n",
      "w_ee: 0.00035, w_ei: 2.5e-06\n",
      "w_ee: 0.00035, w_ei: 5e-06\n",
      "w_ee: 0.00035, w_ei: 7.5e-06\n",
      "w_ee: 0.00045, w_ei: 2.5e-06\n",
      "w_ee: 0.00045, w_ei: 5e-06\n"
     ]
    }
   ],
   "source": [
    "data = []\n",
    "\n",
    "w_ee_vals = [0.25e-3, 0.35e-3, 0.45e-3]\n",
    "w_ei_vals = [0.25e-5, 0.5e-5, 0.75e-5]\n",
    "\n",
    "for j, w_ee in enumerate(w_ee_vals):\n",
    "    all_p = []\n",
    "    rasters = []\n",
    "    for i, w_ei in enumerate(w_ei_vals):\n",
    "        m = copy(M)\n",
    "        m.W_E_E = w_ee\n",
    "        m.W_E_I = w_ei\n",
    "        print(f'w_ee: {w_ee}, w_ei: {w_ei}')\n",
    "        all_p.append([])\n",
    "        rasters.append([])\n",
    "        for i in range(10):\n",
    "            p_stable, parsed_raster = speed_test(m)\n",
    "            all_p[-1].append(p_stable)\n",
    "            rasters[-1].append(parsed_raster)\n",
    "    data.append((w_ee, w_ei_vals, all_p, rasters))\n",
    "\n",
    "# plt.show()"
   ]
  },
  {
   "cell_type": "code",
   "execution_count": null,
   "metadata": {
    "scrolled": false
   },
   "outputs": [],
   "source": [
    "scale = 1.4\n",
    "n = len(w_ee_vals)\n",
    "n_2 = len(w_ei_vals)\n",
    "fig, axs = plt.subplots(n, n_2, sharex=False, sharey=False, figsize=(10 * scale, 5 * n * scale))\n",
    "colors = ['red', 'black', 'green', 'blue', 'purple', 'brown', 'pink']\n",
    "\n",
    "fig_3, axs_3 = plt.subplots(n, n_2, sharex=False, sharey=False, figsize=(15 * scale, 6 * n * scale))\n",
    "\n",
    "stable_spike_nums = []\n",
    "propagation_speeds = []\n",
    "\n",
    "for j, (w_ee, w_ei_vals, all_p_for_ei_vals, rasters_for_ei_vals) in enumerate(data):\n",
    "    stable_spike_nums.append([])\n",
    "    propagation_speeds.append([])\n",
    "    for k, rasters in enumerate(rasters_for_ei_vals):\n",
    "        propagation_speeds_for_condition = []\n",
    "        stable_spike_nums_for_condition = []\n",
    "        \n",
    "        for l, raster in enumerate(rasters):\n",
    "            if l == 0:\n",
    "                trial_title = f'\\nw_ee: {w_ee},\\nw_ei: {w_ei_vals[k]}'\n",
    "                axs[j, k].scatter(raster[0, :] * 1000, raster[1, :], c='black', s=1)\n",
    "                axs[j, k].set_title(trial_title)\n",
    "            spk_counts = []\n",
    "            z_samples = [n for n in range(80)]\n",
    "            for z in z_samples:\n",
    "                n_spikes_for_z = np.sum(raster[1, :] == z)\n",
    "                spk_counts.append(n_spikes_for_z)\n",
    "            \n",
    "            if spk_counts[-1] > 0:\n",
    "                stable_spike_nums_for_condition.append(np.mean(spk_counts[-10:]))\n",
    "                propagation_speeds_for_condition.append(all_p_for_ei_vals[k][l])\n",
    "\n",
    "            if l == 0:\n",
    "                axs_3[j, k].plot(z_samples[:len(spk_counts)], spk_counts, label='spk_counts', color='blue')\n",
    "                axs_3[j, k].set_title(trial_title)\n",
    "                axs_3[j, k].legend()\n",
    "        stable_spike_nums[-1].append(np.mean(stable_spike_nums_for_condition))\n",
    "        propagation_speeds[-1].append(np.mean(propagation_speeds_for_condition))\n",
    "\n",
    "for i in range(0, n):\n",
    "    for k in range(0, n_2):\n",
    "        axs[i, k].set_xlabel(r't (ms)')\n",
    "        axs[i, k].set_ylabel('cell idx')\n",
    "#         axs[i, k].set_ylim(-0.5, 150)\n",
    "        axs[i, k].set_xlim(0, 600)\n"
   ]
  },
  {
   "cell_type": "code",
   "execution_count": null,
   "metadata": {},
   "outputs": [],
   "source": [
    "def make_graph(w_ei_vals, w_ee, stable_spike_nums, prop_speeds_for_w_ee, bound=30):\n",
    "    fig, axs = plt.subplots(1, 2, sharex=False, sharey=False, figsize=(8 * scale, 4 * scale))\n",
    "    axs[0].set_xlim(0, bound)\n",
    "    axs[0].set_ylim(0, bound)\n",
    "    \n",
    "    axs[0].set_xlabel('N spikes in')\n",
    "    axs[0].set_ylabel('N spikes out')\n",
    "    \n",
    "    axs[1].set_xlim(0, bound)\n",
    "#     axs[1].set_ylim(0, 1)\n",
    "    \n",
    "    axs[1].set_xlabel('N spikes in')\n",
    "    axs[1].set_ylabel('Propagation speed')\n",
    "    \n",
    "    colors = ['red', 'blue', 'green']\n",
    "    \n",
    "    for i, w_ei in enumerate(w_ei_vals):\n",
    "        print(w_ee, w_ei, w_ie)\n",
    "        n_in = np.linspace(1, bound, bound)\n",
    "        params = {\n",
    "            'w_ee':   w_ee,\n",
    "            'w_ei':   w_ei,\n",
    "            'w_ie':   w_ie,\n",
    "            'f_e':    f_e,\n",
    "            'c_e':    c_e,\n",
    "            'c_i':    c_i,\n",
    "            'v_th_e': v_th_e,\n",
    "            'v_th_i': v_th_i,\n",
    "            'tau_a':  tau_a,\n",
    "            'tau_m':  tau_m,\n",
    "        }\n",
    "        \n",
    "        n_out, t_star = calc_analytical_preds(n_in, params)\n",
    "\n",
    "        axs[0].plot(n_in, n_in, '--', lw=0.5, color='black')\n",
    "        axs[0].plot(n_in, n_out, lw=0.8, color=colors[i], label=f'w_r: {w_ei * w_ie}, w_ee: {w_ee}')\n",
    "        axs[0].scatter(stable_spike_nums[i], stable_spike_nums[i], color=colors[i], s=50, marker='D')\n",
    "        \n",
    "        axs[1].plot(n_in, 1. / t_star, lw=0.8, color=colors[i], label=f'w_r: {w_ei * w_ie}, w_ee: {w_ee}')\n",
    "        axs[1].scatter(stable_spike_nums[i], prop_speeds_for_w_ee[i], color=colors[i], s=50, marker='D')\n",
    "\n",
    "        \n",
    "        for i in range(2):\n",
    "            axs[i].legend()\n",
    "        "
   ]
  },
  {
   "cell_type": "code",
   "execution_count": null,
   "metadata": {
    "scrolled": false
   },
   "outputs": [],
   "source": [
    "w_ee_vals = [0.25e-3, 0.35e-3, 0.45e-3]\n",
    "w_ei_vals = np.array([0.25e-5, 0.5e-5, 0.75e-5])\n",
    "\n",
    "for i, w_ee in enumerate(w_ee_vals):\n",
    "    make_graph(w_ei_vals, w_ee, stable_spike_nums[i], propagation_speeds[i], bound=60)"
   ]
  }
 ],
 "metadata": {
  "kernelspec": {
   "display_name": "Python 3",
   "language": "python",
   "name": "python3"
  },
  "language_info": {
   "codemirror_mode": {
    "name": "ipython",
    "version": 3
   },
   "file_extension": ".py",
   "mimetype": "text/x-python",
   "name": "python",
   "nbconvert_exporter": "python",
   "pygments_lexer": "ipython3",
   "version": "3.7.6"
  }
 },
 "nbformat": 4,
 "nbformat_minor": 4
}
