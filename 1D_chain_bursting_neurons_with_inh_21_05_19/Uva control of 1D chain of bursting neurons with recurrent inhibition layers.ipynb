{
 "cells": [
  {
   "cell_type": "markdown",
   "metadata": {},
   "source": [
    "Consider a 1-D chain of bursting neurons coupled to a single inhibitory cell.\n",
    "\n",
    "Assume each cell is coupled to its successor with weight $W_{ee}$ and that each cell is coupled to the I cell with weight $W_{ei}$. Assume the I cell is coupled to all cells in the chain with weight $W_{ie}$.\n",
    "\n",
    "If activity in the chain has reached steady (propagating state), then the average drive to the I cell is:\n",
    "\n",
    "$$ I_{ei} = W_{ei} f_e p t_b $$\n",
    "\n",
    "where $f_e$ is the burst frequency of the bursting cells, $p$ is the number of cells bursting per second (or the propagation speed), and $t_b$ is the duration of the burst for each bursting cell.\n",
    "\n",
    "To calculate the average firing rate of the I cell, we begin with the equation for the voltage of a current-coupled neuron driven by a constant current:\n",
    "\n",
    "$$ V(t) = \\frac{1}{C_i}\\int_{0}^{t} e^{-(t-t')/\\tau_i} I_{ei} dt'$$\n",
    "\n",
    "$$ V_{th}^{i} = \\frac{I_{ei}}{C_i} \\tau_i \\left(1 - e^{-t/\\tau_i}\\right) $$\n",
    "\n",
    "This implies the average time to fire is:\n",
    "\n",
    "$$ t^*_i = -\\tau_i \\log \\left( 1 - \\frac{V_{th}^{i} C_i}{I_{ei} \\tau_i} \\right) $$\n",
    "\n",
    "This implies firing rate $f_i$:\n",
    "\n",
    "$$ f_i = \\frac{-1}{\\tau_i \\log \\left( 1 - \\frac{V_{th}^{i} C_i}{W_{ei} f_e p t_b \\tau_i} \\right)} $$\n",
    "\n",
    "Now we turn to calculating the time-to-fire of a bursting cells that is just beginning to receive input from its predecessor. We assume steady state, so this cell has been receiving constant inhibitory spikes of frequency $f_i$ for a long time. Therefore, we have:\n",
    "\n",
    "$$ V_{th}^{e} - \\frac{W_{ie} f_i \\tau_e}{C_e} = \\frac{1}{C_e}\\int_0^{t^*_e} e^{-(t-t')/\\tau_e} W_{ee} f_e dt'$$\n",
    "\n",
    "\n",
    "$$ V_{th}^{e} - \\frac{W_{ie} f_i \\tau_e}{C_e} = \\frac{\\tau_e}{C_e} (1 - e^{-t^*_e/\\tau_e} ) W_{ee} f_e$$\n",
    "\n",
    "Rearranging, this yields:\n",
    "\n",
    "$$ t^*_e = -\\tau_e \\log \\left(1 - \\frac{C_e (V_{th}^{e} - \\frac{W_{ie} f_i \\tau_e}{C_e})}{\\tau_e W_{ee} f_e }\\right)$$\n",
    "\n",
    "This implies:\n",
    "\n",
    "$$ p_{out} = \\frac{-1}{\\tau_e \\log \\left(1 - \\frac{C_e (V_{th}^{e} - \\frac{W_{ie} f_i \\tau_e}{C_e})}{\\tau_e W_{ee} f_e }\\right) }$$\n",
    "\n",
    "where $f_i$ is a function of $p$."
   ]
  },
  {
   "cell_type": "markdown",
   "metadata": {},
   "source": [
    "We then write:\n",
    "    \n",
    "$$ p_{out} = p + \\Delta p $$\n",
    "\n",
    "This yields:\n",
    "\n",
    "$$ p + \\Delta p = \\frac{-1}{\\tau_e \\log \\left(1 - \\frac{C_e (V_{th}^{e} - \\frac{W_{ie} f_i \\tau_e}{C_e})}{\\tau_e W_{ee} f_e }\\right) }$$\n",
    "\n",
    "$$ \\Delta p = \\frac{-1}{ \\tau_e \\log \\left(1 - \\frac{C_e (V_{th}^{e} - \\frac{W_{ie} f_i \\tau_e}{C_e})}{\\tau_e W_{ee} f_e }\\right)} - p$$"
   ]
  },
  {
   "cell_type": "markdown",
   "metadata": {},
   "source": [
    "We set $\\Delta p = 0$ to find fixed points. "
   ]
  },
  {
   "cell_type": "markdown",
   "metadata": {},
   "source": [
    "### Calculation of stable values of p for different values of recurrent inhibition"
   ]
  },
  {
   "cell_type": "code",
   "execution_count": 1,
   "metadata": {},
   "outputs": [],
   "source": [
    "%matplotlib widget\n",
    "from copy import deepcopy as copy\n",
    "import matplotlib.gridspec as gridspec\n",
    "import matplotlib.pyplot as plt\n",
    "import matplotlib\n",
    "import numpy as np\n",
    "from scipy import stats\n",
    "import scipy.io as sio\n",
    "import pandas as pd\n",
    "from tqdm import tqdm\n",
    "import pickle\n",
    "from collections import OrderedDict\n",
    "import os\n",
    "from scipy.ndimage.interpolation import shift\n",
    "from functools import reduce\n",
    "import time\n",
    "\n",
    "import warnings\n",
    "warnings.filterwarnings(\"ignore\", category=RuntimeWarning) "
   ]
  },
  {
   "cell_type": "code",
   "execution_count": 2,
   "metadata": {},
   "outputs": [],
   "source": [
    "dt = 50e-6\n",
    "tau_e = 4e-3\n",
    "tau_i = 4e-3\n",
    "v_th_e = 20e-3\n",
    "v_th_i = 20e-3\n",
    "c_e = 1e-6\n",
    "c_i = 1e-6\n",
    "t_b = 10e-3\n",
    "f_e = 5e2\n",
    "\n",
    "w_ee = 5e-4 * dt\n",
    "w_ei = 1e-6 * dt\n",
    "w_ie_base = -0.45e-4 * dt"
   ]
  },
  {
   "cell_type": "code",
   "execution_count": 3,
   "metadata": {},
   "outputs": [],
   "source": [
    "def f_i(p, u=0, alpha=1.):\n",
    "    x = v_th_i * c_i / (tau_i * (w_ei * alpha * f_e * t_b * p + u))\n",
    "    f = -1 / (tau_i * np.log(1 - x))\n",
    "    f[x > 1] = 0\n",
    "    return f\n",
    "\n",
    "def dp(p, u=0, alpha=1, u_e=0):\n",
    "    x = c_e * (v_th_e - w_ie * f_i(p, u, alpha) * tau_e / c_e) / (tau_e * (w_ee * alpha * f_e + u_e))\n",
    "    delta_p = -1 / (tau_i * np.log(1 - x)) - p\n",
    "    return np.where(x <= 1, delta_p, 0)"
   ]
  },
  {
   "cell_type": "code",
   "execution_count": 4,
   "metadata": {},
   "outputs": [
    {
     "data": {
      "application/vnd.jupyter.widget-view+json": {
       "model_id": "2d20ab5a9f5f480cae98a878067c8238",
       "version_major": 2,
       "version_minor": 0
      },
      "text/plain": [
       "Canvas(toolbar=Toolbar(toolitems=[('Home', 'Reset original view', 'home', 'home'), ('Back', 'Back to previous …"
      ]
     },
     "metadata": {},
     "output_type": "display_data"
    }
   ],
   "source": [
    "scale = 1.4\n",
    "fig, axs = plt.subplots(3, 1, sharex=True, sharey=False, figsize=(6 * scale, 6 * scale))\n",
    "for i, w_ie in enumerate([0, 0.5 * w_ie_base, w_ie_base]):\n",
    "    p = np.linspace(10, 2000, 1000)\n",
    "    axs[i].plot(p, dp(p), lw=1., label=f'w_ie = {w_ie}', c='purple')\n",
    "    axs[i].set_xlabel('p (1/s)')\n",
    "    axs[i].set_ylabel(r'$\\Delta p$ (1/s)')\n",
    "    axs[i].plot(p, [0] * len(p), '--', c='red')\n",
    "#     axs[i].set_xlim(0, 5000)\n",
    "    axs[i].legend()\n",
    "plt.show()"
   ]
  },
  {
   "cell_type": "markdown",
   "metadata": {},
   "source": [
    "### Controling $p$ with uva input"
   ]
  },
  {
   "cell_type": "markdown",
   "metadata": {},
   "source": [
    "Now, supply the I cell with an additional excitatory input $u$. The equation for $f_i$ is now:\n",
    "\n",
    "$$ f_i = \\frac{-1}{\\tau_i \\log \\left( 1 - \\frac{V_{th}^{i} C_i}{\\tau_i (W_{ei} f_e p t_b + u)} \\right)} $$\n",
    "\n",
    "This provides a means for controlling the propagation speed of the E cells."
   ]
  },
  {
   "cell_type": "code",
   "execution_count": 5,
   "metadata": {},
   "outputs": [
    {
     "data": {
      "application/vnd.jupyter.widget-view+json": {
       "model_id": "8cf3b0bbd6c74cc1bbb8782c358df4c2",
       "version_major": 2,
       "version_minor": 0
      },
      "text/plain": [
       "Canvas(toolbar=Toolbar(toolitems=[('Home', 'Reset original view', 'home', 'home'), ('Back', 'Back to previous …"
      ]
     },
     "metadata": {},
     "output_type": "display_data"
    }
   ],
   "source": [
    "scale = 1.4\n",
    "fig, axs = plt.subplots(1, 1, sharex=True, sharey=False, figsize=(6 * scale, 6 * scale))\n",
    "\n",
    "w_ie = w_ie_base\n",
    "\n",
    "colors = ['purple', 'blue', 'orange']\n",
    "\n",
    "for i, u in enumerate([0, 0.5e-1 * dt, 2e-1 * dt]):\n",
    "    p = np.linspace(10, 6000, 1000)\n",
    "    axs.plot(p, dp(p, u), lw=1., label=f'u={u}', c=colors[i])\n",
    "axs.set_xlabel('p (1/s)')\n",
    "axs.set_ylabel(r'$\\Delta p$ (1/s)')\n",
    "axs.plot(p, [0] * len(p), '--', c='red')\n",
    "# axs.set_xlim(0, 2000)\n",
    "axs.legend()\n",
    "plt.show()"
   ]
  },
  {
   "cell_type": "markdown",
   "metadata": {},
   "source": [
    "### Why bother with the recurrent inhibitory loop?\n",
    "\n",
    "Uva could just as easily directly inhibit or excite the chain itself. However, a chain without recurrent inhibition changes propagation speed when E cells die. To explore this, we modulate $W_{ei}$ and $W_{ee}$ by a factor $\\alpha$ to explore the effect of hypothetical E cell death.\n",
    "\n",
    "### Propagation speed fixed points of a chain for different values of $\\alpha$ and Uva input )\n",
    "\n",
    "#### 1. With recurrent inhibition and Uva exciting the I cell:"
   ]
  },
  {
   "cell_type": "code",
   "execution_count": 6,
   "metadata": {},
   "outputs": [
    {
     "data": {
      "application/vnd.jupyter.widget-view+json": {
       "model_id": "e2181b8cdc2a4822827b7f35f586b7c9",
       "version_major": 2,
       "version_minor": 0
      },
      "text/plain": [
       "Canvas(toolbar=Toolbar(toolitems=[('Home', 'Reset original view', 'home', 'home'), ('Back', 'Back to previous …"
      ]
     },
     "metadata": {},
     "output_type": "display_data"
    }
   ],
   "source": [
    "scale = 1.4\n",
    "fig, axs = plt.subplots(1, 1, sharex=True, sharey=False, figsize=(6 * scale, 6 * scale))\n",
    "\n",
    "w_ie = w_ie_base\n",
    "\n",
    "colors = ['purple', 'blue']\n",
    "\n",
    "for i, u in enumerate([0, 1e-1 * dt * tau_e * 1200]):\n",
    "    for j, alpha in enumerate([1, 0.9, 0.8, 0.7, 0.6]):\n",
    "        p = np.linspace(10, 2500, 1000)\n",
    "        line, = axs.plot(p, dp(p, u, alpha), lw=1., dashes = ([2 * j + 1] * 4), label=f'u={u}, alpha={alpha}', c=colors[i])\n",
    "axs.set_xlabel('p (1/s)')\n",
    "axs.set_ylabel(r'$\\Delta p$ (1/s)')\n",
    "axs.plot(p, [0] * len(p), '--', c='red')\n",
    "axs.set_xlim(0, 1000)\n",
    "axs.set_ylim(-100, 100)\n",
    "axs.legend()\n",
    "plt.show()"
   ]
  },
  {
   "cell_type": "markdown",
   "metadata": {},
   "source": [
    "Here we see that the effect of the uva input is roughly preserved after we rescale $W_{ee}$ and $W_{ei}$ by $\\alpha$: the additional input roughly halves the propagation speed."
   ]
  },
  {
   "cell_type": "markdown",
   "metadata": {},
   "source": [
    "#### 2. Without recurrent inhibition and direct inhibition of chain from Uva:"
   ]
  },
  {
   "cell_type": "code",
   "execution_count": 7,
   "metadata": {},
   "outputs": [
    {
     "data": {
      "application/vnd.jupyter.widget-view+json": {
       "model_id": "3665641cf0d14e7f97fa530627221d47",
       "version_major": 2,
       "version_minor": 0
      },
      "text/plain": [
       "Canvas(toolbar=Toolbar(toolitems=[('Home', 'Reset original view', 'home', 'home'), ('Back', 'Back to previous …"
      ]
     },
     "metadata": {},
     "output_type": "display_data"
    }
   ],
   "source": [
    "scale = 1.4\n",
    "fig, axs = plt.subplots(1, 1, sharex=True, sharey=False, figsize=(6 * scale, 6 * scale))\n",
    "\n",
    "w_ie = 0\n",
    "\n",
    "colors = ['purple', 'blue']\n",
    "\n",
    "for i, u_e in enumerate([0, 2e-1 * dt]):\n",
    "    for j, alpha in enumerate([1, 0.9, 0.8, 0.7, 0.6]):\n",
    "        p = np.linspace(10, 5000, 1000)\n",
    "        axs.plot(p, dp(p, 0, alpha, u_e=u_e), lw=1., dashes=([2 * j + 1] * 4), label=f'u_e={u_e}, alpha={alpha}', c=colors[i])\n",
    "axs.set_xlabel('p (1/s)')\n",
    "axs.set_ylabel(r'$\\Delta p$ (1/s)')\n",
    "axs.plot(p, [0] * len(p), '--', c='red')\n",
    "# axs.set_xlim(0, 1000)\n",
    "axs.set_ylim(-100, 100)\n",
    "axs.legend()\n",
    "plt.show()"
   ]
  },
  {
   "cell_type": "markdown",
   "metadata": {},
   "source": [
    "Here, we see that the effect of the uva input is not preserved after rescaling by alpha."
   ]
  },
  {
   "cell_type": "code",
   "execution_count": 8,
   "metadata": {},
   "outputs": [],
   "source": [
    "from ntwk import LIFNtwkI\n",
    "from aux import *\n",
    "import matplotlib.gridspec as gridspec\n",
    "import matplotlib.pyplot as plt"
   ]
  },
  {
   "cell_type": "code",
   "execution_count": 9,
   "metadata": {},
   "outputs": [],
   "source": [
    "# PARAMS\n",
    "## NEURON AND NETWORK MODEL\n",
    "M = Generic(\n",
    "    # Excitatory membrane\n",
    "    C_M_E=1e-6,  # membrane capacitance\n",
    "    G_L_E=.25e-3,  # membrane leak conductance (T_M (s) = C_M (F/cm^2) / G_L (S/cm^2))\n",
    "    E_L_E=-.07,  # membrane leak potential (V)\n",
    "    V_TH_E=-.05,  # membrane spike threshold (V)\n",
    "    T_R_E=10e-3,  # refractory period (s)\n",
    "    T_R_I=0,\n",
    "    E_R_E=-0.07, # reset voltage (V)\n",
    "    \n",
    "    # Inhibitory membrane\n",
    "    #C_M_I=1e-6,\n",
    "    #G_L_E=.1e-3, \n",
    "    #E_L_I=-.06,\n",
    "    #V_TH_E=-.05,\n",
    "    #T_R_I=.002,\n",
    "    \n",
    "    N_EXC=3200,\n",
    "    N_LAYER=10,\n",
    "    N_INH=1,\n",
    "    \n",
    "    # OTHER INPUTS\n",
    "    SGM_N=6e-10,  # noise level (A*sqrt(s))\n",
    "    I_EXT_B=0,  # additional baseline current input\n",
    "    \n",
    "    W_E_E = 5e-4,\n",
    "    W_E_I = 1e-6,\n",
    "    W_I_E = -0.45e-4,\n",
    "    W_U_E = 5e-4,\n",
    "    W_U_I = 2e-1,\n",
    "    \n",
    "    F_B = 5e2,\n",
    "    T_B = 10e-3,\n",
    ")\n",
    "\n",
    "t_r = M.T_R_E * np.ones((M.N_EXC + M.N_INH))\n",
    "t_r[-1] = M.T_R_I"
   ]
  },
  {
   "cell_type": "code",
   "execution_count": 10,
   "metadata": {},
   "outputs": [],
   "source": [
    "def generate_ff_chain(size, unit_size, unit_funcs, ff_deg=[0, 1], tempering=[1., 1.]):\n",
    "    if size % unit_size != 0:\n",
    "        raise ValueError('unit_size does not evenly divide size')\n",
    "\n",
    "    if len(ff_deg) != len(tempering):\n",
    "        raise ValueError('ff_deg and tempering must be the same length')\n",
    "\n",
    "    n_units = int(size / unit_size)\n",
    "    chain_order = np.arange(0, n_units, dtype=int)\n",
    "    mat = np.zeros((size, size))\n",
    "\n",
    "    for idx in chain_order:\n",
    "        layer_start = unit_size * idx\n",
    "        for j, ff_idx in enumerate(ff_deg):\n",
    "            if idx + ff_idx < len(chain_order) and idx + ff_idx >= 0:\n",
    "                ff_layer_idx = chain_order[idx + ff_idx]\n",
    "                ff_layer_start = unit_size * ff_layer_idx\n",
    "\n",
    "                mat[ff_layer_start : ff_layer_start + unit_size, layer_start : layer_start + unit_size] = unit_funcs[j]() * tempering[j]\n",
    "    return mat"
   ]
  },
  {
   "cell_type": "code",
   "execution_count": 11,
   "metadata": {
    "scrolled": false
   },
   "outputs": [],
   "source": [
    "def test_for_seed(seed):\n",
    "    np.random.seed(seed)\n",
    "\n",
    "    def unit_func():\n",
    "        return np.ones((M.N_LAYER, M.N_LAYER))\n",
    "\n",
    "    chain_mat = generate_ff_chain(M.N_EXC, M.N_LAYER, [unit_func], ff_deg=[1], tempering=[1.])\n",
    "\n",
    "    w_r = np.block([\n",
    "        [ M.W_E_E / M.N_LAYER * chain_mat, M.W_I_E * np.ones((M.N_EXC, M.N_INH)) ],\n",
    "        [ M.W_E_I / M.N_LAYER * np.ones((M.N_INH, M.N_EXC)), np.zeros((M.N_INH, M.N_INH)) ],\n",
    "    ])\n",
    "\n",
    "    w_u = np.block([\n",
    "        [ M.W_U_E * np.ones((M.N_LAYER, 1)), np.zeros((M.N_LAYER, 1)) ],\n",
    "        [ np.zeros((M.N_EXC - M.N_LAYER, 2)) ],\n",
    "        [ np.zeros((M.N_INH, 1)), M.W_U_I * np.ones((M.N_INH, 1)) ],\n",
    "    ])\n",
    "\n",
    "    i_b = np.ones((M.N_EXC + M.N_INH), dtype=int)\n",
    "    i_b[-1] = 0\n",
    "\n",
    "    ntwk = LIFNtwkI(\n",
    "        c_m = M.C_M_E,\n",
    "        g_l = M.G_L_E,\n",
    "        e_l = M.E_L_E,\n",
    "        v_th = M.V_TH_E,\n",
    "        v_r = M.E_R_E,\n",
    "        t_r = t_r,\n",
    "        w_r = w_r,\n",
    "        w_u = w_u,\n",
    "        i_b = i_b,\n",
    "        f_b = M.F_B,\n",
    "        t_b = M.T_B)\n",
    "\n",
    "    S = Generic(RNG_SEED=0, DT=dt)\n",
    "    t = np.arange(0, 0.6, S.DT)\n",
    "\n",
    "    spks_u = np.zeros((len(t), 2), dtype=int)\n",
    "    spks_u[0, 0] = 1\n",
    "    switches = 8\n",
    "    seg_length = int(len(t) / switches)\n",
    "    for i in range(switches):\n",
    "        if i % 2 == 0:\n",
    "            spks_u[i * seg_length: (i + 1) * seg_length, 1] = np.random.poisson(lam=1200 * S.DT, size=seg_length)\n",
    "\n",
    "    i_ext = M.SGM_N/S.DT * np.random.randn(len(t), M.N_EXC + M.N_INH) + M.I_EXT_B\n",
    "    rsp = ntwk.run(\n",
    "        dt=S.DT,\n",
    "        clamp=Generic(v={0: M.E_L_E * np.ones((M.N_EXC + M.N_INH))}, spk={}),\n",
    "        i_ext=i_ext,\n",
    "        spks_u=spks_u,\n",
    "        sigma_b=3\n",
    "    )\n",
    "\n",
    "    raster = np.stack([rsp.spks_t, rsp.spks_c])\n",
    "    inh_raster = raster[:, raster[1, :] >= M.N_EXC]\n",
    "    exc_raster = raster[:, raster[1, :] < M.N_EXC]\n",
    "\n",
    "    scale = 1.\n",
    "    gs = gridspec.GridSpec(1, 1)\n",
    "    fig = plt.figure(figsize=(6 * scale, 5 * scale), tight_layout=True)\n",
    "    axs = [fig.add_subplot(gs[0])]\n",
    "\n",
    "    axs[0].scatter(exc_raster[0, :] * 1000, exc_raster[1, :], c='black', s=1)\n",
    "    axs[0].scatter(inh_raster[0, :] * 1000, inh_raster[1, :], c='red', s=1)\n",
    "\n",
    "    axs[0].set_ylim(-1, 3202)\n",
    "    axs[0].set_xlabel('Time (ms)')\n",
    "    axs[0].set_ylabel('Cell index')\n",
    "\n",
    "    scale = 1.\n",
    "    gs = gridspec.GridSpec(1, 1)\n",
    "    fig = plt.figure(figsize=(6 * scale, 5 * scale), tight_layout=True)\n",
    "    axs = [fig.add_subplot(gs[0])]\n",
    "\n",
    "    buffer = 250\n",
    "    for i in range(switches):\n",
    "        switch_range = ((i * seg_length + buffer) * S.DT, ((i+1) * seg_length - buffer) * S.DT)\n",
    "        raster_for_switch = exc_raster[:, (exc_raster[0, :] >= switch_range[0]) & (exc_raster[0, :] < switch_range[1])]\n",
    "        if i % 2 == 0:\n",
    "            c = 'purple'\n",
    "        else:\n",
    "            c = 'black'\n",
    "\n",
    "        axs[0].scatter(raster_for_switch[0, :] * 1000, raster_for_switch[1, :], c=c, s=1)\n",
    "\n",
    "        if raster_for_switch.shape[1] > 0:\n",
    "            res = stats.linregress(raster_for_switch[0, :], (raster_for_switch[1, :] / M.N_LAYER).astype(int))\n",
    "            print(res.slope)\n",
    "\n",
    "    axs[0].set_xlabel('Time (ms)')\n",
    "    axs[0].set_ylabel('Cell index')"
   ]
  },
  {
   "cell_type": "code",
   "execution_count": 12,
   "metadata": {},
   "outputs": [
    {
     "data": {
      "application/vnd.jupyter.widget-view+json": {
       "model_id": "90768d0d68fa434282caa418ff82a351",
       "version_major": 2,
       "version_minor": 0
      },
      "text/plain": [
       "Canvas(toolbar=Toolbar(toolitems=[('Home', 'Reset original view', 'home', 'home'), ('Back', 'Back to previous …"
      ]
     },
     "metadata": {},
     "output_type": "display_data"
    },
    {
     "data": {
      "application/vnd.jupyter.widget-view+json": {
       "model_id": "e585c43f5609426385ac0dff113fd25c",
       "version_major": 2,
       "version_minor": 0
      },
      "text/plain": [
       "Canvas(toolbar=Toolbar(toolitems=[('Home', 'Reset original view', 'home', 'home'), ('Back', 'Back to previous …"
      ]
     },
     "metadata": {},
     "output_type": "display_data"
    },
    {
     "name": "stdout",
     "output_type": "stream",
     "text": [
      "517.7742912885972\n",
      "1276.654097995492\n",
      "448.8908024734916\n",
      "1291.701157115735\n",
      "537.7797016033758\n",
      "410.71126087591074\n"
     ]
    }
   ],
   "source": [
    "test_for_seed(2002)"
   ]
  },
  {
   "cell_type": "code",
   "execution_count": 13,
   "metadata": {},
   "outputs": [
    {
     "data": {
      "application/vnd.jupyter.widget-view+json": {
       "model_id": "6745bd2c9b704cea935f3089bc02d251",
       "version_major": 2,
       "version_minor": 0
      },
      "text/plain": [
       "Canvas(toolbar=Toolbar(toolitems=[('Home', 'Reset original view', 'home', 'home'), ('Back', 'Back to previous …"
      ]
     },
     "metadata": {},
     "output_type": "display_data"
    },
    {
     "data": {
      "application/vnd.jupyter.widget-view+json": {
       "model_id": "32870a5792804edc8a7dcaa6ae8c0bc1",
       "version_major": 2,
       "version_minor": 0
      },
      "text/plain": [
       "Canvas(toolbar=Toolbar(toolitems=[('Home', 'Reset original view', 'home', 'home'), ('Back', 'Back to previous …"
      ]
     },
     "metadata": {},
     "output_type": "display_data"
    },
    {
     "name": "stdout",
     "output_type": "stream",
     "text": [
      "430.8002109181145\n",
      "1364.3145485778662\n",
      "460.36560453582325\n",
      "1171.1101011450935\n",
      "518.7821109281997\n",
      "916.2110755426899\n"
     ]
    }
   ],
   "source": [
    "test_for_seed(2010)"
   ]
  },
  {
   "cell_type": "code",
   "execution_count": 14,
   "metadata": {},
   "outputs": [
    {
     "data": {
      "application/vnd.jupyter.widget-view+json": {
       "model_id": "580d815859cf429bb54e819a71a8766f",
       "version_major": 2,
       "version_minor": 0
      },
      "text/plain": [
       "Canvas(toolbar=Toolbar(toolitems=[('Home', 'Reset original view', 'home', 'home'), ('Back', 'Back to previous …"
      ]
     },
     "metadata": {},
     "output_type": "display_data"
    },
    {
     "data": {
      "application/vnd.jupyter.widget-view+json": {
       "model_id": "cb063e7cc4b04d47a2f8684810980cfe",
       "version_major": 2,
       "version_minor": 0
      },
      "text/plain": [
       "Canvas(toolbar=Toolbar(toolitems=[('Home', 'Reset original view', 'home', 'home'), ('Back', 'Back to previous …"
      ]
     },
     "metadata": {},
     "output_type": "display_data"
    },
    {
     "name": "stdout",
     "output_type": "stream",
     "text": [
      "475.18262965328177\n",
      "1285.594353512725\n",
      "636.3710063101325\n",
      "1413.4856761380618\n",
      "487.49738027364674\n",
      "690.9468982924535\n"
     ]
    }
   ],
   "source": [
    "test_for_seed(2012)"
   ]
  },
  {
   "cell_type": "code",
   "execution_count": 15,
   "metadata": {},
   "outputs": [
    {
     "data": {
      "application/vnd.jupyter.widget-view+json": {
       "model_id": "6628509a6e65415a94153ca2f29cf7de",
       "version_major": 2,
       "version_minor": 0
      },
      "text/plain": [
       "Canvas(toolbar=Toolbar(toolitems=[('Home', 'Reset original view', 'home', 'home'), ('Back', 'Back to previous …"
      ]
     },
     "metadata": {},
     "output_type": "display_data"
    },
    {
     "data": {
      "application/vnd.jupyter.widget-view+json": {
       "model_id": "6c6de21929034deeaf9acc99d3d64fc8",
       "version_major": 2,
       "version_minor": 0
      },
      "text/plain": [
       "Canvas(toolbar=Toolbar(toolitems=[('Home', 'Reset original view', 'home', 'home'), ('Back', 'Back to previous …"
      ]
     },
     "metadata": {},
     "output_type": "display_data"
    },
    {
     "name": "stdout",
     "output_type": "stream",
     "text": [
      "566.762293695147\n",
      "1740.0656216523464\n",
      "587.5984027384366\n",
      "2101.741627711113\n",
      "627.9516384140879\n",
      "1573.274137557288\n"
     ]
    },
    {
     "data": {
      "text/plain": [
       "Text(0, 0.5, 'Cell index')"
      ]
     },
     "execution_count": 15,
     "metadata": {},
     "output_type": "execute_result"
    }
   ],
   "source": [
    "np.random.seed(2003)\n",
    "\n",
    "def unit_func():\n",
    "    return np.ones((M.N_LAYER, M.N_LAYER))\n",
    "\n",
    "chain_mat = generate_ff_chain(M.N_EXC, M.N_LAYER, [unit_func], ff_deg=[1], tempering=[1.])\n",
    "\n",
    "w_r = np.block([\n",
    "    [ M.W_E_E / M.N_LAYER * chain_mat, M.W_I_E * np.ones((M.N_EXC, M.N_INH)) ],\n",
    "    [ M.W_E_I / M.N_LAYER * np.ones((M.N_INH, M.N_EXC)), np.zeros((M.N_INH, M.N_INH)) ],\n",
    "])\n",
    "\n",
    "w_u = np.block([\n",
    "    [ M.W_U_E * np.ones((M.N_LAYER, 1)), np.zeros((M.N_LAYER, 1)) ],\n",
    "    [ np.zeros((M.N_EXC - M.N_LAYER, 2)) ],\n",
    "    [ np.zeros((M.N_INH, 1)), M.W_U_I * np.ones((M.N_INH, 1)) ],\n",
    "])\n",
    "\n",
    "i_b = np.ones((M.N_EXC + M.N_INH), dtype=int)\n",
    "i_b[-1] = 0\n",
    "\n",
    "ntwk = LIFNtwkI(\n",
    "    c_m = M.C_M_E,\n",
    "    g_l = M.G_L_E,\n",
    "    e_l = M.E_L_E,\n",
    "    v_th = M.V_TH_E,\n",
    "    v_r = M.E_R_E,\n",
    "    t_r = t_r,\n",
    "    w_r = w_r,\n",
    "    w_u = w_u,\n",
    "    i_b = i_b,\n",
    "    f_b = M.F_B,\n",
    "    t_b = M.T_B)\n",
    "\n",
    "S = Generic(RNG_SEED=0, DT=dt)\n",
    "t = np.arange(0, 0.3, S.DT)\n",
    "\n",
    "spks_u = np.zeros((len(t), 2), dtype=int)\n",
    "spks_u[0, 0] = 1\n",
    "switches = 6\n",
    "seg_length = int(len(t) / switches)\n",
    "for i in range(switches):\n",
    "    if i % 2 == 0:\n",
    "        spks_u[i * seg_length: (i + 1) * seg_length, 1] = np.random.poisson(lam=1200 * S.DT, size=seg_length)\n",
    "\n",
    "i_ext = M.SGM_N/S.DT * np.random.randn(len(t), M.N_EXC + M.N_INH) + M.I_EXT_B\n",
    "rsp = ntwk.run(\n",
    "    dt=S.DT,\n",
    "    clamp=Generic(v={0: M.E_L_E * np.ones((M.N_EXC + M.N_INH))}, spk={}),\n",
    "    i_ext=i_ext,\n",
    "    spks_u=spks_u)\n",
    "\n",
    "raster = np.stack([rsp.spks_t, rsp.spks_c])\n",
    "inh_raster = raster[:, raster[1, :] >= M.N_EXC]\n",
    "exc_raster = raster[:, raster[1, :] < M.N_EXC]\n",
    "\n",
    "scale = 1.\n",
    "gs = gridspec.GridSpec(1, 1)\n",
    "fig = plt.figure(figsize=(6 * scale, 5 * scale), tight_layout=True)\n",
    "axs = [fig.add_subplot(gs[0])]\n",
    "\n",
    "axs[0].scatter(exc_raster[0, :] * 1000, exc_raster[1, :], c='black', s=1)\n",
    "axs[0].scatter(inh_raster[0, :] * 1000, inh_raster[1, :], c='red', s=1)\n",
    "\n",
    "axs[0].set_ylim(-1, 1602)\n",
    "\n",
    "scale = 1.\n",
    "gs = gridspec.GridSpec(1, 1)\n",
    "fig = plt.figure(figsize=(6 * scale, 5 * scale), tight_layout=True)\n",
    "axs = [fig.add_subplot(gs[0])]\n",
    "\n",
    "buffer = 250\n",
    "for i in range(switches):\n",
    "    switch_range = ((i * seg_length + buffer) * S.DT, ((i+1) * seg_length - buffer) * S.DT)\n",
    "    raster_for_switch = exc_raster[:, (exc_raster[0, :] >= switch_range[0]) & (exc_raster[0, :] < switch_range[1])]\n",
    "    if i % 2 == 0:\n",
    "        c = 'purple'\n",
    "    else:\n",
    "        c = 'black'\n",
    "        \n",
    "    axs[0].scatter(raster_for_switch[0, :] * 1000, raster_for_switch[1, :], c=c, s=1)\n",
    "    \n",
    "    if raster_for_switch.shape[1] > 0:\n",
    "        res = stats.linregress(raster_for_switch[0, :], (raster_for_switch[1, :] / M.N_LAYER).astype(int))\n",
    "        print(res.slope)\n",
    "\n",
    "axs[0].set_xlabel('Time (ms)')\n",
    "axs[0].set_ylabel('Cell index')"
   ]
  },
  {
   "cell_type": "code",
   "execution_count": null,
   "metadata": {},
   "outputs": [],
   "source": []
  }
 ],
 "metadata": {
  "kernelspec": {
   "display_name": "Python 3",
   "language": "python",
   "name": "python3"
  },
  "language_info": {
   "codemirror_mode": {
    "name": "ipython",
    "version": 3
   },
   "file_extension": ".py",
   "mimetype": "text/x-python",
   "name": "python",
   "nbconvert_exporter": "python",
   "pygments_lexer": "ipython3",
   "version": "3.7.6"
  }
 },
 "nbformat": 4,
 "nbformat_minor": 4
}
