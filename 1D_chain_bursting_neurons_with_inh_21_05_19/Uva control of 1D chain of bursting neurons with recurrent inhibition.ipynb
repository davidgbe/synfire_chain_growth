{
 "cells": [
  {
   "cell_type": "markdown",
   "metadata": {},
   "source": [
    "### Single cell model"
   ]
  },
  {
   "cell_type": "markdown",
   "metadata": {},
   "source": [
    "Consider a 1-D chain of bursting neurons coupled to a single inhibitory cell. The governing equations for the dynamics of each individual cell are:\n",
    "\n",
    "$$ \\dot{V}(t) = -\\frac{V(t)}{\\tau_m} + \\frac{I(t)}{C}$$\n",
    "\n",
    "where $V(t)$ is the membrane potential, $\\tau_m$ is the membrane time constant, $I(t)$ is the external current, and $C$ is the membrane capacitance."
   ]
  },
  {
   "cell_type": "markdown",
   "metadata": {},
   "source": [
    "If neuron 1 is connected to neuron 2 by directional weight $w$, then the spike from 1 elicits current $I_{s}(t)$ in cell 2, where $I_{s}$ is given by:\n",
    "\n",
    "$$ I_{s}(t) = w \\frac{e}{\\tau_{\\alpha}} (t-t_s) e^{-(t-t_s)/\\tau_{\\alpha}} \\Theta (t - t_s)$$\n",
    "\n",
    "where $\\Theta$ is the Heaviside function."
   ]
  },
  {
   "cell_type": "markdown",
   "metadata": {},
   "source": [
    "If neuron 1 fires at a consistent rate $f$, such that $1/f$ is proportional to or less the $\\tau_{\\alpha}$, the current in cell 2 will saturate at:\n",
    "\n",
    "$$ I_{f} = w \\tau_{\\alpha} e f $$"
   ]
  },
  {
   "cell_type": "markdown",
   "metadata": {},
   "source": [
    "### Chain model"
   ]
  },
  {
   "cell_type": "markdown",
   "metadata": {},
   "source": [
    "Assume each excitatory cell in the chain is coupled to its successor with weight $W_{ee}$ and that each cell is coupled to the I cell with weight $W_{ei}$. Assume the I cell is coupled to all cells in the chain with weight $W_{ie}$.\n",
    "\n",
    "If activity in the chain has reached steady (propagating state), then the average drive to the I cell is:\n",
    "\n",
    "$$ I_{ei} = W_{ei} f_e p t_b $$\n",
    "\n",
    "where $f_e$ is the burst frequency of the bursting cells, $p$ is the number of cells bursting per second (or the propagation speed), and $t_b$ is the duration of the burst for each bursting cell.\n",
    "\n",
    "To calculate the average firing rate of the I cell, we begin with the equation for the voltage of a current-coupled neuron driven by a constant current:\n",
    "\n",
    "$$ V(t) = \\frac{1}{C_i}\\int_{0}^{t} e^{-(t-t')/\\tau_i} I_{ei} dt'$$\n",
    "\n",
    "$$ V_{th}^{i} = \\frac{I_{ei}}{C_i} \\tau_i \\left(1 - e^{-t/\\tau_i}\\right) $$\n",
    "\n",
    "This implies the average time to fire is:\n",
    "\n",
    "$$ t^*_i = -\\tau_i \\log \\left( 1 - \\frac{V_{th}^{i} C_i}{I_{ei} \\tau_i} \\right) $$\n",
    "\n",
    "This implies firing rate $f_i$:\n",
    "\n",
    "$$ f_i = \\frac{-1}{\\tau_i \\log \\left( 1 - \\frac{V_{th}^{i} C_i}{W_{ei} f_e p t_b \\tau_i} \\right)} $$\n",
    "\n",
    "Now we turn to calculating the time-to-fire of a bursting cells that is just beginning to receive input from its predecessor. We assume steady state, so this cell has been receiving constant inhibitory spikes of frequency $f_i$ for a long time. Therefore, we have:\n",
    "\n",
    "$$ V_{th}^{e} - \\frac{W_{ie} f_i \\tau_e}{C_e} = \\frac{1}{C_e}\\int_0^{t^*_e} e^{-(t-t')/\\tau_e} W_{ee} f_e dt'$$\n",
    "\n",
    "\n",
    "$$ V_{th}^{e} - \\frac{W_{ie} f_i \\tau_e}{C_e} = \\frac{\\tau_e}{C_e} (1 - e^{-t^*_e/\\tau_e} ) W_{ee} f_e$$\n",
    "\n",
    "Rearranging, this yields:\n",
    "\n",
    "$$ t^*_e = -\\tau_e \\log \\left(1 - \\frac{C_e (V_{th}^{e} - \\frac{W_{ie} f_i \\tau_e}{C_e})}{\\tau_e W_{ee} f_e }\\right)$$\n",
    "\n",
    "This implies:\n",
    "\n",
    "$$ p_{out} = \\frac{-1}{\\tau_e \\log \\left(1 - \\frac{C_e (V_{th}^{e} - \\frac{W_{ie} f_i \\tau_e}{C_e})}{\\tau_e W_{ee} f_e }\\right) }$$\n",
    "\n",
    "where $f_i$ is a function of $p$."
   ]
  },
  {
   "cell_type": "markdown",
   "metadata": {},
   "source": [
    "We then write:\n",
    "    \n",
    "$$ p_{out} = p + \\Delta p $$\n",
    "\n",
    "This yields:\n",
    "\n",
    "$$ p + \\Delta p = \\frac{-1}{\\tau_e \\log \\left(1 - \\frac{C_e (V_{th}^{e} - \\frac{W_{ie} f_i \\tau_e}{C_e})}{\\tau_e W_{ee} f_e }\\right) }$$\n",
    "\n",
    "$$ \\Delta p = \\frac{-1}{ \\tau_e \\log \\left(1 - \\frac{C_e (V_{th}^{e} - \\frac{W_{ie} f_i \\tau_e}{C_e})}{\\tau_e W_{ee} f_e }\\right)} - p$$"
   ]
  },
  {
   "cell_type": "markdown",
   "metadata": {},
   "source": [
    "We set $\\Delta p = 0$ to find fixed points. "
   ]
  },
  {
   "cell_type": "markdown",
   "metadata": {},
   "source": [
    "### Calculation of stable values of p for different values of recurrent inhibition"
   ]
  },
  {
   "cell_type": "code",
   "execution_count": 1,
   "metadata": {},
   "outputs": [],
   "source": [
    "%matplotlib widget\n",
    "from copy import deepcopy as copy\n",
    "import matplotlib.gridspec as gridspec\n",
    "import matplotlib.pyplot as plt\n",
    "import matplotlib\n",
    "import numpy as np\n",
    "from scipy import stats\n",
    "import scipy.io as sio\n",
    "import pandas as pd\n",
    "from tqdm import tqdm\n",
    "import pickle\n",
    "from collections import OrderedDict\n",
    "import os\n",
    "from scipy.ndimage.interpolation import shift\n",
    "from functools import reduce\n",
    "import time\n",
    "\n",
    "import warnings\n",
    "warnings.filterwarnings(\"ignore\", category=RuntimeWarning) "
   ]
  },
  {
   "cell_type": "code",
   "execution_count": 2,
   "metadata": {},
   "outputs": [],
   "source": [
    "dt = 5e-5\n",
    "tau_e = 4e-3\n",
    "tau_i = 4e-3\n",
    "v_th_e = 20e-3\n",
    "v_th_i = 20e-3\n",
    "c_e = 1e-6\n",
    "c_i = 1e-6\n",
    "t_b = 10e-3\n",
    "f_e = 5e3\n",
    "\n",
    "w_ee = 1.2e-5\n",
    "w_ei = 1e-8\n",
    "\n",
    "w_ee = 1e-4 * dt\n",
    "w_ei = 1e-5 * dt  \n",
    "w_ie_base = -2e-4 * dt"
   ]
  },
  {
   "cell_type": "code",
   "execution_count": 3,
   "metadata": {},
   "outputs": [],
   "source": [
    "def f_i(p, u=0, alpha=1.):\n",
    "    x = v_th_i * c_i / (tau_i * (w_ei * alpha * f_e * t_b * p + u))\n",
    "    return -1 / (tau_i * np.log(1 - x))\n",
    "\n",
    "def dp(p, u=0, alpha=1, u_e=0):\n",
    "    x = c_e * (v_th_e - w_ie * f_i(p, u, alpha) * tau_e / c_e) / (tau_e * (w_ee * alpha * f_e + u_e))\n",
    "    delta_p = -1 / (tau_i * np.log(1 - x)) - p\n",
    "    return np.where(x <= 1, delta_p, 0)"
   ]
  },
  {
   "cell_type": "code",
   "execution_count": 4,
   "metadata": {},
   "outputs": [
    {
     "data": {
      "application/vnd.jupyter.widget-view+json": {
       "model_id": "652e95dd334142e6883b5b547ded8abd",
       "version_major": 2,
       "version_minor": 0
      },
      "text/plain": [
       "Canvas(toolbar=Toolbar(toolitems=[('Home', 'Reset original view', 'home', 'home'), ('Back', 'Back to previous …"
      ]
     },
     "metadata": {},
     "output_type": "display_data"
    }
   ],
   "source": [
    "scale = 1.4\n",
    "fig, axs = plt.subplots(3, 1, sharex=True, sharey=False, figsize=(6 * scale, 6 * scale))\n",
    "for i, w_ie in enumerate([0, 0.5 * w_ie_base, w_ie_base]):\n",
    "    p = np.linspace(10, 5000, 1000)\n",
    "    axs[i].plot(p, dp(p), lw=1., label=f'w_ie = {w_ie}', c='purple')\n",
    "    axs[i].set_xlabel('p (1/s)')\n",
    "    axs[i].set_ylabel(r'$\\Delta p$ (1/s)')\n",
    "    axs[i].plot(p, [0] * len(p), '--', c='red')\n",
    "    axs[i].set_xlim(0, 5000)\n",
    "    axs[i].legend()\n",
    "plt.show()"
   ]
  },
  {
   "cell_type": "markdown",
   "metadata": {},
   "source": [
    "### Controling p with uva input"
   ]
  },
  {
   "cell_type": "markdown",
   "metadata": {},
   "source": [
    "Now, supply the I cell with an additional excitatory input $u$. The equation for $f_i$ is now:\n",
    "\n",
    "$$ f_i = \\frac{-1}{\\tau_i \\log \\left( 1 - \\frac{V_{th}^{i} C_i}{\\tau_i (W_{ei} f_e p t_b + u)} \\right)} $$\n",
    "\n",
    "This provides a means for controlling the propagation speed of the E cells."
   ]
  },
  {
   "cell_type": "code",
   "execution_count": 5,
   "metadata": {},
   "outputs": [
    {
     "data": {
      "application/vnd.jupyter.widget-view+json": {
       "model_id": "5a66e91ec39742ffa7fc90c65400d2df",
       "version_major": 2,
       "version_minor": 0
      },
      "text/plain": [
       "Canvas(toolbar=Toolbar(toolitems=[('Home', 'Reset original view', 'home', 'home'), ('Back', 'Back to previous …"
      ]
     },
     "metadata": {},
     "output_type": "display_data"
    }
   ],
   "source": [
    "scale = 1.4\n",
    "fig, axs = plt.subplots(1, 1, sharex=True, sharey=False, figsize=(6 * scale, 6 * scale))\n",
    "\n",
    "w_ie = w_ie_base\n",
    "\n",
    "colors = ['purple', 'blue', 'orange']\n",
    "\n",
    "for i, u in enumerate([0, 0.5e-1 * dt, 2e-1 * dt]):\n",
    "    p = np.linspace(10, 2000, 1000)\n",
    "    axs.plot(p, dp(p, u), lw=1., label=f'u={u}', c=colors[i])\n",
    "axs.set_xlabel('p (1/s)')\n",
    "axs.set_ylabel(r'$\\Delta p$ (1/s)')\n",
    "axs.plot(p, [0] * len(p), '--', c='red')\n",
    "axs.set_xlim(0, 2000)\n",
    "axs.legend()\n",
    "plt.show()"
   ]
  },
  {
   "cell_type": "markdown",
   "metadata": {},
   "source": [
    "### Why bother with the recurrent inhibitory loop?\n",
    "\n",
    "Uva could just as easily directly inhibit or excite the chain itself. However, a chain without recurrent inhibition changes propagation speed when E cells die. To explore this, we modulate $W_{ei}$ and $W_{ee}$ by a factor $\\alpha$ to explore the effect of hypothetical E cell death.\n",
    "\n",
    "### Propagation speed fixed points of a chain for different values of $\\alpha$ and Uva input )\n",
    "\n",
    "#### 1. With recurrent inhibition and Uva exciting the I cell:"
   ]
  },
  {
   "cell_type": "code",
   "execution_count": 6,
   "metadata": {},
   "outputs": [
    {
     "data": {
      "application/vnd.jupyter.widget-view+json": {
       "model_id": "6605a14ca4d440dc8e8d4097ea7f2fd4",
       "version_major": 2,
       "version_minor": 0
      },
      "text/plain": [
       "Canvas(toolbar=Toolbar(toolitems=[('Home', 'Reset original view', 'home', 'home'), ('Back', 'Back to previous …"
      ]
     },
     "metadata": {},
     "output_type": "display_data"
    }
   ],
   "source": [
    "scale = 1.4\n",
    "fig, axs = plt.subplots(1, 1, sharex=True, sharey=False, figsize=(6 * scale, 6 * scale))\n",
    "\n",
    "w_ie = w_ie_base\n",
    "\n",
    "colors = ['purple', 'blue']\n",
    "\n",
    "for i, u in enumerate([0, 1e-1 * dt * tau_e * 1200]):\n",
    "    for j, alpha in enumerate([1, 0.9, 0.8, 0.7, 0.6]):\n",
    "        p = np.linspace(10, 2500, 1000)\n",
    "        line, = axs.plot(p, dp(p, u, alpha), lw=1., dashes = ([2 * j + 1] * 4), label=f'u={u}, alpha={alpha}', c=colors[i])\n",
    "axs.set_xlabel('p (1/s)')\n",
    "axs.set_ylabel(r'$\\Delta p$ (1/s)')\n",
    "axs.plot(p, [0] * len(p), '--', c='red')\n",
    "axs.set_xlim(0, 1000)\n",
    "axs.set_ylim(-100, 100)\n",
    "axs.legend()\n",
    "plt.show()"
   ]
  },
  {
   "cell_type": "markdown",
   "metadata": {},
   "source": [
    "Here we see that the effect of the uva input is roughly preserved after we rescale $W_{ee}$ and $W_{ei}$ by $\\alpha$: the additional input roughly halves the propagation speed."
   ]
  },
  {
   "cell_type": "markdown",
   "metadata": {},
   "source": [
    "#### 2. Without recurrent inhibition and direct inhibition of chain from Uva:"
   ]
  },
  {
   "cell_type": "code",
   "execution_count": 13,
   "metadata": {},
   "outputs": [
    {
     "data": {
      "application/vnd.jupyter.widget-view+json": {
       "model_id": "df76a25ef2b04fcfa6158e2f57cf94cd",
       "version_major": 2,
       "version_minor": 0
      },
      "text/plain": [
       "Canvas(toolbar=Toolbar(toolitems=[('Home', 'Reset original view', 'home', 'home'), ('Back', 'Back to previous …"
      ]
     },
     "metadata": {},
     "output_type": "display_data"
    }
   ],
   "source": [
    "scale = 1.4\n",
    "fig, axs = plt.subplots(1, 1, sharex=True, sharey=False, figsize=(6 * scale, 6 * scale))\n",
    "\n",
    "w_ie = 0\n",
    "\n",
    "colors = ['purple', 'blue']\n",
    "\n",
    "for i, u_e in enumerate([0, 2e-1 * dt]):\n",
    "    for j, alpha in enumerate([1, 0.9, 0.8, 0.7, 0.6]):\n",
    "        p = np.linspace(10, 5000, 1000)\n",
    "        axs.plot(p, dp(p, 0, alpha, u_e=u_e), lw=1., dashes=([2 * j + 1] * 4), label=f'u_e={u_e}, alpha={alpha}', c=colors[i])\n",
    "axs.set_xlabel('p (1/s)')\n",
    "axs.set_ylabel(r'$\\Delta p$ (1/s)')\n",
    "axs.plot(p, [0] * len(p), '--', c='red')\n",
    "# axs.set_xlim(0, 1000)\n",
    "axs.set_ylim(-100, 100)\n",
    "axs.legend()\n",
    "plt.show()"
   ]
  },
  {
   "cell_type": "markdown",
   "metadata": {},
   "source": [
    "Here, we see that the effect of the uva input is not preserved after rescaling by alpha."
   ]
  },
  {
   "cell_type": "code",
   "execution_count": 8,
   "metadata": {},
   "outputs": [],
   "source": [
    "from ntwk import LIFNtwkI\n",
    "from aux import *\n",
    "import matplotlib.gridspec as gridspec\n",
    "import matplotlib.pyplot as plt"
   ]
  },
  {
   "cell_type": "code",
   "execution_count": 136,
   "metadata": {},
   "outputs": [],
   "source": [
    "# PARAMS\n",
    "## NEURON AND NETWORK MODEL\n",
    "M = Generic(\n",
    "    # Excitatory membrane\n",
    "    C_M_E=1e-6,  # membrane capacitance\n",
    "    G_L_E=.25e-3,  # membrane leak conductance (T_M (s) = C_M (F/cm^2) / G_L (S/cm^2))\n",
    "    E_L_E=-.07,  # membrane leak potential (V)\n",
    "    V_TH_E=-.05,  # membrane spike threshold (V)\n",
    "    T_R_E=10e-3,  # refractory period (s)\n",
    "    T_R_I=0,\n",
    "    E_R_E=-0.07, # reset voltage (V)\n",
    "    \n",
    "    # Inhibitory membrane\n",
    "    #C_M_I=1e-6,\n",
    "    #G_L_E=.1e-3, \n",
    "    #E_L_I=-.06,\n",
    "    #V_TH_E=-.05,\n",
    "    #T_R_I=.002,\n",
    "    \n",
    "    N_EXC=800,\n",
    "    N_INH=1,\n",
    "    \n",
    "    # OTHER INPUTS\n",
    "    SGM_N=.1e-10,  # noise level (A*sqrt(s))\n",
    "    I_EXT_B=0,  # additional baseline current input\n",
    "    \n",
    "    W_E_E = 2.4e-5,\n",
    "    W_E_I = 0, #0.2e-5, #1e-5,\n",
    "    W_I_E = -0.18e-5,\n",
    "    W_U_E = 0.2e-4,\n",
    "    W_U_I = 0.05e-5, #1e-1,\n",
    "    \n",
    "    F_B = 5e3,\n",
    "    T_B = 10e-3,\n",
    ")\n",
    "\n",
    "t_r = M.T_R_E * np.ones((M.N_EXC + M.N_INH))\n",
    "t_r[-1] = M.T_R_I"
   ]
  },
  {
   "cell_type": "code",
   "execution_count": 137,
   "metadata": {
    "scrolled": false
   },
   "outputs": [
    {
     "data": {
      "application/vnd.jupyter.widget-view+json": {
       "model_id": "d82ca8dba46b4ef09cf2cdc76f1c91d4",
       "version_major": 2,
       "version_minor": 0
      },
      "text/plain": [
       "Canvas(toolbar=Toolbar(toolitems=[('Home', 'Reset original view', 'home', 'home'), ('Back', 'Back to previous …"
      ]
     },
     "metadata": {},
     "output_type": "display_data"
    },
    {
     "data": {
      "application/vnd.jupyter.widget-view+json": {
       "model_id": "029f123555ec42018932e823c9c80a67",
       "version_major": 2,
       "version_minor": 0
      },
      "text/plain": [
       "Canvas(toolbar=Toolbar(toolitems=[('Home', 'Reset original view', 'home', 'home'), ('Back', 'Back to previous …"
      ]
     },
     "metadata": {},
     "output_type": "display_data"
    },
    {
     "name": "stdout",
     "output_type": "stream",
     "text": [
      "218.5691581365421\n",
      "486.7369680928184\n",
      "230.25678946160784\n",
      "486.93190858168754\n",
      "220.24627481437147\n",
      "486.47793747182254\n",
      "241.53033702277446\n",
      "486.4172555163112\n",
      "244.949522872648\n",
      "486.9218292032087\n",
      "239.54201738091\n"
     ]
    }
   ],
   "source": [
    "np.random.seed(2001)\n",
    "\n",
    "w_r = np.block([\n",
    "    [ M.W_E_E * np.diag(np.ones((M.N_EXC - 1)), k=-1), M.W_I_E * np.ones((M.N_EXC, M.N_INH)) ],\n",
    "    [ M.W_E_I * np.ones((M.N_INH, M.N_EXC)), np.zeros((M.N_INH, M.N_INH)) ],\n",
    "])\n",
    "\n",
    "w_u = np.block([\n",
    "    [ np.array([M.W_U_E]), np.zeros((1)) ],\n",
    "    [ np.zeros((M.N_EXC - 1, 2)) ],\n",
    "    [ np.zeros((M.N_INH, 1)), M.W_U_I * np.ones((M.N_INH, 1)) ],\n",
    "])\n",
    "\n",
    "i_b = np.zeros((M.N_EXC + M.N_INH), dtype=int)\n",
    "\n",
    "ntwk = LIFNtwkI(\n",
    "    c_m = M.C_M_E,\n",
    "    g_l = M.G_L_E,\n",
    "    e_l = M.E_L_E,\n",
    "    v_th = M.V_TH_E,\n",
    "    v_r = M.E_R_E,\n",
    "    t_r = t_r,\n",
    "    w_r = w_r,\n",
    "    w_u = w_u,\n",
    "    i_b = i_b,\n",
    "    f_b = M.F_B,\n",
    "    t_b = M.T_B,\n",
    "    t_a = 4e-3,\n",
    ")\n",
    "\n",
    "S = Generic(RNG_SEED=0, DT=dt)\n",
    "t = np.arange(0, 2.5, S.DT)\n",
    "\n",
    "spks_u = np.zeros((len(t), 2), dtype=int)\n",
    "spks_u[0, 0] = 1\n",
    "switches = 12\n",
    "seg_length = int(len(t) / switches)\n",
    "for i in range(switches):\n",
    "    if i % 2 == 0:\n",
    "        spks_u[i * seg_length: (i + 1) * seg_length, 1] = np.random.poisson(lam=2000 * S.DT, size=seg_length)\n",
    "\n",
    "rsp = ntwk.run(\n",
    "    dt=S.DT,\n",
    "    clamp=Generic(v={0: M.E_L_E * np.ones((M.N_EXC + M.N_INH))}, spk={}),\n",
    "    i_ext=np.zeros(len(t)),\n",
    "    spks_u=spks_u)\n",
    "\n",
    "raster = np.stack([rsp.spks_t, rsp.spks_c])\n",
    "inh_raster = raster[:, raster[1, :] >= M.N_EXC]\n",
    "exc_raster = raster[:, raster[1, :] < M.N_EXC]\n",
    "\n",
    "scale = 1.\n",
    "gs = gridspec.GridSpec(1, 1)\n",
    "fig = plt.figure(figsize=(6 * scale, 5 * scale), tight_layout=True)\n",
    "axs = [fig.add_subplot(gs[0])]\n",
    "\n",
    "axs[0].scatter(exc_raster[0, :] * 1000, exc_raster[1, :], c='black', s=1)\n",
    "axs[0].scatter(inh_raster[0, :] * 1000, inh_raster[1, :], c='red', s=1)\n",
    "\n",
    "# axs[0].set_ylim(-1, 102)\n",
    "\n",
    "scale = 1.\n",
    "gs = gridspec.GridSpec(1, 1)\n",
    "fig = plt.figure(figsize=(6 * scale, 5 * scale), tight_layout=True)\n",
    "axs = [fig.add_subplot(gs[0])]\n",
    "\n",
    "buffer = 300\n",
    "for i in range(switches):\n",
    "    switch_range = ((i * seg_length + buffer) * S.DT, ((i+1) * seg_length - buffer) * S.DT)\n",
    "    raster_for_switch = exc_raster[:, (exc_raster[0, :] >= switch_range[0]) & (exc_raster[0, :] < switch_range[1])]\n",
    "    if i % 2 == 0:\n",
    "        c = 'purple'\n",
    "    else:\n",
    "        c = 'black'\n",
    "        \n",
    "    axs[0].scatter(raster_for_switch[0, :] * 1000, raster_for_switch[1, :], c=c, s=1)\n",
    "    \n",
    "    if raster_for_switch.shape[1] > 0:\n",
    "        res = stats.linregress(raster_for_switch[0, :], raster_for_switch[1, :])\n",
    "        print(res.slope)"
   ]
  },
  {
   "cell_type": "code",
   "execution_count": 138,
   "metadata": {},
   "outputs": [
    {
     "data": {
      "application/vnd.jupyter.widget-view+json": {
       "model_id": "0c75c8760ceb4e23857187d6ce33ff64",
       "version_major": 2,
       "version_minor": 0
      },
      "text/plain": [
       "Canvas(toolbar=Toolbar(toolitems=[('Home', 'Reset original view', 'home', 'home'), ('Back', 'Back to previous …"
      ]
     },
     "metadata": {},
     "output_type": "display_data"
    },
    {
     "data": {
      "application/vnd.jupyter.widget-view+json": {
       "model_id": "ede03aaeccaf4c3b94e797aed5430c64",
       "version_major": 2,
       "version_minor": 0
      },
      "text/plain": [
       "Canvas(toolbar=Toolbar(toolitems=[('Home', 'Reset original view', 'home', 'home'), ('Back', 'Back to previous …"
      ]
     },
     "metadata": {},
     "output_type": "display_data"
    },
    {
     "name": "stdout",
     "output_type": "stream",
     "text": [
      "235.7853070470701\n",
      "487.2808879715203\n",
      "238.15935539929214\n",
      "486.9120264550274\n",
      "233.88496575398563\n",
      "487.02386781984893\n",
      "207.68724215877594\n",
      "486.79944618766416\n",
      "230.6440952977814\n",
      "486.86483108331385\n",
      "226.21296871333757\n"
     ]
    }
   ],
   "source": [
    "np.random.seed(2002)\n",
    "\n",
    "w_r = np.block([\n",
    "    [ M.W_E_E * np.diag(np.ones((M.N_EXC - 1)), k=-1), M.W_I_E * np.ones((M.N_EXC, M.N_INH)) ],\n",
    "    [ M.W_E_I * np.ones((M.N_INH, M.N_EXC)), np.zeros((M.N_INH, M.N_INH)) ],\n",
    "])\n",
    "\n",
    "w_u = np.block([\n",
    "    [ np.array([M.W_U_E]), np.zeros((1)) ],\n",
    "    [ np.zeros((M.N_EXC - 1, 2)) ],\n",
    "    [ np.zeros((M.N_INH, 1)), M.W_U_I * np.ones((M.N_INH, 1)) ],\n",
    "])\n",
    "\n",
    "i_b = np.zeros((M.N_EXC + M.N_INH), dtype=int)\n",
    "\n",
    "ntwk = LIFNtwkI(\n",
    "    c_m = M.C_M_E,\n",
    "    g_l = M.G_L_E,\n",
    "    e_l = M.E_L_E,\n",
    "    v_th = M.V_TH_E,\n",
    "    v_r = M.E_R_E,\n",
    "    t_r = t_r,\n",
    "    w_r = w_r,\n",
    "    w_u = w_u,\n",
    "    i_b = i_b,\n",
    "    f_b = M.F_B,\n",
    "    t_b = M.T_B,\n",
    "    t_a = 4e-3,\n",
    ")\n",
    "\n",
    "S = Generic(RNG_SEED=0, DT=dt)\n",
    "t = np.arange(0, 2.5, S.DT)\n",
    "\n",
    "spks_u = np.zeros((len(t), 2), dtype=int)\n",
    "spks_u[0, 0] = 1\n",
    "switches = 12\n",
    "seg_length = int(len(t) / switches)\n",
    "for i in range(switches):\n",
    "    if i % 2 == 0:\n",
    "        spks_u[i * seg_length: (i + 1) * seg_length, 1] = np.random.poisson(lam=2000 * S.DT, size=seg_length)\n",
    "\n",
    "rsp = ntwk.run(\n",
    "    dt=S.DT,\n",
    "    clamp=Generic(v={0: M.E_L_E * np.ones((M.N_EXC + M.N_INH))}, spk={}),\n",
    "    i_ext=np.zeros(len(t)),\n",
    "    spks_u=spks_u)\n",
    "\n",
    "raster = np.stack([rsp.spks_t, rsp.spks_c])\n",
    "inh_raster = raster[:, raster[1, :] >= M.N_EXC]\n",
    "exc_raster = raster[:, raster[1, :] < M.N_EXC]\n",
    "\n",
    "scale = 1.\n",
    "gs = gridspec.GridSpec(1, 1)\n",
    "fig = plt.figure(figsize=(6 * scale, 5 * scale), tight_layout=True)\n",
    "axs = [fig.add_subplot(gs[0])]\n",
    "\n",
    "axs[0].scatter(exc_raster[0, :] * 1000, exc_raster[1, :], c='black', s=1)\n",
    "axs[0].scatter(inh_raster[0, :] * 1000, inh_raster[1, :], c='red', s=1)\n",
    "\n",
    "# axs[0].set_ylim(-1, 102)\n",
    "\n",
    "scale = 1.\n",
    "gs = gridspec.GridSpec(1, 1)\n",
    "fig = plt.figure(figsize=(6 * scale, 5 * scale), tight_layout=True)\n",
    "axs = [fig.add_subplot(gs[0])]\n",
    "\n",
    "buffer = 300\n",
    "for i in range(switches):\n",
    "    switch_range = ((i * seg_length + buffer) * S.DT, ((i+1) * seg_length - buffer) * S.DT)\n",
    "    raster_for_switch = exc_raster[:, (exc_raster[0, :] >= switch_range[0]) & (exc_raster[0, :] < switch_range[1])]\n",
    "    if i % 2 == 0:\n",
    "        c = 'purple'\n",
    "    else:\n",
    "        c = 'black'\n",
    "        \n",
    "    axs[0].scatter(raster_for_switch[0, :] * 1000, raster_for_switch[1, :], c=c, s=1)\n",
    "    \n",
    "    if raster_for_switch.shape[1] > 0:\n",
    "        res = stats.linregress(raster_for_switch[0, :], raster_for_switch[1, :])\n",
    "        print(res.slope)"
   ]
  },
  {
   "cell_type": "code",
   "execution_count": 141,
   "metadata": {},
   "outputs": [],
   "source": [
    "# PARAMS\n",
    "## NEURON AND NETWORK MODEL\n",
    "M = Generic(\n",
    "    # Excitatory membrane\n",
    "    C_M_E=1e-6,  # membrane capacitance\n",
    "    G_L_E=.25e-3,  # membrane leak conductance (T_M (s) = C_M (F/cm^2) / G_L (S/cm^2))\n",
    "    E_L_E=-.07,  # membrane leak potential (V)\n",
    "    V_TH_E=-.05,  # membrane spike threshold (V)\n",
    "    T_R_E=10e-3,  # refractory period (s)\n",
    "    T_R_I=0,\n",
    "    E_R_E=-0.07, # reset voltage (V)\n",
    "    \n",
    "    # Inhibitory membrane\n",
    "    #C_M_I=1e-6,\n",
    "    #G_L_E=.1e-3, \n",
    "    #E_L_I=-.06,\n",
    "    #V_TH_E=-.05,\n",
    "    #T_R_I=.002,\n",
    "    \n",
    "    N_EXC=800,\n",
    "    N_INH=1,\n",
    "    \n",
    "    # OTHER INPUTS\n",
    "    SGM_N=.1e-10,  # noise level (A*sqrt(s))\n",
    "    I_EXT_B=0,  # additional baseline current input\n",
    "    \n",
    "    W_E_E = 2.4e-5,\n",
    "    W_E_I = 0.05e-5, #0.2e-5, #1e-5,\n",
    "    W_I_E = -0.18e-5,\n",
    "    W_U_E = 0.2e-4,\n",
    "    W_U_I = 0.05e-5, #1e-1,\n",
    "    \n",
    "    F_B = 5e3,\n",
    "    T_B = 10e-3,\n",
    ")\n",
    "\n",
    "t_r = M.T_R_E * np.ones((M.N_EXC + M.N_INH))\n",
    "t_r[-1] = M.T_R_I"
   ]
  },
  {
   "cell_type": "code",
   "execution_count": null,
   "metadata": {},
   "outputs": [],
   "source": [
    "np.random.seed(2002)\n",
    "\n",
    "w_r = np.block([\n",
    "    [ M.W_E_E * np.diag(np.ones((M.N_EXC - 1)), k=-1), M.W_I_E * np.ones((M.N_EXC, M.N_INH)) ],\n",
    "    [ M.W_E_I * np.ones((M.N_INH, M.N_EXC)), np.zeros((M.N_INH, M.N_INH)) ],\n",
    "])\n",
    "\n",
    "w_u = np.block([\n",
    "    [ np.array([M.W_U_E]), np.zeros((1)) ],\n",
    "    [ np.zeros((M.N_EXC - 1, 2)) ],\n",
    "    [ np.zeros((M.N_INH, 1)), M.W_U_I * np.ones((M.N_INH, 1)) ],\n",
    "])\n",
    "\n",
    "i_b = np.zeros((M.N_EXC + M.N_INH), dtype=int)\n",
    "\n",
    "ntwk = LIFNtwkI(\n",
    "    c_m = M.C_M_E,\n",
    "    g_l = M.G_L_E,\n",
    "    e_l = M.E_L_E,\n",
    "    v_th = M.V_TH_E,\n",
    "    v_r = M.E_R_E,\n",
    "    t_r = t_r,\n",
    "    w_r = w_r,\n",
    "    w_u = w_u,\n",
    "    i_b = i_b,\n",
    "    f_b = M.F_B,\n",
    "    t_b = M.T_B,\n",
    "    t_a = 4e-3,\n",
    ")\n",
    "\n",
    "S = Generic(RNG_SEED=0, DT=dt)\n",
    "t = np.arange(0, 2.5, S.DT)\n",
    "\n",
    "spks_u = np.zeros((len(t), 2), dtype=int)\n",
    "spks_u[0, 0] = 1\n",
    "switches = 12\n",
    "seg_length = int(len(t) / switches)\n",
    "for i in range(switches):\n",
    "    if i % 2 == 0:\n",
    "        spks_u[i * seg_length: (i + 1) * seg_length, 1] = np.random.poisson(lam=2000 * S.DT, size=seg_length)\n",
    "\n",
    "rsp = ntwk.run(\n",
    "    dt=S.DT,\n",
    "    clamp=Generic(v={0: M.E_L_E * np.ones((M.N_EXC + M.N_INH))}, spk={}),\n",
    "    i_ext=np.zeros(len(t)),\n",
    "    spks_u=spks_u)\n",
    "\n",
    "raster = np.stack([rsp.spks_t, rsp.spks_c])\n",
    "inh_raster = raster[:, raster[1, :] >= M.N_EXC]\n",
    "exc_raster = raster[:, raster[1, :] < M.N_EXC]\n",
    "\n",
    "scale = 1.\n",
    "gs = gridspec.GridSpec(1, 1)\n",
    "fig = plt.figure(figsize=(6 * scale, 5 * scale), tight_layout=True)\n",
    "axs = [fig.add_subplot(gs[0])]\n",
    "\n",
    "axs[0].scatter(exc_raster[0, :] * 1000, exc_raster[1, :], c='black', s=1)\n",
    "axs[0].scatter(inh_raster[0, :] * 1000, inh_raster[1, :], c='red', s=1)\n",
    "\n",
    "# axs[0].set_ylim(-1, 102)\n",
    "\n",
    "scale = 1.\n",
    "gs = gridspec.GridSpec(1, 1)\n",
    "fig = plt.figure(figsize=(6 * scale, 5 * scale), tight_layout=True)\n",
    "axs = [fig.add_subplot(gs[0])]\n",
    "\n",
    "buffer = 300\n",
    "for i in range(switches):\n",
    "    switch_range = ((i * seg_length + buffer) * S.DT, ((i+1) * seg_length - buffer) * S.DT)\n",
    "    raster_for_switch = exc_raster[:, (exc_raster[0, :] >= switch_range[0]) & (exc_raster[0, :] < switch_range[1])]\n",
    "    if i % 2 == 0:\n",
    "        c = 'purple'\n",
    "    else:\n",
    "        c = 'black'\n",
    "        \n",
    "    axs[0].scatter(raster_for_switch[0, :] * 1000, raster_for_switch[1, :], c=c, s=1)\n",
    "    \n",
    "    if raster_for_switch.shape[1] > 0:\n",
    "        res = stats.linregress(raster_for_switch[0, :], raster_for_switch[1, :])\n",
    "        print(res.slope)"
   ]
  },
  {
   "cell_type": "code",
   "execution_count": null,
   "metadata": {},
   "outputs": [],
   "source": []
  }
 ],
 "metadata": {
  "kernelspec": {
   "display_name": "Python 3",
   "language": "python",
   "name": "python3"
  },
  "language_info": {
   "codemirror_mode": {
    "name": "ipython",
    "version": 3
   },
   "file_extension": ".py",
   "mimetype": "text/x-python",
   "name": "python",
   "nbconvert_exporter": "python",
   "pygments_lexer": "ipython3",
   "version": "3.7.6"
  }
 },
 "nbformat": 4,
 "nbformat_minor": 4
}
