{
 "cells": [
  {
   "cell_type": "markdown",
   "metadata": {},
   "source": [
    "### Single cell model"
   ]
  },
  {
   "cell_type": "markdown",
   "metadata": {},
   "source": [
    "Consider a 1-D chain of bursting neurons coupled to a single inhibitory cell. The governing equations for the dynamics of each individual cell are:\n",
    "\n",
    "$$ \\dot{V}(t) = -\\frac{V(t)}{\\tau_m} + \\frac{I(t)}{C}$$\n",
    "\n",
    "where $V(t)$ is the membrane potential, $\\tau_m$ is the membrane time constant, $I(t)$ is the external current, and $C$ is the membrane capacitance."
   ]
  },
  {
   "cell_type": "markdown",
   "metadata": {},
   "source": [
    "If neuron 1 is connected to neuron 2 by directional weight $w$, then the spike from 1 elicits current $I_{s}(t)$ in cell 2, where $I_{s}$ is given by:\n",
    "\n",
    "$$ I_{s}(t) = w \\frac{e}{\\tau_{\\alpha}} (t-t_s) e^{-(t-t_s)/\\tau_{\\alpha}} \\Theta (t - t_s)$$\n",
    "\n",
    "where $\\Theta$ is the Heaviside function."
   ]
  },
  {
   "cell_type": "markdown",
   "metadata": {},
   "source": [
    "If neuron 1 fires at a consistent rate $f$, such that $1/f$ is proportional to or less the $\\tau_{\\alpha}$, the current in cell 2 will saturate at:\n",
    "\n",
    "$$ I_{f} = w \\tau_{\\alpha} e f $$"
   ]
  },
  {
   "cell_type": "markdown",
   "metadata": {},
   "source": [
    "### Chain model"
   ]
  },
  {
   "cell_type": "markdown",
   "metadata": {},
   "source": [
    "Assume each excitatory cell in the chain is coupled to its successor with weight $W_{ee}$ and that each cell is coupled to the I cell with weight $W_{ei}$. Assume the I cell is coupled to all cells in the chain with weight $W_{ie}$.\n",
    "\n",
    "If activity in the chain has reached steady (propagating state), then the average drive to the I cell is:\n",
    "\n",
    "$$ I_{ei} = W_{ei} f_e p t_b $$\n",
    "\n",
    "where $f_e$ is the burst frequency of the bursting cells, $p$ is the number of cells bursting per second (or the propagation speed), and $t_b$ is the duration of the burst for each bursting cell.\n",
    "\n",
    "To calculate the average firing rate of the I cell, we begin with the equation for the voltage of a current-coupled neuron driven by a constant current:\n",
    "\n",
    "$$ V(t) = \\frac{1}{C_i}\\int_{0}^{t} e^{-(t-t')/\\tau_i} I_{ei} dt'$$\n",
    "\n",
    "$$ V_{th}^{i} = \\frac{I_{ei}}{C_i} \\tau_i \\left(1 - e^{-t/\\tau_i}\\right) $$\n",
    "\n",
    "This implies the average time to fire is:\n",
    "\n",
    "$$ t^*_i = -\\tau_i \\log \\left( 1 - \\frac{V_{th}^{i} C_i}{I_{ei} \\tau_i} \\right) $$\n",
    "\n",
    "This implies firing rate $f_i$:\n",
    "\n",
    "$$ f_i = \\frac{-1}{\\tau_i \\log \\left( 1 - \\frac{V_{th}^{i} C_i}{W_{ei} f_e p t_b \\tau_i} \\right)} $$\n",
    "\n",
    "Now we turn to calculating the time-to-fire of a bursting cells that is just beginning to receive input from its predecessor. We assume steady state, so this cell has been receiving constant inhibitory spikes of frequency $f_i$ for a long time. Therefore, we have:\n",
    "\n",
    "$$ V_{th}^{e} - \\frac{W_{ie} f_i \\tau_e}{C_e} = \\frac{1}{C_e}\\int_0^{t^*_e} e^{-(t-t')/\\tau_e} W_{ee} f_e dt'$$\n",
    "\n",
    "\n",
    "$$ V_{th}^{e} - \\frac{W_{ie} f_i \\tau_e}{C_e} = \\frac{\\tau_e}{C_e} (1 - e^{-t^*_e/\\tau_e} ) W_{ee} f_e$$\n",
    "\n",
    "Rearranging, this yields:\n",
    "\n",
    "$$ t^*_e = -\\tau_e \\log \\left(1 - \\frac{C_e (V_{th}^{e} - \\frac{W_{ie} f_i \\tau_e}{C_e})}{\\tau_e W_{ee} f_e }\\right)$$\n",
    "\n",
    "This implies:\n",
    "\n",
    "$$ p_{out} = \\frac{-1}{\\tau_e \\log \\left(1 - \\frac{C_e (V_{th}^{e} - \\frac{W_{ie} f_i \\tau_e}{C_e})}{\\tau_e W_{ee} f_e }\\right) }$$\n",
    "\n",
    "where $f_i$ is a function of $p$."
   ]
  },
  {
   "cell_type": "markdown",
   "metadata": {},
   "source": [
    "We then write:\n",
    "    \n",
    "$$ p_{out} = p + \\Delta p $$\n",
    "\n",
    "This yields:\n",
    "\n",
    "$$ p + \\Delta p = \\frac{-1}{\\tau_e \\log \\left(1 - \\frac{C_e (V_{th}^{e} - \\frac{W_{ie} f_i \\tau_e}{C_e})}{\\tau_e W_{ee} f_e }\\right) }$$\n",
    "\n",
    "$$ \\Delta p = \\frac{-1}{ \\tau_e \\log \\left(1 - \\frac{C_e (V_{th}^{e} - \\frac{W_{ie} f_i \\tau_e}{C_e})}{\\tau_e W_{ee} f_e }\\right)} - p$$"
   ]
  },
  {
   "cell_type": "markdown",
   "metadata": {},
   "source": [
    "We set $\\Delta p = 0$ to find fixed points. "
   ]
  },
  {
   "cell_type": "markdown",
   "metadata": {},
   "source": [
    "### Calculation of stable values of p for different values of recurrent inhibition"
   ]
  },
  {
   "cell_type": "code",
   "execution_count": 1,
   "metadata": {},
   "outputs": [],
   "source": [
    "%matplotlib widget\n",
    "from copy import deepcopy as copy\n",
    "import matplotlib.gridspec as gridspec\n",
    "import matplotlib.pyplot as plt\n",
    "import matplotlib\n",
    "import numpy as np\n",
    "from scipy import stats\n",
    "from scipy.optimize import fsolve\n",
    "import scipy.io as sio\n",
    "import pandas as pd\n",
    "from tqdm import tqdm\n",
    "import pickle\n",
    "from collections import OrderedDict\n",
    "import os\n",
    "from scipy.ndimage.interpolation import shift\n",
    "from functools import reduce\n",
    "import time\n",
    "\n",
    "import warnings\n",
    "warnings.filterwarnings(\"ignore\", category=RuntimeWarning) "
   ]
  },
  {
   "cell_type": "code",
   "execution_count": 8,
   "metadata": {},
   "outputs": [],
   "source": [
    "dt = 5e-5\n",
    "tau_m_e = 4e-3\n",
    "tau_m_i = 4e-3\n",
    "tau_a = 3e-3\n",
    "v_th_e = 20e-3\n",
    "v_th_i = 20e-3\n",
    "c_e = 1e-6\n",
    "c_i = 1e-6\n",
    "\n",
    "w_ee = 2.4e-5 \n",
    "w_ei = 1.0e-5 \n",
    "w_ie_base = -0.05e-5"
   ]
  },
  {
   "cell_type": "code",
   "execution_count": 9,
   "metadata": {},
   "outputs": [],
   "source": [
    "def f_i(input_current):\n",
    "    x = (v_th_i * c_i) / input_current\n",
    "    return np.where(x >= 0, np.where(x >= 1, 0, -1 / (tau_m_i * np.log(1 - x))), 0)\n",
    "\n",
    "def v_a_transient(t):\n",
    "    m = (1 / tau_a - 1/ tau_m_e)\n",
    "    x = (np.exp(-t/tau_m_e) - np.exp(-t/tau_a)) / np.square(m) - t * np.exp(-t/tau_a) / m\n",
    "    return np.where(t >= 0, np.e / (c_e * tau_a) * x, 0)\n",
    "\n",
    "def dp(p):\n",
    "    print()\n",
    "    print('transient:', c_e * w_ee * v_a_transient(1/p))\n",
    "    print('thresh:', -(c_e * v_th_e))\n",
    "    print('f_i:', f_i(w_ei * tau_a * np.e * p))\n",
    "    return c_e * w_ee * v_a_transient(1/p) - (c_e * v_th_e - w_ie * f_i(w_ei * tau_a * np.e * p))"
   ]
  },
  {
   "cell_type": "code",
   "execution_count": 10,
   "metadata": {
    "scrolled": false
   },
   "outputs": [
    {
     "data": {
      "application/vnd.jupyter.widget-view+json": {
       "model_id": "152d95da2ca8402981ceb7e7a59a01e6",
       "version_major": 2,
       "version_minor": 0
      },
      "text/plain": [
       "Canvas(toolbar=Toolbar(toolitems=[('Home', 'Reset original view', 'home', 'home'), ('Back', 'Back to previous …"
      ]
     },
     "metadata": {},
     "output_type": "display_data"
    },
    {
     "name": "stdout",
     "output_type": "stream",
     "text": [
      "\n",
      "transient: [4.37237213e-08]\n",
      "thresh: -2e-08\n",
      "f_i: [305681.68866322]\n",
      "\n",
      "transient: [4.37237213e-08]\n",
      "thresh: -2e-08\n",
      "f_i: [305681.68866322]\n",
      "\n",
      "transient: [4.37237213e-08]\n",
      "thresh: -2e-08\n",
      "f_i: [305681.68866322]\n",
      "\n",
      "transient: [4.37237206e-08]\n",
      "thresh: -2e-08\n",
      "f_i: [305681.69322008]\n",
      "\n",
      "transient: [2.60807472e-08]\n",
      "thresh: -2e-08\n",
      "f_i: [473989.30070201]\n",
      "\n",
      "transient: [2.22374367e-08]\n",
      "thresh: -2e-08\n",
      "f_i: [531997.4358991]\n",
      "\n",
      "transient: [2.03598169e-08]\n",
      "thresh: -2e-08\n",
      "f_i: [565767.67983568]\n",
      "\n",
      "transient: [2.00259722e-08]\n",
      "thresh: -2e-08\n",
      "f_i: [572239.22575496]\n",
      "\n",
      "transient: [2.00003291e-08]\n",
      "thresh: -2e-08\n",
      "f_i: [572742.69394995]\n",
      "\n",
      "transient: [2.00000003e-08]\n",
      "thresh: -2e-08\n",
      "f_i: [572749.15477062]\n",
      "\n",
      "transient: [2.e-08]\n",
      "thresh: -2e-08\n",
      "f_i: [572749.16077408]\n",
      "\n",
      "transient: [2.e-08]\n",
      "thresh: -2e-08\n",
      "f_i: [572749.16077408]\n",
      "\n",
      "FINISH\n",
      "[561.99634526]\n",
      "\n",
      "transient: [2.e-08]\n",
      "thresh: -2e-08\n",
      "f_i: [572749.16077408]\n",
      "[1.15805286e-22]\n",
      "\n",
      "transient: [4.37237213e-08]\n",
      "thresh: -2e-08\n",
      "f_i: [305681.68866322]\n",
      "\n",
      "transient: [4.37237213e-08]\n",
      "thresh: -2e-08\n",
      "f_i: [305681.68866322]\n",
      "\n",
      "transient: [4.37237213e-08]\n",
      "thresh: -2e-08\n",
      "f_i: [305681.68866322]\n",
      "\n",
      "transient: [4.37237206e-08]\n",
      "thresh: -2e-08\n",
      "f_i: [305681.69322008]\n",
      "\n",
      "transient: [0.]\n",
      "thresh: -2e-08\n",
      "f_i: [0.]\n",
      "\n",
      "transient: [0.]\n",
      "thresh: -2e-08\n",
      "f_i: [0.]\n",
      "\n",
      "transient: [0.]\n",
      "thresh: -2e-08\n",
      "f_i: [0.]\n",
      "\n",
      "transient: [0.]\n",
      "thresh: -2e-08\n",
      "f_i: [0.]\n",
      "\n",
      "transient: [6.35789171e-08]\n",
      "thresh: -2e-08\n",
      "f_i: [152840.52937339]\n",
      "\n",
      "transient: [0.]\n",
      "thresh: -2e-08\n",
      "f_i: [0.]\n",
      "\n",
      "transient: [2.63701598e-09]\n",
      "thresh: -2e-08\n",
      "f_i: [38209.57045224]\n",
      "\n",
      "transient: [0.]\n",
      "thresh: -2e-08\n",
      "f_i: [0.]\n",
      "\n",
      "transient: [1.14329162e-17]\n",
      "thresh: -2e-08\n",
      "f_i: [9551.44730332]\n",
      "\n",
      "transient: [0.]\n",
      "thresh: -2e-08\n",
      "f_i: [0.]\n",
      "\n",
      "transient: [2.79939322e-50]\n",
      "thresh: -2e-08\n",
      "f_i: [2385.38100751]\n",
      "\n",
      "transient: [0.]\n",
      "thresh: -2e-08\n",
      "f_i: [0.]\n",
      "\n",
      "FINISH\n",
      "[0.12205867]\n",
      "\n",
      "transient: [0.]\n",
      "thresh: -2e-08\n",
      "f_i: [0.]\n",
      "[-2.e-08]\n",
      "\n",
      "transient: [4.37237213e-08]\n",
      "thresh: -2e-08\n",
      "f_i: [305681.68866322]\n",
      "\n",
      "transient: [4.37237213e-08]\n",
      "thresh: -2e-08\n",
      "f_i: [305681.68866322]\n",
      "\n",
      "transient: [4.37237213e-08]\n",
      "thresh: -2e-08\n",
      "f_i: [305681.68866322]\n",
      "\n",
      "transient: [4.37237206e-08]\n",
      "thresh: -2e-08\n",
      "f_i: [305681.69322008]\n",
      "\n",
      "transient: [0.]\n",
      "thresh: -2e-08\n",
      "f_i: [0.]\n",
      "\n",
      "transient: [0.]\n",
      "thresh: -2e-08\n",
      "f_i: [0.]\n",
      "\n",
      "transient: [0.]\n",
      "thresh: -2e-08\n",
      "f_i: [0.]\n",
      "\n",
      "transient: [0.]\n",
      "thresh: -2e-08\n",
      "f_i: [0.]\n",
      "\n",
      "transient: [6.35789166e-08]\n",
      "thresh: -2e-08\n",
      "f_i: [152840.46468797]\n",
      "\n",
      "transient: [0.]\n",
      "thresh: -2e-08\n",
      "f_i: [0.]\n",
      "\n",
      "transient: [2.63697064e-09]\n",
      "thresh: -2e-08\n",
      "f_i: [38209.45725238]\n",
      "\n",
      "transient: [0.]\n",
      "thresh: -2e-08\n",
      "f_i: [0.]\n",
      "\n",
      "transient: [1.14290193e-17]\n",
      "thresh: -2e-08\n",
      "f_i: [9551.32196819]\n",
      "\n",
      "transient: [0.]\n",
      "thresh: -2e-08\n",
      "f_i: [0.]\n",
      "\n",
      "transient: [2.78492474e-50]\n",
      "thresh: -2e-08\n",
      "f_i: [2385.25252986]\n",
      "\n",
      "transient: [0.]\n",
      "thresh: -2e-08\n",
      "f_i: [0.]\n",
      "\n",
      "FINISH\n",
      "[0.12193176]\n",
      "\n",
      "transient: [0.]\n",
      "thresh: -2e-08\n",
      "f_i: [0.]\n",
      "[-2.e-08]\n"
     ]
    }
   ],
   "source": [
    "scale = 1.4\n",
    "fig, axs = plt.subplots(2, 1, sharex=True, sharey=False, figsize=(6 * scale, 6 * scale))\n",
    "for i, w_ie in enumerate([0, 0.5 * w_ie_base, w_ie_base]):\n",
    "    p_stable = fsolve(dp, 300)\n",
    "    print()\n",
    "    print('FINISH')\n",
    "    print(p_stable)\n",
    "    print(dp(p_stable))\n",
    "    axs[0].scatter([-1 * w_ie] * len(p_stable), p_stable, s=5, c='black')\n",
    "#     axs[i].set_xlabel('p (1/s)')\n",
    "#     axs[i].set_ylabel(r'$\\Delta p$ (1/s)')\n",
    "#     axs[i].plot(p, [0] * len(p), '--', c='red')\n",
    "#     axs[i].set_xlim(0, 5000)\n",
    "#     axs[i].legend()\n",
    "    axs[1].scatter([-1 * w_ie] * len(p_stable), f_i(w_ei * tau_a * np.e * p_stable), s=5, c='black')\n",
    "plt.show()"
   ]
  },
  {
   "cell_type": "markdown",
   "metadata": {},
   "source": [
    "### Controling p with uva input"
   ]
  },
  {
   "cell_type": "markdown",
   "metadata": {},
   "source": [
    "Now, supply the I cell with an additional excitatory input $u$. The equation for $f_i$ is now:\n",
    "\n",
    "$$ f_i = \\frac{-1}{\\tau_i \\log \\left( 1 - \\frac{V_{th}^{i} C_i}{\\tau_i (W_{ei} f_e p t_b + u)} \\right)} $$\n",
    "\n",
    "This provides a means for controlling the propagation speed of the E cells."
   ]
  },
  {
   "cell_type": "code",
   "execution_count": 5,
   "metadata": {},
   "outputs": [
    {
     "data": {
      "application/vnd.jupyter.widget-view+json": {
       "model_id": "927698ce307a4411ba88e43fe8dc9caf",
       "version_major": 2,
       "version_minor": 0
      },
      "text/plain": [
       "Canvas(toolbar=Toolbar(toolitems=[('Home', 'Reset original view', 'home', 'home'), ('Back', 'Back to previous …"
      ]
     },
     "metadata": {},
     "output_type": "display_data"
    },
    {
     "ename": "TypeError",
     "evalue": "dp() takes 1 positional argument but 2 were given",
     "output_type": "error",
     "traceback": [
      "\u001b[0;31m---------------------------------------------------------------------------\u001b[0m",
      "\u001b[0;31mTypeError\u001b[0m                                 Traceback (most recent call last)",
      "\u001b[0;32m<ipython-input-5-3cabd7851608>\u001b[0m in \u001b[0;36m<module>\u001b[0;34m\u001b[0m\n\u001b[1;32m      8\u001b[0m \u001b[0;32mfor\u001b[0m \u001b[0mi\u001b[0m\u001b[0;34m,\u001b[0m \u001b[0mu\u001b[0m \u001b[0;32min\u001b[0m \u001b[0menumerate\u001b[0m\u001b[0;34m(\u001b[0m\u001b[0;34m[\u001b[0m\u001b[0;36m0\u001b[0m\u001b[0;34m,\u001b[0m \u001b[0;36m0.5e-1\u001b[0m \u001b[0;34m*\u001b[0m \u001b[0mdt\u001b[0m\u001b[0;34m,\u001b[0m \u001b[0;36m2e-1\u001b[0m \u001b[0;34m*\u001b[0m \u001b[0mdt\u001b[0m\u001b[0;34m]\u001b[0m\u001b[0;34m)\u001b[0m\u001b[0;34m:\u001b[0m\u001b[0;34m\u001b[0m\u001b[0;34m\u001b[0m\u001b[0m\n\u001b[1;32m      9\u001b[0m     \u001b[0mp\u001b[0m \u001b[0;34m=\u001b[0m \u001b[0mnp\u001b[0m\u001b[0;34m.\u001b[0m\u001b[0mlinspace\u001b[0m\u001b[0;34m(\u001b[0m\u001b[0;36m10\u001b[0m\u001b[0;34m,\u001b[0m \u001b[0;36m2000\u001b[0m\u001b[0;34m,\u001b[0m \u001b[0;36m1000\u001b[0m\u001b[0;34m)\u001b[0m\u001b[0;34m\u001b[0m\u001b[0;34m\u001b[0m\u001b[0m\n\u001b[0;32m---> 10\u001b[0;31m     \u001b[0maxs\u001b[0m\u001b[0;34m.\u001b[0m\u001b[0mplot\u001b[0m\u001b[0;34m(\u001b[0m\u001b[0mp\u001b[0m\u001b[0;34m,\u001b[0m \u001b[0mdp\u001b[0m\u001b[0;34m(\u001b[0m\u001b[0mp\u001b[0m\u001b[0;34m,\u001b[0m \u001b[0mu\u001b[0m\u001b[0;34m)\u001b[0m\u001b[0;34m,\u001b[0m \u001b[0mlw\u001b[0m\u001b[0;34m=\u001b[0m\u001b[0;36m1.\u001b[0m\u001b[0;34m,\u001b[0m \u001b[0mlabel\u001b[0m\u001b[0;34m=\u001b[0m\u001b[0;34mf'u={u}'\u001b[0m\u001b[0;34m,\u001b[0m \u001b[0mc\u001b[0m\u001b[0;34m=\u001b[0m\u001b[0mcolors\u001b[0m\u001b[0;34m[\u001b[0m\u001b[0mi\u001b[0m\u001b[0;34m]\u001b[0m\u001b[0;34m)\u001b[0m\u001b[0;34m\u001b[0m\u001b[0;34m\u001b[0m\u001b[0m\n\u001b[0m\u001b[1;32m     11\u001b[0m \u001b[0maxs\u001b[0m\u001b[0;34m.\u001b[0m\u001b[0mset_xlabel\u001b[0m\u001b[0;34m(\u001b[0m\u001b[0;34m'p (1/s)'\u001b[0m\u001b[0;34m)\u001b[0m\u001b[0;34m\u001b[0m\u001b[0;34m\u001b[0m\u001b[0m\n\u001b[1;32m     12\u001b[0m \u001b[0maxs\u001b[0m\u001b[0;34m.\u001b[0m\u001b[0mset_ylabel\u001b[0m\u001b[0;34m(\u001b[0m\u001b[0;34mr'$\\Delta p$ (1/s)'\u001b[0m\u001b[0;34m)\u001b[0m\u001b[0;34m\u001b[0m\u001b[0;34m\u001b[0m\u001b[0m\n",
      "\u001b[0;31mTypeError\u001b[0m: dp() takes 1 positional argument but 2 were given"
     ]
    }
   ],
   "source": [
    "scale = 1.4\n",
    "fig, axs = plt.subplots(1, 1, sharex=True, sharey=False, figsize=(6 * scale, 6 * scale))\n",
    "\n",
    "w_ie = w_ie_base\n",
    "\n",
    "colors = ['purple', 'blue', 'orange']\n",
    "\n",
    "for i, u in enumerate([0, 0.5e-1 * dt, 2e-1 * dt]):\n",
    "    p = np.linspace(10, 2000, 1000)\n",
    "    axs.plot(p, dp(p, u), lw=1., label=f'u={u}', c=colors[i])\n",
    "axs.set_xlabel('p (1/s)')\n",
    "axs.set_ylabel(r'$\\Delta p$ (1/s)')\n",
    "axs.plot(p, [0] * len(p), '--', c='red')\n",
    "axs.set_xlim(0, 2000)\n",
    "axs.legend()\n",
    "plt.show()"
   ]
  },
  {
   "cell_type": "markdown",
   "metadata": {},
   "source": [
    "### Why bother with the recurrent inhibitory loop?\n",
    "\n",
    "Uva could just as easily directly inhibit or excite the chain itself. However, a chain without recurrent inhibition changes propagation speed when E cells die. To explore this, we modulate $W_{ei}$ and $W_{ee}$ by a factor $\\alpha$ to explore the effect of hypothetical E cell death.\n",
    "\n",
    "### Propagation speed fixed points of a chain for different values of $\\alpha$ and Uva input )\n",
    "\n",
    "#### 1. With recurrent inhibition and Uva exciting the I cell:"
   ]
  },
  {
   "cell_type": "code",
   "execution_count": 11,
   "metadata": {},
   "outputs": [
    {
     "data": {
      "application/vnd.jupyter.widget-view+json": {
       "model_id": "e6c80e3df6c14d91a9d7749898e5ee2b",
       "version_major": 2,
       "version_minor": 0
      },
      "text/plain": [
       "Canvas(toolbar=Toolbar(toolitems=[('Home', 'Reset original view', 'home', 'home'), ('Back', 'Back to previous …"
      ]
     },
     "metadata": {},
     "output_type": "display_data"
    },
    {
     "ename": "NameError",
     "evalue": "name 'tau_e' is not defined",
     "output_type": "error",
     "traceback": [
      "\u001b[0;31m---------------------------------------------------------------------------\u001b[0m",
      "\u001b[0;31mNameError\u001b[0m                                 Traceback (most recent call last)",
      "\u001b[0;32m<ipython-input-11-aed74d89772f>\u001b[0m in \u001b[0;36m<module>\u001b[0;34m\u001b[0m\n\u001b[1;32m      6\u001b[0m \u001b[0mcolors\u001b[0m \u001b[0;34m=\u001b[0m \u001b[0;34m[\u001b[0m\u001b[0;34m'purple'\u001b[0m\u001b[0;34m,\u001b[0m \u001b[0;34m'blue'\u001b[0m\u001b[0;34m]\u001b[0m\u001b[0;34m\u001b[0m\u001b[0;34m\u001b[0m\u001b[0m\n\u001b[1;32m      7\u001b[0m \u001b[0;34m\u001b[0m\u001b[0m\n\u001b[0;32m----> 8\u001b[0;31m \u001b[0;32mfor\u001b[0m \u001b[0mi\u001b[0m\u001b[0;34m,\u001b[0m \u001b[0mu\u001b[0m \u001b[0;32min\u001b[0m \u001b[0menumerate\u001b[0m\u001b[0;34m(\u001b[0m\u001b[0;34m[\u001b[0m\u001b[0;36m0\u001b[0m\u001b[0;34m,\u001b[0m \u001b[0;36m1e-1\u001b[0m \u001b[0;34m*\u001b[0m \u001b[0mdt\u001b[0m \u001b[0;34m*\u001b[0m \u001b[0mtau_e\u001b[0m \u001b[0;34m*\u001b[0m \u001b[0;36m1200\u001b[0m\u001b[0;34m]\u001b[0m\u001b[0;34m)\u001b[0m\u001b[0;34m:\u001b[0m\u001b[0;34m\u001b[0m\u001b[0;34m\u001b[0m\u001b[0m\n\u001b[0m\u001b[1;32m      9\u001b[0m     \u001b[0;32mfor\u001b[0m \u001b[0mj\u001b[0m\u001b[0;34m,\u001b[0m \u001b[0malpha\u001b[0m \u001b[0;32min\u001b[0m \u001b[0menumerate\u001b[0m\u001b[0;34m(\u001b[0m\u001b[0;34m[\u001b[0m\u001b[0;36m1\u001b[0m\u001b[0;34m,\u001b[0m \u001b[0;36m0.9\u001b[0m\u001b[0;34m,\u001b[0m \u001b[0;36m0.8\u001b[0m\u001b[0;34m,\u001b[0m \u001b[0;36m0.7\u001b[0m\u001b[0;34m,\u001b[0m \u001b[0;36m0.6\u001b[0m\u001b[0;34m]\u001b[0m\u001b[0;34m)\u001b[0m\u001b[0;34m:\u001b[0m\u001b[0;34m\u001b[0m\u001b[0;34m\u001b[0m\u001b[0m\n\u001b[1;32m     10\u001b[0m         \u001b[0mp\u001b[0m \u001b[0;34m=\u001b[0m \u001b[0mnp\u001b[0m\u001b[0;34m.\u001b[0m\u001b[0mlinspace\u001b[0m\u001b[0;34m(\u001b[0m\u001b[0;36m10\u001b[0m\u001b[0;34m,\u001b[0m \u001b[0;36m2500\u001b[0m\u001b[0;34m,\u001b[0m \u001b[0;36m1000\u001b[0m\u001b[0;34m)\u001b[0m\u001b[0;34m\u001b[0m\u001b[0;34m\u001b[0m\u001b[0m\n",
      "\u001b[0;31mNameError\u001b[0m: name 'tau_e' is not defined"
     ]
    }
   ],
   "source": [
    "scale = 1.4\n",
    "fig, axs = plt.subplots(1, 1, sharex=True, sharey=False, figsize=(6 * scale, 6 * scale))\n",
    "\n",
    "w_ie = w_ie_base\n",
    "\n",
    "colors = ['purple', 'blue']\n",
    "\n",
    "for i, u in enumerate([0, 1e-1 * dt * tau_e * 1200]):\n",
    "    for j, alpha in enumerate([1, 0.9, 0.8, 0.7, 0.6]):\n",
    "        p = np.linspace(10, 2500, 1000)\n",
    "        line, = axs.plot(p, dp(p, u, alpha), lw=1., dashes = ([2 * j + 1] * 4), label=f'u={u}, alpha={alpha}', c=colors[i])\n",
    "axs.set_xlabel('p (1/s)')\n",
    "axs.set_ylabel(r'$\\Delta p$ (1/s)')\n",
    "axs.plot(p, [0] * len(p), '--', c='red')\n",
    "axs.set_xlim(0, 1000)\n",
    "axs.set_ylim(-100, 100)\n",
    "axs.legend()\n",
    "plt.show()"
   ]
  },
  {
   "cell_type": "markdown",
   "metadata": {},
   "source": [
    "Here we see that the effect of the uva input is roughly preserved after we rescale $W_{ee}$ and $W_{ei}$ by $\\alpha$: the additional input roughly halves the propagation speed."
   ]
  },
  {
   "cell_type": "markdown",
   "metadata": {},
   "source": [
    "#### 2. Without recurrent inhibition and direct inhibition of chain from Uva:"
   ]
  },
  {
   "cell_type": "code",
   "execution_count": 12,
   "metadata": {},
   "outputs": [
    {
     "data": {
      "application/vnd.jupyter.widget-view+json": {
       "model_id": "4731986990ad4e44b8fd348c45f5058b",
       "version_major": 2,
       "version_minor": 0
      },
      "text/plain": [
       "Canvas(toolbar=Toolbar(toolitems=[('Home', 'Reset original view', 'home', 'home'), ('Back', 'Back to previous …"
      ]
     },
     "metadata": {},
     "output_type": "display_data"
    },
    {
     "ename": "TypeError",
     "evalue": "dp() got an unexpected keyword argument 'u_e'",
     "output_type": "error",
     "traceback": [
      "\u001b[0;31m---------------------------------------------------------------------------\u001b[0m",
      "\u001b[0;31mTypeError\u001b[0m                                 Traceback (most recent call last)",
      "\u001b[0;32m<ipython-input-12-5e88f1db018a>\u001b[0m in \u001b[0;36m<module>\u001b[0;34m\u001b[0m\n\u001b[1;32m      9\u001b[0m     \u001b[0;32mfor\u001b[0m \u001b[0mj\u001b[0m\u001b[0;34m,\u001b[0m \u001b[0malpha\u001b[0m \u001b[0;32min\u001b[0m \u001b[0menumerate\u001b[0m\u001b[0;34m(\u001b[0m\u001b[0;34m[\u001b[0m\u001b[0;36m1\u001b[0m\u001b[0;34m,\u001b[0m \u001b[0;36m0.9\u001b[0m\u001b[0;34m,\u001b[0m \u001b[0;36m0.8\u001b[0m\u001b[0;34m,\u001b[0m \u001b[0;36m0.7\u001b[0m\u001b[0;34m,\u001b[0m \u001b[0;36m0.6\u001b[0m\u001b[0;34m]\u001b[0m\u001b[0;34m)\u001b[0m\u001b[0;34m:\u001b[0m\u001b[0;34m\u001b[0m\u001b[0;34m\u001b[0m\u001b[0m\n\u001b[1;32m     10\u001b[0m         \u001b[0mp\u001b[0m \u001b[0;34m=\u001b[0m \u001b[0mnp\u001b[0m\u001b[0;34m.\u001b[0m\u001b[0mlinspace\u001b[0m\u001b[0;34m(\u001b[0m\u001b[0;36m10\u001b[0m\u001b[0;34m,\u001b[0m \u001b[0;36m5000\u001b[0m\u001b[0;34m,\u001b[0m \u001b[0;36m1000\u001b[0m\u001b[0;34m)\u001b[0m\u001b[0;34m\u001b[0m\u001b[0;34m\u001b[0m\u001b[0m\n\u001b[0;32m---> 11\u001b[0;31m         \u001b[0maxs\u001b[0m\u001b[0;34m.\u001b[0m\u001b[0mplot\u001b[0m\u001b[0;34m(\u001b[0m\u001b[0mp\u001b[0m\u001b[0;34m,\u001b[0m \u001b[0mdp\u001b[0m\u001b[0;34m(\u001b[0m\u001b[0mp\u001b[0m\u001b[0;34m,\u001b[0m \u001b[0;36m0\u001b[0m\u001b[0;34m,\u001b[0m \u001b[0malpha\u001b[0m\u001b[0;34m,\u001b[0m \u001b[0mu_e\u001b[0m\u001b[0;34m=\u001b[0m\u001b[0mu_e\u001b[0m\u001b[0;34m)\u001b[0m\u001b[0;34m,\u001b[0m \u001b[0mlw\u001b[0m\u001b[0;34m=\u001b[0m\u001b[0;36m1.\u001b[0m\u001b[0;34m,\u001b[0m \u001b[0mdashes\u001b[0m\u001b[0;34m=\u001b[0m\u001b[0;34m(\u001b[0m\u001b[0;34m[\u001b[0m\u001b[0;36m2\u001b[0m \u001b[0;34m*\u001b[0m \u001b[0mj\u001b[0m \u001b[0;34m+\u001b[0m \u001b[0;36m1\u001b[0m\u001b[0;34m]\u001b[0m \u001b[0;34m*\u001b[0m \u001b[0;36m4\u001b[0m\u001b[0;34m)\u001b[0m\u001b[0;34m,\u001b[0m \u001b[0mlabel\u001b[0m\u001b[0;34m=\u001b[0m\u001b[0;34mf'u_e={u_e}, alpha={alpha}'\u001b[0m\u001b[0;34m,\u001b[0m \u001b[0mc\u001b[0m\u001b[0;34m=\u001b[0m\u001b[0mcolors\u001b[0m\u001b[0;34m[\u001b[0m\u001b[0mi\u001b[0m\u001b[0;34m]\u001b[0m\u001b[0;34m)\u001b[0m\u001b[0;34m\u001b[0m\u001b[0;34m\u001b[0m\u001b[0m\n\u001b[0m\u001b[1;32m     12\u001b[0m \u001b[0maxs\u001b[0m\u001b[0;34m.\u001b[0m\u001b[0mset_xlabel\u001b[0m\u001b[0;34m(\u001b[0m\u001b[0;34m'p (1/s)'\u001b[0m\u001b[0;34m)\u001b[0m\u001b[0;34m\u001b[0m\u001b[0;34m\u001b[0m\u001b[0m\n\u001b[1;32m     13\u001b[0m \u001b[0maxs\u001b[0m\u001b[0;34m.\u001b[0m\u001b[0mset_ylabel\u001b[0m\u001b[0;34m(\u001b[0m\u001b[0;34mr'$\\Delta p$ (1/s)'\u001b[0m\u001b[0;34m)\u001b[0m\u001b[0;34m\u001b[0m\u001b[0;34m\u001b[0m\u001b[0m\n",
      "\u001b[0;31mTypeError\u001b[0m: dp() got an unexpected keyword argument 'u_e'"
     ]
    }
   ],
   "source": [
    "scale = 1.4\n",
    "fig, axs = plt.subplots(1, 1, sharex=True, sharey=False, figsize=(6 * scale, 6 * scale))\n",
    "\n",
    "w_ie = 0\n",
    "\n",
    "colors = ['purple', 'blue']\n",
    "\n",
    "for i, u_e in enumerate([0, 2e-1 * dt]):\n",
    "    for j, alpha in enumerate([1, 0.9, 0.8, 0.7, 0.6]):\n",
    "        p = np.linspace(10, 5000, 1000)\n",
    "        axs.plot(p, dp(p, 0, alpha, u_e=u_e), lw=1., dashes=([2 * j + 1] * 4), label=f'u_e={u_e}, alpha={alpha}', c=colors[i])\n",
    "axs.set_xlabel('p (1/s)')\n",
    "axs.set_ylabel(r'$\\Delta p$ (1/s)')\n",
    "axs.plot(p, [0] * len(p), '--', c='red')\n",
    "# axs.set_xlim(0, 1000)\n",
    "axs.set_ylim(-100, 100)\n",
    "axs.legend()\n",
    "plt.show()"
   ]
  },
  {
   "cell_type": "markdown",
   "metadata": {},
   "source": [
    "Here, we see that the effect of the uva input is not preserved after rescaling by alpha."
   ]
  },
  {
   "cell_type": "code",
   "execution_count": 13,
   "metadata": {},
   "outputs": [],
   "source": [
    "from ntwk import LIFNtwkI\n",
    "from aux import *\n",
    "import matplotlib.gridspec as gridspec\n",
    "import matplotlib.pyplot as plt"
   ]
  },
  {
   "cell_type": "code",
   "execution_count": 14,
   "metadata": {},
   "outputs": [],
   "source": [
    "# PARAMS\n",
    "## NEURON AND NETWORK MODEL\n",
    "M = Generic(\n",
    "    # Excitatory membrane\n",
    "    C_M_E=1e-6,  # membrane capacitance\n",
    "    G_L_E=.25e-3,  # membrane leak conductance (T_M (s) = C_M (F/cm^2) / G_L (S/cm^2))\n",
    "    E_L_E=-.07,  # membrane leak potential (V)\n",
    "    V_TH_E=-.05,  # membrane spike threshold (V)\n",
    "    T_R_E=10e-3,  # refractory period (s)\n",
    "    T_R_I=0,\n",
    "    E_R_E=-0.07, # reset voltage (V)\n",
    "    \n",
    "    # Inhibitory membrane\n",
    "    #C_M_I=1e-6,\n",
    "    #G_L_E=.1e-3, \n",
    "    #E_L_I=-.06,\n",
    "    #V_TH_E=-.05,\n",
    "    #T_R_I=.002,\n",
    "    \n",
    "    N_EXC=800,\n",
    "    N_INH=1,\n",
    "    \n",
    "    # OTHER INPUTS\n",
    "    SGM_N=.1e-10,  # noise level (A*sqrt(s))\n",
    "    I_EXT_B=0,  # additional baseline current input\n",
    "    \n",
    "    W_E_E = 2.4e-5,\n",
    "    W_E_I = 0, #0.2e-5, #1e-5,\n",
    "    W_I_E = -0.18e-5,\n",
    "    W_U_E = 0.2e-4,\n",
    "    W_U_I = 0.05e-5, #1e-1,\n",
    "    \n",
    "    F_B = 5e3,\n",
    "    T_B = 10e-3,\n",
    ")\n",
    "\n",
    "t_r = M.T_R_E * np.ones((M.N_EXC + M.N_INH))\n",
    "t_r[-1] = M.T_R_I"
   ]
  },
  {
   "cell_type": "code",
   "execution_count": 15,
   "metadata": {
    "scrolled": false
   },
   "outputs": [
    {
     "data": {
      "application/vnd.jupyter.widget-view+json": {
       "model_id": "145029c369dc4ad5a93de58af5f85d9e",
       "version_major": 2,
       "version_minor": 0
      },
      "text/plain": [
       "Canvas(toolbar=Toolbar(toolitems=[('Home', 'Reset original view', 'home', 'home'), ('Back', 'Back to previous …"
      ]
     },
     "metadata": {},
     "output_type": "display_data"
    },
    {
     "data": {
      "application/vnd.jupyter.widget-view+json": {
       "model_id": "d04f7ed9d13946fab20fedab43d311cf",
       "version_major": 2,
       "version_minor": 0
      },
      "text/plain": [
       "Canvas(toolbar=Toolbar(toolitems=[('Home', 'Reset original view', 'home', 'home'), ('Back', 'Back to previous …"
      ]
     },
     "metadata": {},
     "output_type": "display_data"
    },
    {
     "name": "stdout",
     "output_type": "stream",
     "text": [
      "218.5691581365421\n",
      "486.7369680928184\n",
      "230.25678946160784\n",
      "486.93190858168754\n",
      "220.24627481437147\n",
      "486.47793747182254\n",
      "241.53033702277446\n",
      "486.4172555163112\n",
      "244.949522872648\n",
      "486.9218292032087\n",
      "239.54201738091\n"
     ]
    }
   ],
   "source": [
    "np.random.seed(2001)\n",
    "\n",
    "w_r = np.block([\n",
    "    [ M.W_E_E * np.diag(np.ones((M.N_EXC - 1)), k=-1), M.W_I_E * np.ones((M.N_EXC, M.N_INH)) ],\n",
    "    [ M.W_E_I * np.ones((M.N_INH, M.N_EXC)), np.zeros((M.N_INH, M.N_INH)) ],\n",
    "])\n",
    "\n",
    "w_u = np.block([\n",
    "    [ np.array([M.W_U_E]), np.zeros((1)) ],\n",
    "    [ np.zeros((M.N_EXC - 1, 2)) ],\n",
    "    [ np.zeros((M.N_INH, 1)), M.W_U_I * np.ones((M.N_INH, 1)) ],\n",
    "])\n",
    "\n",
    "i_b = np.zeros((M.N_EXC + M.N_INH), dtype=int)\n",
    "\n",
    "ntwk = LIFNtwkI(\n",
    "    c_m = M.C_M_E,\n",
    "    g_l = M.G_L_E,\n",
    "    e_l = M.E_L_E,\n",
    "    v_th = M.V_TH_E,\n",
    "    v_r = M.E_R_E,\n",
    "    t_r = t_r,\n",
    "    w_r = w_r,\n",
    "    w_u = w_u,\n",
    "    i_b = i_b,\n",
    "    f_b = M.F_B,\n",
    "    t_b = M.T_B,\n",
    "    t_a = 4e-3,\n",
    ")\n",
    "\n",
    "S = Generic(RNG_SEED=0, DT=dt)\n",
    "t = np.arange(0, 2.5, S.DT)\n",
    "\n",
    "spks_u = np.zeros((len(t), 2), dtype=int)\n",
    "spks_u[0, 0] = 1\n",
    "switches = 12\n",
    "seg_length = int(len(t) / switches)\n",
    "for i in range(switches):\n",
    "    if i % 2 == 0:\n",
    "        spks_u[i * seg_length: (i + 1) * seg_length, 1] = np.random.poisson(lam=2000 * S.DT, size=seg_length)\n",
    "\n",
    "rsp = ntwk.run(\n",
    "    dt=S.DT,\n",
    "    clamp=Generic(v={0: M.E_L_E * np.ones((M.N_EXC + M.N_INH))}, spk={}),\n",
    "    i_ext=np.zeros(len(t)),\n",
    "    spks_u=spks_u)\n",
    "\n",
    "raster = np.stack([rsp.spks_t, rsp.spks_c])\n",
    "inh_raster = raster[:, raster[1, :] >= M.N_EXC]\n",
    "exc_raster = raster[:, raster[1, :] < M.N_EXC]\n",
    "\n",
    "scale = 1.\n",
    "gs = gridspec.GridSpec(1, 1)\n",
    "fig = plt.figure(figsize=(6 * scale, 5 * scale), tight_layout=True)\n",
    "axs = [fig.add_subplot(gs[0])]\n",
    "\n",
    "axs[0].scatter(exc_raster[0, :] * 1000, exc_raster[1, :], c='black', s=1)\n",
    "axs[0].scatter(inh_raster[0, :] * 1000, inh_raster[1, :], c='red', s=1)\n",
    "\n",
    "# axs[0].set_ylim(-1, 102)\n",
    "\n",
    "scale = 1.\n",
    "gs = gridspec.GridSpec(1, 1)\n",
    "fig = plt.figure(figsize=(6 * scale, 5 * scale), tight_layout=True)\n",
    "axs = [fig.add_subplot(gs[0])]\n",
    "\n",
    "buffer = 300\n",
    "for i in range(switches):\n",
    "    switch_range = ((i * seg_length + buffer) * S.DT, ((i+1) * seg_length - buffer) * S.DT)\n",
    "    raster_for_switch = exc_raster[:, (exc_raster[0, :] >= switch_range[0]) & (exc_raster[0, :] < switch_range[1])]\n",
    "    if i % 2 == 0:\n",
    "        c = 'purple'\n",
    "    else:\n",
    "        c = 'black'\n",
    "        \n",
    "    axs[0].scatter(raster_for_switch[0, :] * 1000, raster_for_switch[1, :], c=c, s=1)\n",
    "    \n",
    "    if raster_for_switch.shape[1] > 0:\n",
    "        res = stats.linregress(raster_for_switch[0, :], raster_for_switch[1, :])\n",
    "        print(res.slope)"
   ]
  },
  {
   "cell_type": "code",
   "execution_count": 16,
   "metadata": {},
   "outputs": [
    {
     "data": {
      "application/vnd.jupyter.widget-view+json": {
       "model_id": "e0f07675d63543038b949167ce14fce4",
       "version_major": 2,
       "version_minor": 0
      },
      "text/plain": [
       "Canvas(toolbar=Toolbar(toolitems=[('Home', 'Reset original view', 'home', 'home'), ('Back', 'Back to previous …"
      ]
     },
     "metadata": {},
     "output_type": "display_data"
    },
    {
     "data": {
      "application/vnd.jupyter.widget-view+json": {
       "model_id": "63df9a6418aa4d1296f787ed621bccaa",
       "version_major": 2,
       "version_minor": 0
      },
      "text/plain": [
       "Canvas(toolbar=Toolbar(toolitems=[('Home', 'Reset original view', 'home', 'home'), ('Back', 'Back to previous …"
      ]
     },
     "metadata": {},
     "output_type": "display_data"
    },
    {
     "name": "stdout",
     "output_type": "stream",
     "text": [
      "235.7853070470701\n",
      "487.2808879715203\n",
      "238.15935539929214\n",
      "486.9120264550274\n",
      "233.88496575398563\n",
      "487.02386781984893\n",
      "207.68724215877594\n",
      "486.79944618766416\n",
      "230.6440952977814\n",
      "486.86483108331385\n",
      "226.21296871333757\n"
     ]
    }
   ],
   "source": [
    "np.random.seed(2002)\n",
    "\n",
    "w_r = np.block([\n",
    "    [ M.W_E_E * np.diag(np.ones((M.N_EXC - 1)), k=-1), M.W_I_E * np.ones((M.N_EXC, M.N_INH)) ],\n",
    "    [ M.W_E_I * np.ones((M.N_INH, M.N_EXC)), np.zeros((M.N_INH, M.N_INH)) ],\n",
    "])\n",
    "\n",
    "w_u = np.block([\n",
    "    [ np.array([M.W_U_E]), np.zeros((1)) ],\n",
    "    [ np.zeros((M.N_EXC - 1, 2)) ],\n",
    "    [ np.zeros((M.N_INH, 1)), M.W_U_I * np.ones((M.N_INH, 1)) ],\n",
    "])\n",
    "\n",
    "i_b = np.zeros((M.N_EXC + M.N_INH), dtype=int)\n",
    "\n",
    "ntwk = LIFNtwkI(\n",
    "    c_m = M.C_M_E,\n",
    "    g_l = M.G_L_E,\n",
    "    e_l = M.E_L_E,\n",
    "    v_th = M.V_TH_E,\n",
    "    v_r = M.E_R_E,\n",
    "    t_r = t_r,\n",
    "    w_r = w_r,\n",
    "    w_u = w_u,\n",
    "    i_b = i_b,\n",
    "    f_b = M.F_B,\n",
    "    t_b = M.T_B,\n",
    "    t_a = 4e-3,\n",
    ")\n",
    "\n",
    "S = Generic(RNG_SEED=0, DT=dt)\n",
    "t = np.arange(0, 2.5, S.DT)\n",
    "\n",
    "spks_u = np.zeros((len(t), 2), dtype=int)\n",
    "spks_u[0, 0] = 1\n",
    "switches = 12\n",
    "seg_length = int(len(t) / switches)\n",
    "for i in range(switches):\n",
    "    if i % 2 == 0:\n",
    "        spks_u[i * seg_length: (i + 1) * seg_length, 1] = np.random.poisson(lam=2000 * S.DT, size=seg_length)\n",
    "\n",
    "rsp = ntwk.run(\n",
    "    dt=S.DT,\n",
    "    clamp=Generic(v={0: M.E_L_E * np.ones((M.N_EXC + M.N_INH))}, spk={}),\n",
    "    i_ext=np.zeros(len(t)),\n",
    "    spks_u=spks_u)\n",
    "\n",
    "raster = np.stack([rsp.spks_t, rsp.spks_c])\n",
    "inh_raster = raster[:, raster[1, :] >= M.N_EXC]\n",
    "exc_raster = raster[:, raster[1, :] < M.N_EXC]\n",
    "\n",
    "scale = 1.\n",
    "gs = gridspec.GridSpec(1, 1)\n",
    "fig = plt.figure(figsize=(6 * scale, 5 * scale), tight_layout=True)\n",
    "axs = [fig.add_subplot(gs[0])]\n",
    "\n",
    "axs[0].scatter(exc_raster[0, :] * 1000, exc_raster[1, :], c='black', s=1)\n",
    "axs[0].scatter(inh_raster[0, :] * 1000, inh_raster[1, :], c='red', s=1)\n",
    "\n",
    "# axs[0].set_ylim(-1, 102)\n",
    "\n",
    "scale = 1.\n",
    "gs = gridspec.GridSpec(1, 1)\n",
    "fig = plt.figure(figsize=(6 * scale, 5 * scale), tight_layout=True)\n",
    "axs = [fig.add_subplot(gs[0])]\n",
    "\n",
    "buffer = 300\n",
    "for i in range(switches):\n",
    "    switch_range = ((i * seg_length + buffer) * S.DT, ((i+1) * seg_length - buffer) * S.DT)\n",
    "    raster_for_switch = exc_raster[:, (exc_raster[0, :] >= switch_range[0]) & (exc_raster[0, :] < switch_range[1])]\n",
    "    if i % 2 == 0:\n",
    "        c = 'purple'\n",
    "    else:\n",
    "        c = 'black'\n",
    "        \n",
    "    axs[0].scatter(raster_for_switch[0, :] * 1000, raster_for_switch[1, :], c=c, s=1)\n",
    "    \n",
    "    if raster_for_switch.shape[1] > 0:\n",
    "        res = stats.linregress(raster_for_switch[0, :], raster_for_switch[1, :])\n",
    "        print(res.slope)"
   ]
  },
  {
   "cell_type": "code",
   "execution_count": 17,
   "metadata": {},
   "outputs": [],
   "source": [
    "# PARAMS\n",
    "## NEURON AND NETWORK MODEL\n",
    "M = Generic(\n",
    "    # Excitatory membrane\n",
    "    C_M_E=1e-6,  # membrane capacitance\n",
    "    G_L_E=.25e-3,  # membrane leak conductance (T_M (s) = C_M (F/cm^2) / G_L (S/cm^2))\n",
    "    E_L_E=-.07,  # membrane leak potential (V)\n",
    "    V_TH_E=-.05,  # membrane spike threshold (V)\n",
    "    T_R_E=10e-3,  # refractory period (s)\n",
    "    T_R_I=0,\n",
    "    E_R_E=-0.07, # reset voltage (V)\n",
    "    \n",
    "    # Inhibitory membrane\n",
    "    #C_M_I=1e-6,\n",
    "    #G_L_E=.1e-3, \n",
    "    #E_L_I=-.06,\n",
    "    #V_TH_E=-.05,\n",
    "    #T_R_I=.002,\n",
    "    \n",
    "    N_EXC=800,\n",
    "    N_INH=1,\n",
    "    \n",
    "    # OTHER INPUTS\n",
    "    SGM_N=.1e-10,  # noise level (A*sqrt(s))\n",
    "    I_EXT_B=0,  # additional baseline current input\n",
    "    \n",
    "    W_E_E = 2.4e-5,\n",
    "    W_E_I = 0.05e-5, #0.2e-5, #1e-5,\n",
    "    W_I_E = -0.18e-5,\n",
    "    W_U_E = 0.2e-4,\n",
    "    W_U_I = 0.05e-5, #1e-1,\n",
    "    \n",
    "    F_B = 5e3,\n",
    "    T_B = 10e-3,\n",
    ")\n",
    "\n",
    "t_r = M.T_R_E * np.ones((M.N_EXC + M.N_INH))\n",
    "t_r[-1] = M.T_R_I"
   ]
  },
  {
   "cell_type": "code",
   "execution_count": 18,
   "metadata": {},
   "outputs": [
    {
     "data": {
      "application/vnd.jupyter.widget-view+json": {
       "model_id": "fbe27a41f57a45cdad4e01a5af1b2563",
       "version_major": 2,
       "version_minor": 0
      },
      "text/plain": [
       "Canvas(toolbar=Toolbar(toolitems=[('Home', 'Reset original view', 'home', 'home'), ('Back', 'Back to previous …"
      ]
     },
     "metadata": {},
     "output_type": "display_data"
    },
    {
     "data": {
      "application/vnd.jupyter.widget-view+json": {
       "model_id": "70f2f7e61a2c41289323524b138d7fca",
       "version_major": 2,
       "version_minor": 0
      },
      "text/plain": [
       "Canvas(toolbar=Toolbar(toolitems=[('Home', 'Reset original view', 'home', 'home'), ('Back', 'Back to previous …"
      ]
     },
     "metadata": {},
     "output_type": "display_data"
    },
    {
     "name": "stdout",
     "output_type": "stream",
     "text": [
      "213.33922926506617\n",
      "487.13093813488905\n",
      "213.39392532636234\n",
      "486.84551423711866\n",
      "210.70187822585822\n",
      "486.609324145449\n",
      "188.22510108337505\n",
      "486.4485085980239\n",
      "208.0865698941337\n",
      "486.7070287428526\n",
      "204.92741074802825\n",
      "477.27608539837496\n"
     ]
    }
   ],
   "source": [
    "np.random.seed(2002)\n",
    "\n",
    "w_r = np.block([\n",
    "    [ M.W_E_E * np.diag(np.ones((M.N_EXC - 1)), k=-1), M.W_I_E * np.ones((M.N_EXC, M.N_INH)) ],\n",
    "    [ M.W_E_I * np.ones((M.N_INH, M.N_EXC)), np.zeros((M.N_INH, M.N_INH)) ],\n",
    "])\n",
    "\n",
    "w_u = np.block([\n",
    "    [ np.array([M.W_U_E]), np.zeros((1)) ],\n",
    "    [ np.zeros((M.N_EXC - 1, 2)) ],\n",
    "    [ np.zeros((M.N_INH, 1)), M.W_U_I * np.ones((M.N_INH, 1)) ],\n",
    "])\n",
    "\n",
    "i_b = np.zeros((M.N_EXC + M.N_INH), dtype=int)\n",
    "\n",
    "ntwk = LIFNtwkI(\n",
    "    c_m = M.C_M_E,\n",
    "    g_l = M.G_L_E,\n",
    "    e_l = M.E_L_E,\n",
    "    v_th = M.V_TH_E,\n",
    "    v_r = M.E_R_E,\n",
    "    t_r = t_r,\n",
    "    w_r = w_r,\n",
    "    w_u = w_u,\n",
    "    i_b = i_b,\n",
    "    f_b = M.F_B,\n",
    "    t_b = M.T_B,\n",
    "    t_a = 4e-3,\n",
    ")\n",
    "\n",
    "S = Generic(RNG_SEED=0, DT=dt)\n",
    "t = np.arange(0, 2.5, S.DT)\n",
    "\n",
    "spks_u = np.zeros((len(t), 2), dtype=int)\n",
    "spks_u[0, 0] = 1\n",
    "switches = 12\n",
    "seg_length = int(len(t) / switches)\n",
    "for i in range(switches):\n",
    "    if i % 2 == 0:\n",
    "        spks_u[i * seg_length: (i + 1) * seg_length, 1] = np.random.poisson(lam=2000 * S.DT, size=seg_length)\n",
    "\n",
    "rsp = ntwk.run(\n",
    "    dt=S.DT,\n",
    "    clamp=Generic(v={0: M.E_L_E * np.ones((M.N_EXC + M.N_INH))}, spk={}),\n",
    "    i_ext=np.zeros(len(t)),\n",
    "    spks_u=spks_u)\n",
    "\n",
    "raster = np.stack([rsp.spks_t, rsp.spks_c])\n",
    "inh_raster = raster[:, raster[1, :] >= M.N_EXC]\n",
    "exc_raster = raster[:, raster[1, :] < M.N_EXC]\n",
    "\n",
    "scale = 1.\n",
    "gs = gridspec.GridSpec(1, 1)\n",
    "fig = plt.figure(figsize=(6 * scale, 5 * scale), tight_layout=True)\n",
    "axs = [fig.add_subplot(gs[0])]\n",
    "\n",
    "axs[0].scatter(exc_raster[0, :] * 1000, exc_raster[1, :], c='black', s=1)\n",
    "axs[0].scatter(inh_raster[0, :] * 1000, inh_raster[1, :], c='red', s=1)\n",
    "\n",
    "# axs[0].set_ylim(-1, 102)\n",
    "\n",
    "scale = 1.\n",
    "gs = gridspec.GridSpec(1, 1)\n",
    "fig = plt.figure(figsize=(6 * scale, 5 * scale), tight_layout=True)\n",
    "axs = [fig.add_subplot(gs[0])]\n",
    "\n",
    "buffer = 300\n",
    "for i in range(switches):\n",
    "    switch_range = ((i * seg_length + buffer) * S.DT, ((i+1) * seg_length - buffer) * S.DT)\n",
    "    raster_for_switch = exc_raster[:, (exc_raster[0, :] >= switch_range[0]) & (exc_raster[0, :] < switch_range[1])]\n",
    "    if i % 2 == 0:\n",
    "        c = 'purple'\n",
    "    else:\n",
    "        c = 'black'\n",
    "        \n",
    "    axs[0].scatter(raster_for_switch[0, :] * 1000, raster_for_switch[1, :], c=c, s=1)\n",
    "    \n",
    "    if raster_for_switch.shape[1] > 0:\n",
    "        res = stats.linregress(raster_for_switch[0, :], raster_for_switch[1, :])\n",
    "        print(res.slope)"
   ]
  }
 ],
 "metadata": {
  "kernelspec": {
   "display_name": "Python 3",
   "language": "python",
   "name": "python3"
  },
  "language_info": {
   "codemirror_mode": {
    "name": "ipython",
    "version": 3
   },
   "file_extension": ".py",
   "mimetype": "text/x-python",
   "name": "python",
   "nbconvert_exporter": "python",
   "pygments_lexer": "ipython3",
   "version": "3.7.6"
  }
 },
 "nbformat": 4,
 "nbformat_minor": 4
}
