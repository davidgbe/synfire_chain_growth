{
 "cells": [
  {
   "cell_type": "markdown",
   "metadata": {},
   "source": [
    "Here, we would like to generally ask if it is possible to increase the average synaptic incoming weight per neuron in a synfire chain without changing its speed of propagation. "
   ]
  },
  {
   "cell_type": "markdown",
   "metadata": {},
   "source": [
    "Consider a neuron receiving input from another neuron (as would be found in a synfire chain) such that at the time $t^*$, the first neuron's membrane potential reaches $V_{th}$:\n",
    "\n",
    "$$ V(t^*) = V_{th} $$"
   ]
  },
  {
   "cell_type": "markdown",
   "metadata": {},
   "source": [
    "We don't specify the shape of the membrane excursion except to say that it has only one maximum in the domain $ t \\in [0, \\inf] $. We assume that prior to that maximum, $t_m$, $V'(t) > 0$ and subsequently $V'(t) < 0$."
   ]
  },
  {
   "cell_type": "markdown",
   "metadata": {},
   "source": [
    "We now consider an additional input that occurs at time $\\Delta t$ before the first input that produces the same membrane excusion as the first input. We allow the weights of each of these connections to be free parameters.\n",
    "\n",
    "$$ V_{new}(t) = \\alpha V(t) + \\beta V(t + \\Delta t) $$\n",
    "\n",
    "Here, we would like $\\alpha + \\beta > 1$, but that the neuron still reach threshold at time $t^*$."
   ]
  },
  {
   "cell_type": "markdown",
   "metadata": {},
   "source": [
    "We now demand that the neuron reach threshold at the same time it did previously:\n",
    "\n",
    "$$ V_{new}(t^*) = V_{th} = \\alpha V(t^*) + \\beta V(t^* + \\Delta t) $$"
   ]
  },
  {
   "cell_type": "markdown",
   "metadata": {},
   "source": [
    "Since $V(t^*) = V_{th}$, we have:\n",
    "\n",
    "$$ (1 - \\alpha) V_{th} = \\beta V(t^* + \\Delta t)$$"
   ]
  },
  {
   "cell_type": "markdown",
   "metadata": {},
   "source": [
    "Rearranging:\n",
    "    \n",
    "$$ \\frac{(1 - \\alpha)}{\\beta} = \\frac{V(t^* + \\Delta t)}{V_{th}} $$"
   ]
  },
  {
   "cell_type": "markdown",
   "metadata": {},
   "source": [
    "Now we impose $\\alpha + \\beta > 1$ or $\\alpha > 1 - \\beta$:"
   ]
  },
  {
   "cell_type": "markdown",
   "metadata": {},
   "source": [
    "Rearranging:\n",
    "    \n",
    "$$ \\frac{1 - (1 - \\beta)}{\\beta} > \\frac{V(t^* + \\Delta t)}{V_{th}} $$"
   ]
  },
  {
   "cell_type": "markdown",
   "metadata": {},
   "source": [
    "$$ 1 > \\frac{V(t^* + \\Delta t)}{V_{th}} $$"
   ]
  },
  {
   "cell_type": "markdown",
   "metadata": {},
   "source": [
    "Which tells us $V'(t^* + \\Delta t) < 0$."
   ]
  },
  {
   "cell_type": "markdown",
   "metadata": {},
   "source": [
    "We now consider:\n",
    "\n",
    "$$ V'_{new}(t) = \\alpha V'(t) + \\beta V'(t + \\Delta t) $$"
   ]
  },
  {
   "cell_type": "markdown",
   "metadata": {},
   "source": [
    "If $V'_{new}(t^*) < V'(t^*)$, then the variance of the first passage time will be larger if there is noise across the membrane. We would therefore like $V'_{new}(t^*) \\geq V'(t^*)$:\n",
    "\n",
    "$$ V'_{new}(t^*) = \\alpha V'(t^*) + \\beta V'(t^* + \\Delta t) \\geq V'(t^*)$$"
   ]
  },
  {
   "cell_type": "markdown",
   "metadata": {},
   "source": [
    "$$ (\\alpha - 1) V'(t^*) + \\beta V'(t^* + \\Delta t) \\geq 0$$"
   ]
  },
  {
   "cell_type": "markdown",
   "metadata": {},
   "source": [
    "Rearranging:\n",
    "\n",
    "$$ (\\alpha - 1) V'(t^*) \\geq -\\beta V'(t^* + \\Delta t)$$"
   ]
  },
  {
   "cell_type": "markdown",
   "metadata": {},
   "source": [
    "We assume $\\beta > 0$ and we must have $V'(t^*) > 0$:\n",
    "\n",
    "$$ \\frac{1 - \\alpha}{\\beta} \\leq \\frac{V'(t^* + \\Delta t)}{V'(t^*)}$$"
   ]
  },
  {
   "cell_type": "markdown",
   "metadata": {},
   "source": [
    "$$ (1 - \\alpha) V'(t^*) \\leq \\beta V'(t^* + \\Delta t)$$"
   ]
  },
  {
   "cell_type": "markdown",
   "metadata": {},
   "source": [
    "From earlier, the quantity on the left must be negative, since $V'(t^* + \\Delta t) <0$."
   ]
  },
  {
   "cell_type": "markdown",
   "metadata": {},
   "source": [
    "Therefore, $\\alpha \\geq 1$."
   ]
  },
  {
   "cell_type": "markdown",
   "metadata": {},
   "source": [
    "If we do not permit $\\alpha > 1$, then $\\alpha$ must equal 1. If this is true, the voltage contribution from the second input is essentially zero:\n",
    "\n",
    "$$ \\frac{(1 - \\alpha)}{\\beta} = 0 = \\frac{V(t^* + \\Delta t)}{V_{th}} $$"
   ]
  },
  {
   "cell_type": "code",
   "execution_count": null,
   "metadata": {},
   "outputs": [],
   "source": []
  }
 ],
 "metadata": {
  "kernelspec": {
   "display_name": "Python 3",
   "language": "python",
   "name": "python3"
  },
  "language_info": {
   "codemirror_mode": {
    "name": "ipython",
    "version": 3
   },
   "file_extension": ".py",
   "mimetype": "text/x-python",
   "name": "python",
   "nbconvert_exporter": "python",
   "pygments_lexer": "ipython3",
   "version": "3.7.6"
  }
 },
 "nbformat": 4,
 "nbformat_minor": 4
}
