{
 "cells": [
  {
   "cell_type": "markdown",
   "metadata": {},
   "source": [
    "The aim here is to compare the recovery (in terms of average summed synapse strength onto excitatory cells and firing rate distributions of excitatory cells) of a network of HVC RA-projectors and interneurons following a 50% perturbation of the RA-projectors.\n",
    "\n",
    "Here, we compare the recovery under 3 distinct sets of plasticity rules:\n",
    "\n",
    "1. burst timing-dependent plasticity + single-cell firing rate upper bound + population-level firing rate rule\n",
    "2. burst timing-dependent plasticity + single-cell firing rate (asym about setpoint)\n",
    "3. burst timing-dependent plasticity + population-level firing rate rule"
   ]
  },
  {
   "cell_type": "code",
   "execution_count": 1,
   "metadata": {},
   "outputs": [],
   "source": [
    "%matplotlib widget\n",
    "from copy import deepcopy as copy\n",
    "import matplotlib.gridspec as gridspec\n",
    "import matplotlib.pyplot as plt\n",
    "import matplotlib\n",
    "from mpl_toolkits.axes_grid1.inset_locator import inset_axes\n",
    "import numpy as np\n",
    "from scipy import stats\n",
    "import scipy.io as sio\n",
    "import pandas as pd\n",
    "from tqdm import tqdm\n",
    "import pickle\n",
    "from collections import OrderedDict\n",
    "import os\n",
    "from scipy.ndimage.interpolation import shift\n",
    "from functools import reduce\n",
    "import time\n",
    "\n",
    "from aux import Generic, bin_occurrences\n",
    "from disp import set_font_size, get_spaced_colors\n",
    "from ntwk import LIFNtwkG\n",
    "from utils.general import *\n",
    "from utils.file_io import *\n",
    "\n",
    "dt = 0.2e-3"
   ]
  },
  {
   "cell_type": "code",
   "execution_count": 2,
   "metadata": {},
   "outputs": [],
   "source": [
    "def save_fig(fig, path, name):\n",
    "    if not os.path.exists(path):\n",
    "        os.makedirs(path)\n",
    "    fig.savefig(os.path.join(path, name))"
   ]
  },
  {
   "cell_type": "code",
   "execution_count": 3,
   "metadata": {},
   "outputs": [],
   "source": [
    "def get_equally_spaced_colors(n, cmap='autumn'):\n",
    "    cmap = plt.get_cmap(cmap)\n",
    "    colors = cmap(np.linspace(0, 1, n))\n",
    "    return [matplotlib.colors.rgb2hex(rgba) for rgba in colors]"
   ]
  },
  {
   "cell_type": "code",
   "execution_count": 4,
   "metadata": {},
   "outputs": [],
   "source": [
    "def process_single_activation(exc_raster, n):\n",
    "    # extract first spikes\n",
    "    first_spk_times = np.nan * np.ones(n)\n",
    "    for i in range(exc_raster.shape[1]):\n",
    "        nrn_idx = int(exc_raster[1, i])\n",
    "        if np.isnan(first_spk_times[nrn_idx]):\n",
    "            first_spk_times[nrn_idx] = exc_raster[0, i]\n",
    "    return first_spk_times"
   ]
  },
  {
   "cell_type": "code",
   "execution_count": 5,
   "metadata": {},
   "outputs": [],
   "source": [
    "def load_exp_data(direc, cut=None, layer_size=20, name_frags=[], reverse=False):\n",
    "    file_names = [f for f in sorted(all_files_from_dir(direc))]\n",
    "    file_names = [f for f in filter_list_by_name_frags(file_names, name_frags)]\n",
    "    if reverse:\n",
    "        file_names = [f for f in reversed(file_names)]\n",
    "    if cut is not None:\n",
    "        file_names = file_names[:cut]\n",
    "    \n",
    "    file_name_count = range(0, len(file_names))\n",
    "    for i_f in file_name_count:\n",
    "        file = file_names[i_f]\n",
    "        loaded = sio.loadmat(os.path.join(direc, file))\n",
    "        \n",
    "        summed_incoming_weights = loaded['w_r_e_summed']\n",
    "        summed_incoming_weights_e_i = loaded['w_r_e_i_summed']\n",
    "        \n",
    "        try:\n",
    "            exc_cells_initially_active = loaded['exc_raster']\n",
    "            exc_cells_newly_active = None\n",
    "        except KeyError as e:\n",
    "            exc_cells_initially_active = loaded['exc_cells_initially_active'].astype(float)\n",
    "            exc_cells_newly_active = loaded['exc_cells_newly_active'].astype(float)\n",
    "            exc_cells_initially_active[0, :] = exc_cells_initially_active[0, :] * dt\n",
    "            if exc_cells_newly_active is not None and exc_cells_newly_active.shape[0] > 0:\n",
    "                exc_cells_newly_active[0, :] = exc_cells_newly_active[0, :] * dt\n",
    "        inh_raster = loaded['inh_raster']\n",
    "        \n",
    "        try:\n",
    "            surviving_cell_indices = loaded['surviving_cell_indices'][0].astype(bool)\n",
    "        except KeyError as e:\n",
    "            surviving_cell_indices = np.ones(summed_incoming_weights.shape[1], dtype=bool)\n",
    "        \n",
    "        first_spk_times = process_single_activation(exc_cells_initially_active, 900)\n",
    "        \n",
    "        last_layer_active = 0\n",
    "        layer_weights = []\n",
    "        \n",
    "        for i in range(0, len(first_spk_times), layer_size):\n",
    "            layer_active = np.any(~np.isnan(first_spk_times[i:i+layer_size]))\n",
    "            if layer_active:\n",
    "                last_layer_active = i/layer_size\n",
    "        \n",
    "            layer_weight = np.sum(summed_incoming_weights[i:(i + layer_size)])\n",
    "            layer_weights.append(layer_weight)\n",
    "            \n",
    "        data = {\n",
    "            'index': i_f,\n",
    "            'last_layer_active': last_layer_active,\n",
    "            'first_spk_times': first_spk_times,\n",
    "            'mean_incoming_summed_weights': np.mean(summed_incoming_weights),\n",
    "            'median_incoming_summed_weights': np.median(summed_incoming_weights),\n",
    "            'std_incoming_summed_weights': np.std(summed_incoming_weights),\n",
    "            'summed_incoming_weights': summed_incoming_weights,\n",
    "            'mean_incoming_summed_weights_e_i': np.mean(summed_incoming_weights_e_i),\n",
    "            'median_incoming_summed_weights_e_i': np.median(summed_incoming_weights_e_i),\n",
    "            'std_incoming_summed_weights_e_i': np.std(summed_incoming_weights_e_i),\n",
    "            'summed_incoming_weights_e_i': summed_incoming_weights_e_i,\n",
    "            'exc_cells_initially_active': exc_cells_initially_active,\n",
    "            'exc_cells_newly_active': exc_cells_newly_active,\n",
    "            'inh_raster': inh_raster,\n",
    "            'freqs': loaded['freqs'][0],\n",
    "            'spk_bins': loaded['spk_bins'][0],\n",
    "            'surviving_cell_indices': surviving_cell_indices,\n",
    "        }\n",
    "        yield i_f, data"
   ]
  },
  {
   "cell_type": "code",
   "execution_count": 6,
   "metadata": {},
   "outputs": [],
   "source": [
    "def make_figure_1(name, timepoints = [0, 72, 73, 74]):\n",
    "    \n",
    "    all_dirs = filter_list_by_name_frags(all_in_dir('./robustness'), [name])\n",
    "    \n",
    "    colors = get_equally_spaced_colors(20, cmap='gist_ncar')\n",
    "    print(colors)\n",
    "    \n",
    "    for d_idx, exp_dir_name in enumerate(sorted(all_dirs)):\n",
    "        scale = 1.1\n",
    "        fig, axs = plt.subplots(1, 4, sharex=True, sharey=True, figsize=(15 * scale, 4 * scale))\n",
    "        \n",
    "        timepoint_names = [f'{t} rendition' for t in timepoints]\n",
    "        j = 0\n",
    "        for i, data in load_exp_data(os.path.join('./robustness', exp_dir_name),\n",
    "                                 name_frags=['dropout_0']):\n",
    "            \n",
    "            if j < len(timepoints) and i == timepoints[j]:\n",
    "                exc_cells_initially_active = data['exc_cells_initially_active']\n",
    "                exc_cells_newly_active = data['exc_cells_newly_active']\n",
    "                inh_raster = data['inh_raster']\n",
    "\n",
    "                if j == 0:\n",
    "                    axs[j].scatter(exc_cells_initially_active[0, :] * 1000, exc_cells_initially_active[1, :], s=1, c='black', zorder=0, alpha=0.5)\n",
    "                else:\n",
    "                    axs[j].scatter(exc_cells_initially_active[0, :] * 1000, exc_cells_initially_active[1, :], s=1, c='black', zorder=0, alpha=0.2)\n",
    "                    if exc_cells_newly_active is not None and len(exc_cells_newly_active) > 0:\n",
    "                        axs[j].scatter(exc_cells_newly_active[0, :] * 1000, exc_cells_newly_active[1, :], s=1, c='green', zorder=1, alpha=1)\n",
    "\n",
    "                if len(inh_raster) > 0:\n",
    "                    axs[j].scatter(inh_raster[0, :] * 1000, inh_raster[1, :], s=1, c='blue', zorder=0, alpha=1)\n",
    "#                 axs[j].set_ylim(150, 1350)\n",
    "#                 axs[j].set_xlim(.015 * 1000, 0.115 * 1000)\n",
    "                axs[j].set_ylabel('Cell Index')\n",
    "                axs[j].set_xlabel('Time (ms)')\n",
    "                axs[j].title.set_text(f'{timepoint_names[j]}')\n",
    "                set_font_size(axs[j], 16)\n",
    "                j += 1\n",
    "    \n",
    "        fig.tight_layout()\n",
    "        save_fig(fig, './figures/paper/fig_1', f'{exp_dir_name}.png')\n",
    "        "
   ]
  },
  {
   "cell_type": "markdown",
   "metadata": {},
   "source": [
    "## Figure 1: rasters of the chain pre-perturbation, directly post-perturbation, and recovered (with all plasticity rules in effect)"
   ]
  },
  {
   "cell_type": "markdown",
   "metadata": {},
   "source": [
    "### All rules (all runs)"
   ]
  },
  {
   "cell_type": "code",
   "execution_count": 7,
   "metadata": {
    "scrolled": false
   },
   "outputs": [
    {
     "name": "stdout",
     "output_type": "stream",
     "text": [
      "['#000080', '#005f06', '#0007de', '#00b8ff', '#00f6f8', '#00fa9d', '#06ff15', '#60ce00', '#7ef804', '#bbff3c', '#f6fd08', '#ffda00', '#ffba0e', '#ff4701', '#ff0a00', '#ff00f8', '#a62dff', '#eb80ee', '#f5bcf6', '#fef8fe']\n"
     ]
    },
    {
     "data": {
      "application/vnd.jupyter.widget-view+json": {
       "model_id": "86ceadf043be4babae319537a8062211",
       "version_major": 2,
       "version_minor": 0
      },
      "text/plain": [
       "Canvas(toolbar=Toolbar(toolitems=[('Home', 'Reset original view', 'home', 'home'), ('Back', 'Back to previous …"
      ]
     },
     "metadata": {},
     "output_type": "display_data"
    },
    {
     "data": {
      "application/vnd.jupyter.widget-view+json": {
       "model_id": "20d8327836374ddcb24b52e78113c0c5",
       "version_major": 2,
       "version_minor": 0
      },
      "text/plain": [
       "Canvas(toolbar=Toolbar(toolitems=[('Home', 'Reset original view', 'home', 'home'), ('Back', 'Back to previous …"
      ]
     },
     "metadata": {},
     "output_type": "display_data"
    },
    {
     "data": {
      "application/vnd.jupyter.widget-view+json": {
       "model_id": "24ae6f50a4b94105ad71db42fb2a3f24",
       "version_major": 2,
       "version_minor": 0
      },
      "text/plain": [
       "Canvas(toolbar=Toolbar(toolitems=[('Home', 'Reset original view', 'home', 'home'), ('Back', 'Back to previous …"
      ]
     },
     "metadata": {},
     "output_type": "display_data"
    },
    {
     "data": {
      "application/vnd.jupyter.widget-view+json": {
       "model_id": "d4cf33b47fdf4eddbf015ad5c20a988f",
       "version_major": 2,
       "version_minor": 0
      },
      "text/plain": [
       "Canvas(toolbar=Toolbar(toolitems=[('Home', 'Reset original view', 'home', 'home'), ('Back', 'Back to previous …"
      ]
     },
     "metadata": {},
     "output_type": "display_data"
    },
    {
     "data": {
      "application/vnd.jupyter.widget-view+json": {
       "model_id": "d4f4346512364e7a866292ef5c662ff4",
       "version_major": 2,
       "version_minor": 0
      },
      "text/plain": [
       "Canvas(toolbar=Toolbar(toolitems=[('Home', 'Reset original view', 'home', 'home'), ('Back', 'Back to previous …"
      ]
     },
     "metadata": {},
     "output_type": "display_data"
    },
    {
     "data": {
      "application/vnd.jupyter.widget-view+json": {
       "model_id": "cc4e6328323047adaf4310deb548feb8",
       "version_major": 2,
       "version_minor": 0
      },
      "text/plain": [
       "Canvas(toolbar=Toolbar(toolitems=[('Home', 'Reset original view', 'home', 'home'), ('Back', 'Back to previous …"
      ]
     },
     "metadata": {},
     "output_type": "display_data"
    },
    {
     "data": {
      "application/vnd.jupyter.widget-view+json": {
       "model_id": "f1687f82ec1f469984931ec207087f88",
       "version_major": 2,
       "version_minor": 0
      },
      "text/plain": [
       "Canvas(toolbar=Toolbar(toolitems=[('Home', 'Reset original view', 'home', 'home'), ('Back', 'Back to previous …"
      ]
     },
     "metadata": {},
     "output_type": "display_data"
    },
    {
     "data": {
      "application/vnd.jupyter.widget-view+json": {
       "model_id": "1093caa69332449685e8a2b624f66741",
       "version_major": 2,
       "version_minor": 0
      },
      "text/plain": [
       "Canvas(toolbar=Toolbar(toolitems=[('Home', 'Reset original view', 'home', 'home'), ('Back', 'Back to previous …"
      ]
     },
     "metadata": {},
     "output_type": "display_data"
    },
    {
     "data": {
      "application/vnd.jupyter.widget-view+json": {
       "model_id": "a9a4dd2a449d4495ba2f5719e5beeda0",
       "version_major": 2,
       "version_minor": 0
      },
      "text/plain": [
       "Canvas(toolbar=Toolbar(toolitems=[('Home', 'Reset original view', 'home', 'home'), ('Back', 'Back to previous …"
      ]
     },
     "metadata": {},
     "output_type": "display_data"
    },
    {
     "data": {
      "application/vnd.jupyter.widget-view+json": {
       "model_id": "68bcef763930494fb323614841589112",
       "version_major": 2,
       "version_minor": 0
      },
      "text/plain": [
       "Canvas(toolbar=Toolbar(toolitems=[('Home', 'Reset original view', 'home', 'home'), ('Back', 'Back to previous …"
      ]
     },
     "metadata": {},
     "output_type": "display_data"
    },
    {
     "data": {
      "application/vnd.jupyter.widget-view+json": {
       "model_id": "b563cd27196e4e10ae44f8c9a7f6e7cb",
       "version_major": 2,
       "version_minor": 0
      },
      "text/plain": [
       "Canvas(toolbar=Toolbar(toolitems=[('Home', 'Reset original view', 'home', 'home'), ('Back', 'Back to previous …"
      ]
     },
     "metadata": {},
     "output_type": "display_data"
    },
    {
     "data": {
      "application/vnd.jupyter.widget-view+json": {
       "model_id": "7cb5d6f8b472429ebaf9afd136cb7773",
       "version_major": 2,
       "version_minor": 0
      },
      "text/plain": [
       "Canvas(toolbar=Toolbar(toolitems=[('Home', 'Reset original view', 'home', 'home'), ('Back', 'Back to previous …"
      ]
     },
     "metadata": {},
     "output_type": "display_data"
    },
    {
     "data": {
      "application/vnd.jupyter.widget-view+json": {
       "model_id": "8d1cdb4fef2149bcbd19e7f8be2cb4a4",
       "version_major": 2,
       "version_minor": 0
      },
      "text/plain": [
       "Canvas(toolbar=Toolbar(toolitems=[('Home', 'Reset original view', 'home', 'home'), ('Back', 'Back to previous …"
      ]
     },
     "metadata": {},
     "output_type": "display_data"
    },
    {
     "data": {
      "application/vnd.jupyter.widget-view+json": {
       "model_id": "50281a25b03b48d2a006130222214d12",
       "version_major": 2,
       "version_minor": 0
      },
      "text/plain": [
       "Canvas(toolbar=Toolbar(toolitems=[('Home', 'Reset original view', 'home', 'home'), ('Back', 'Back to previous …"
      ]
     },
     "metadata": {},
     "output_type": "display_data"
    },
    {
     "data": {
      "application/vnd.jupyter.widget-view+json": {
       "model_id": "da567f90ed15466d88a19424c1008fb1",
       "version_major": 2,
       "version_minor": 0
      },
      "text/plain": [
       "Canvas(toolbar=Toolbar(toolitems=[('Home', 'Reset original view', 'home', 'home'), ('Back', 'Back to previous …"
      ]
     },
     "metadata": {},
     "output_type": "display_data"
    },
    {
     "data": {
      "application/vnd.jupyter.widget-view+json": {
       "model_id": "8b368c015c49481b82038aaa47dea380",
       "version_major": 2,
       "version_minor": 0
      },
      "text/plain": [
       "Canvas(toolbar=Toolbar(toolitems=[('Home', 'Reset original view', 'home', 'home'), ('Back', 'Back to previous …"
      ]
     },
     "metadata": {},
     "output_type": "display_data"
    },
    {
     "data": {
      "application/vnd.jupyter.widget-view+json": {
       "model_id": "2418cb6bcd0e4c6795247356e98a19e0",
       "version_major": 2,
       "version_minor": 0
      },
      "text/plain": [
       "Canvas(toolbar=Toolbar(toolitems=[('Home', 'Reset original view', 'home', 'home'), ('Back', 'Back to previous …"
      ]
     },
     "metadata": {},
     "output_type": "display_data"
    },
    {
     "data": {
      "application/vnd.jupyter.widget-view+json": {
       "model_id": "edb180cac2c4478a9abb2cb36103a4a7",
       "version_major": 2,
       "version_minor": 0
      },
      "text/plain": [
       "Canvas(toolbar=Toolbar(toolitems=[('Home', 'Reset original view', 'home', 'home'), ('Back', 'Back to previous …"
      ]
     },
     "metadata": {},
     "output_type": "display_data"
    },
    {
     "data": {
      "application/vnd.jupyter.widget-view+json": {
       "model_id": "8b9ae54c10074eb7a53b5b2849bb7e3f",
       "version_major": 2,
       "version_minor": 0
      },
      "text/plain": [
       "Canvas(toolbar=Toolbar(toolitems=[('Home', 'Reset original view', 'home', 'home'), ('Back', 'Back to previous …"
      ]
     },
     "metadata": {},
     "output_type": "display_data"
    },
    {
     "data": {
      "application/vnd.jupyter.widget-view+json": {
       "model_id": "bb58aa7a1e9c4ff6b1e4a0048ce5a937",
       "version_major": 2,
       "version_minor": 0
      },
      "text/plain": [
       "Canvas(toolbar=Toolbar(toolitems=[('Home', 'Reset original view', 'home', 'home'), ('Back', 'Back to previous …"
      ]
     },
     "metadata": {},
     "output_type": "display_data"
    },
    {
     "data": {
      "application/vnd.jupyter.widget-view+json": {
       "model_id": "20625083b2a946978a25864fa409679e",
       "version_major": 2,
       "version_minor": 0
      },
      "text/plain": [
       "Canvas(toolbar=Toolbar(toolitems=[('Home', 'Reset original view', 'home', 'home'), ('Back', 'Back to previous …"
      ]
     },
     "metadata": {},
     "output_type": "display_data"
    },
    {
     "ename": "KeyboardInterrupt",
     "evalue": "",
     "output_type": "error",
     "traceback": [
      "\u001b[0;31m---------------------------------------------------------------------------\u001b[0m",
      "\u001b[0;31mKeyboardInterrupt\u001b[0m                         Traceback (most recent call last)",
      "\u001b[0;32m<ipython-input-7-71aac4da428b>\u001b[0m in \u001b[0;36m<module>\u001b[0;34m\u001b[0m\n\u001b[0;32m----> 1\u001b[0;31m \u001b[0mmake_figure_1\u001b[0m\u001b[0;34m(\u001b[0m\u001b[0;34m'drop'\u001b[0m\u001b[0;34m,\u001b[0m \u001b[0mtimepoints\u001b[0m\u001b[0;34m=\u001b[0m\u001b[0;34m[\u001b[0m\u001b[0;36m0\u001b[0m\u001b[0;34m,\u001b[0m \u001b[0;36m100\u001b[0m\u001b[0;34m,\u001b[0m \u001b[0;36m200\u001b[0m\u001b[0;34m,\u001b[0m \u001b[0;36m299\u001b[0m\u001b[0;34m]\u001b[0m\u001b[0;34m)\u001b[0m\u001b[0;34m\u001b[0m\u001b[0;34m\u001b[0m\u001b[0m\n\u001b[0m",
      "\u001b[0;32m<ipython-input-6-fc5fce42534f>\u001b[0m in \u001b[0;36mmake_figure_1\u001b[0;34m(name, timepoints)\u001b[0m\n\u001b[1;32m     13\u001b[0m         \u001b[0mj\u001b[0m \u001b[0;34m=\u001b[0m \u001b[0;36m0\u001b[0m\u001b[0;34m\u001b[0m\u001b[0;34m\u001b[0m\u001b[0m\n\u001b[1;32m     14\u001b[0m         for i, data in load_exp_data(os.path.join('./robustness', exp_dir_name),\n\u001b[0;32m---> 15\u001b[0;31m                                  name_frags=['dropout_0']):\n\u001b[0m\u001b[1;32m     16\u001b[0m \u001b[0;34m\u001b[0m\u001b[0m\n\u001b[1;32m     17\u001b[0m             \u001b[0;32mif\u001b[0m \u001b[0mj\u001b[0m \u001b[0;34m<\u001b[0m \u001b[0mlen\u001b[0m\u001b[0;34m(\u001b[0m\u001b[0mtimepoints\u001b[0m\u001b[0;34m)\u001b[0m \u001b[0;32mand\u001b[0m \u001b[0mi\u001b[0m \u001b[0;34m==\u001b[0m \u001b[0mtimepoints\u001b[0m\u001b[0;34m[\u001b[0m\u001b[0mj\u001b[0m\u001b[0;34m]\u001b[0m\u001b[0;34m:\u001b[0m\u001b[0;34m\u001b[0m\u001b[0;34m\u001b[0m\u001b[0m\n",
      "\u001b[0;32m<ipython-input-5-3815272174e4>\u001b[0m in \u001b[0;36mload_exp_data\u001b[0;34m(direc, cut, layer_size, name_frags, reverse)\u001b[0m\n\u001b[1;32m     31\u001b[0m             \u001b[0msurviving_cell_indices\u001b[0m \u001b[0;34m=\u001b[0m \u001b[0mnp\u001b[0m\u001b[0;34m.\u001b[0m\u001b[0mones\u001b[0m\u001b[0;34m(\u001b[0m\u001b[0msummed_incoming_weights\u001b[0m\u001b[0;34m.\u001b[0m\u001b[0mshape\u001b[0m\u001b[0;34m[\u001b[0m\u001b[0;36m1\u001b[0m\u001b[0;34m]\u001b[0m\u001b[0;34m,\u001b[0m \u001b[0mdtype\u001b[0m\u001b[0;34m=\u001b[0m\u001b[0mbool\u001b[0m\u001b[0;34m)\u001b[0m\u001b[0;34m\u001b[0m\u001b[0;34m\u001b[0m\u001b[0m\n\u001b[1;32m     32\u001b[0m \u001b[0;34m\u001b[0m\u001b[0m\n\u001b[0;32m---> 33\u001b[0;31m         \u001b[0mfirst_spk_times\u001b[0m \u001b[0;34m=\u001b[0m \u001b[0mprocess_single_activation\u001b[0m\u001b[0;34m(\u001b[0m\u001b[0mexc_cells_initially_active\u001b[0m\u001b[0;34m,\u001b[0m \u001b[0;36m900\u001b[0m\u001b[0;34m)\u001b[0m\u001b[0;34m\u001b[0m\u001b[0;34m\u001b[0m\u001b[0m\n\u001b[0m\u001b[1;32m     34\u001b[0m \u001b[0;34m\u001b[0m\u001b[0m\n\u001b[1;32m     35\u001b[0m         \u001b[0mlast_layer_active\u001b[0m \u001b[0;34m=\u001b[0m \u001b[0;36m0\u001b[0m\u001b[0;34m\u001b[0m\u001b[0;34m\u001b[0m\u001b[0m\n",
      "\u001b[0;32m<ipython-input-4-bd79cbf2f8b8>\u001b[0m in \u001b[0;36mprocess_single_activation\u001b[0;34m(exc_raster, n)\u001b[0m\n\u001b[1;32m      4\u001b[0m     \u001b[0;32mfor\u001b[0m \u001b[0mi\u001b[0m \u001b[0;32min\u001b[0m \u001b[0mrange\u001b[0m\u001b[0;34m(\u001b[0m\u001b[0mexc_raster\u001b[0m\u001b[0;34m.\u001b[0m\u001b[0mshape\u001b[0m\u001b[0;34m[\u001b[0m\u001b[0;36m1\u001b[0m\u001b[0;34m]\u001b[0m\u001b[0;34m)\u001b[0m\u001b[0;34m:\u001b[0m\u001b[0;34m\u001b[0m\u001b[0;34m\u001b[0m\u001b[0m\n\u001b[1;32m      5\u001b[0m         \u001b[0mnrn_idx\u001b[0m \u001b[0;34m=\u001b[0m \u001b[0mint\u001b[0m\u001b[0;34m(\u001b[0m\u001b[0mexc_raster\u001b[0m\u001b[0;34m[\u001b[0m\u001b[0;36m1\u001b[0m\u001b[0;34m,\u001b[0m \u001b[0mi\u001b[0m\u001b[0;34m]\u001b[0m\u001b[0;34m)\u001b[0m\u001b[0;34m\u001b[0m\u001b[0;34m\u001b[0m\u001b[0m\n\u001b[0;32m----> 6\u001b[0;31m         \u001b[0;32mif\u001b[0m \u001b[0mnp\u001b[0m\u001b[0;34m.\u001b[0m\u001b[0misnan\u001b[0m\u001b[0;34m(\u001b[0m\u001b[0mfirst_spk_times\u001b[0m\u001b[0;34m[\u001b[0m\u001b[0mnrn_idx\u001b[0m\u001b[0;34m]\u001b[0m\u001b[0;34m)\u001b[0m\u001b[0;34m:\u001b[0m\u001b[0;34m\u001b[0m\u001b[0;34m\u001b[0m\u001b[0m\n\u001b[0m\u001b[1;32m      7\u001b[0m             \u001b[0mfirst_spk_times\u001b[0m\u001b[0;34m[\u001b[0m\u001b[0mnrn_idx\u001b[0m\u001b[0;34m]\u001b[0m \u001b[0;34m=\u001b[0m \u001b[0mexc_raster\u001b[0m\u001b[0;34m[\u001b[0m\u001b[0;36m0\u001b[0m\u001b[0;34m,\u001b[0m \u001b[0mi\u001b[0m\u001b[0;34m]\u001b[0m\u001b[0;34m\u001b[0m\u001b[0;34m\u001b[0m\u001b[0m\n\u001b[1;32m      8\u001b[0m     \u001b[0;32mreturn\u001b[0m \u001b[0mfirst_spk_times\u001b[0m\u001b[0;34m\u001b[0m\u001b[0;34m\u001b[0m\u001b[0m\n",
      "\u001b[0;31mKeyboardInterrupt\u001b[0m: "
     ]
    }
   ],
   "source": [
    "make_figure_1('drop', timepoints=[0, 100, 200, 299])\n"
   ]
  },
  {
   "cell_type": "code",
   "execution_count": 8,
   "metadata": {},
   "outputs": [],
   "source": [
    "def make_figure_2_median(names, ylim=(0, 4)):\n",
    "    scale = 1.4\n",
    "    fig, axs = plt.subplots(1, 1, sharex=True, sharey=True, figsize=(6.5 * scale, 5 * scale))\n",
    "    \n",
    "    all_dirs = []\n",
    "    for name in names:\n",
    "        all_dirs.append([dirs for dirs in filter_list_by_name_frags(all_in_dir('./robustness'), [name])])\n",
    "        \n",
    "    spaced_colors = ['#d117ff', '#171bff', '#ff1717']\n",
    "    labels = [\n",
    "        'BTDP + single-cell firing rate + population-level firing rate',\n",
    "        'BTDP + population-level firing rate',\n",
    "        'BTDP + single-cell firing rate',\n",
    "    ]\n",
    "    \n",
    "    cap=170\n",
    "    \n",
    "    for idx, exp_dir_names in enumerate(all_dirs):\n",
    "        \n",
    "        all_weights_for_dir_name = []\n",
    "        \n",
    "        for j, exp_dir_name in enumerate(exp_dir_names):\n",
    "            all_median_incoming_summed_weights = []\n",
    "            baseline_median = None\n",
    "\n",
    "            for i, data in load_exp_data(os.path.join('./robustness', exp_dir_name), name_frags=['dropout_0']):\n",
    "                if i < cap:\n",
    "                    all_median_incoming_summed_weights.append(np.median(data['summed_incoming_weights']))\n",
    "\n",
    "                if i == 0:\n",
    "                    baseline_median = np.median(data['summed_incoming_weights'])\n",
    "\n",
    "            all_median_incoming_summed_weights = np.array(all_median_incoming_summed_weights) / baseline_median\n",
    "            \n",
    "            axs.plot(np.arange(cap) * 10, all_median_incoming_summed_weights, lw=0.3, color=spaced_colors[idx])\n",
    "                    \n",
    "            all_weights_for_dir_name.append(all_median_incoming_summed_weights)\n",
    "        \n",
    "        axs.plot(np.arange(cap) * 10, np.array(all_weights_for_dir_name).mean(axis=0), lw=3., color=spaced_colors[idx], label=labels[idx])\n",
    "        \n",
    "        axs.set_xlim(0, cap * 10)\n",
    "        axs.set_ylim(ylim[0], ylim[1])\n",
    "        axs.set_xlabel('Network activations')\n",
    "        axs.set_ylabel('Median summed synapse strength')\n",
    "        axs.legend()\n",
    "        set_font_size(axs, 16)\n",
    "    \n",
    "    fig.tight_layout()\n",
    "    save_fig(fig, './figures/paper/fig_2', 'median.png')"
   ]
  },
  {
   "cell_type": "markdown",
   "metadata": {},
   "source": [
    "## Figure 2: comparisons of the summed synaptic strengths per HVC(RA) cells for three cases: (1) single-cell rule + pop-level rule + STDP, (2) single-cell rule + STDP, (3) pop-level rule + STDP"
   ]
  },
  {
   "cell_type": "code",
   "execution_count": 24,
   "metadata": {},
   "outputs": [],
   "source": [
    "def make_figure_2_plot(names, file_name_ext='', ylim=(0, 2), cap=100, timepoints=[]):\n",
    "    \n",
    "    scale = 1.4\n",
    "    fig, axs = plt.subplots(2, 1, sharex=True, sharey=True, figsize=(7.5 * scale, 5 * scale))\n",
    "\n",
    "    colors = get_equally_spaced_colors(4, cmap='gist_ncar')\n",
    "    \n",
    "    all_dirs = []\n",
    "    for name in names:\n",
    "        all_dirs.append([dirs for dirs in filter_list_by_name_frags(all_in_dir('./robustness'), [name])])\n",
    "        \n",
    "    spaced_colors = ['#ff1717', '#ff1717', '#ff1717']\n",
    "    labels = [\n",
    "        'BTDP + single-cell firing rate',\n",
    "        'BTDP + single-cell firing rate + population-level firing rate',\n",
    "        'BTDP + population-level firing rate',\n",
    "    ]\n",
    "    \n",
    "    for idx, exp_dir_names in enumerate(all_dirs):\n",
    "        all_weights_for_dir_name = []\n",
    "        for j, exp_dir_name in enumerate(exp_dir_names):\n",
    "        #     axs_ins = inset_axes(axs[0], width='50%', height='40%',\n",
    "        #                 bbox_transform=axs[0].transAxes,\n",
    "        #                 bbox_to_anchor=(.45, .05, 1, 1), loc='lower left')\n",
    "            all_mean_incoming_summed_weights = []\n",
    "            all_std_incoming_summed_weights = []\n",
    "            all_mean_incoming_summed_weights_e_i = []\n",
    "            all_std_incoming_summed_weights_e_i = []\n",
    "            baseline_mean = None\n",
    "            baseline_std = None\n",
    "            baseline_mean_e_i = None\n",
    "            baseline_std_e_i = None\n",
    "\n",
    "            for i, data in load_exp_data(os.path.join('./robustness', exp_dir_name), name_frags=['dropout_0']):\n",
    "                if i < cap:\n",
    "                    all_mean_incoming_summed_weights.append(data['mean_incoming_summed_weights'])\n",
    "                    all_std_incoming_summed_weights.append(data['std_incoming_summed_weights'])\n",
    "                    all_mean_incoming_summed_weights_e_i.append(data['mean_incoming_summed_weights_e_i'])\n",
    "                    all_std_incoming_summed_weights_e_i.append(data['std_incoming_summed_weights_e_i'])\n",
    "\n",
    "                if i == 0:\n",
    "                    baseline_mean = data['mean_incoming_summed_weights']\n",
    "                    baseline_std = data['std_incoming_summed_weights']\n",
    "                    baseline_mean_e_i = data['mean_incoming_summed_weights_e_i']\n",
    "                    baseline_std_e_i = data['std_incoming_summed_weights_e_i']\n",
    "                       \n",
    "            all_mean_incoming_summed_weights = np.array(all_mean_incoming_summed_weights) / baseline_mean\n",
    "            all_std_incoming_summed_weights = np.array(all_std_incoming_summed_weights) / baseline_mean\n",
    "            all_mean_incoming_summed_weights_e_i = np.array(all_mean_incoming_summed_weights_e_i) / baseline_mean_e_i\n",
    "            all_std_incoming_summed_weights_e_i = np.array(all_std_incoming_summed_weights_e_i) / baseline_mean_e_i\n",
    "\n",
    "            axs[0].plot(np.arange(len(all_mean_incoming_summed_weights)) * 10, all_mean_incoming_summed_weights, lw=1, color=colors[j])\n",
    "            \n",
    "#             axs_ins.scatter(np.array(timepoints) * 10 + np.random.normal(0, 1, size=len(timepoints)), all_mean_incoming_summed_weights[timepoints],\n",
    "#                             s=30, edgecolor=spaced_colors[idx], facecolor='none', alpha=0.5, marker='o')\n",
    "                \n",
    "            all_weights_for_dir_name.append(all_mean_incoming_summed_weights)\n",
    "            \n",
    "            axs[1].plot(np.arange(len(all_mean_incoming_summed_weights_e_i)) * 10, all_mean_incoming_summed_weights_e_i, lw=1, color=colors[j])\n",
    "        \n",
    "        # axs[0].plot(np.arange(cap) * 10, np.array(all_weights_for_dir_name).mean(axis=0), lw=3., color=spaced_colors[idx], label=labels[idx])\n",
    "            axs[0].set_ylabel('Mean E->E summed synapse strength')\n",
    "            axs[1].set_ylabel('Mean E->I summed synapse strength')\n",
    "            for i in range(2):\n",
    "                axs[i].set_xlim(0, (cap - 1) * 10)\n",
    "                axs[i].set_ylim(ylim[0], ylim[1])\n",
    "                axs[i].set_xlabel('Network activations')\n",
    "                axs[i].tick_params(right=True, labelright=True)\n",
    "        #         axs.legend()\n",
    "                set_font_size(axs[i], 12)\n",
    "    \n",
    "            save_fig(fig, './figures/paper/fig_2', f'mean_plot_{file_name_ext}.png')\n",
    "        fig.tight_layout()\n"
   ]
  },
  {
   "cell_type": "code",
   "execution_count": 31,
   "metadata": {
    "scrolled": false
   },
   "outputs": [
    {
     "data": {
      "application/vnd.jupyter.widget-view+json": {
       "model_id": "388833ee541d42238cd9c9ce628dbd07",
       "version_major": 2,
       "version_minor": 0
      },
      "text/plain": [
       "Canvas(toolbar=Toolbar(toolitems=[('Home', 'Reset original view', 'home', 'home'), ('Back', 'Back to previous …"
      ]
     },
     "metadata": {},
     "output_type": "display_data"
    }
   ],
   "source": [
    "make_figure_2_plot([\n",
    "    'smaller_fr_sym_ff_1.3_pf_0.7_pr_0.0_eir_2.0_ier_0.3_2021-08-12--16:54--21:9861',\n",
    "    'sym_full_ff_1.3_pf_0.7_pr_0.0_eir_2.0_ier_0.3_2021-08-13--09:52--57:9861'\n",
    "], ylim=(0.3, 1.3), cap=60)"
   ]
  },
  {
   "cell_type": "code",
   "execution_count": 26,
   "metadata": {},
   "outputs": [],
   "source": [
    "def make_figure_2_plot_median(names, file_name_ext='', ylim=(0, 2), cap=100, timepoints=[]):\n",
    "    \n",
    "    scale = 1.8\n",
    "    fig, axs = plt.subplots(2, 1, sharex=True, sharey=True, figsize=(7.5 * scale, 5 * scale))\n",
    "\n",
    "    colors = get_equally_spaced_colors(10, cmap='gist_ncar')\n",
    "    \n",
    "    all_dirs = []\n",
    "    for name in names:\n",
    "        all_dirs.append([dirs for dirs in filter_list_by_name_frags(all_in_dir('./robustness'), [name])])\n",
    "        \n",
    "    labels = [\n",
    "        'BTDP + single-cell firing rate',\n",
    "        'BTDP + single-cell firing rate + population-level firing rate',\n",
    "        'BTDP + population-level firing rate',\n",
    "    ]\n",
    "    \n",
    "    for idx, exp_dir_names in enumerate(all_dirs):\n",
    "        all_weights_for_dir_name = []\n",
    "        for j, exp_dir_name in enumerate(exp_dir_names):\n",
    "        #     axs_ins = inset_axes(axs[0], width='50%', height='40%',\n",
    "        #                 bbox_transform=axs[0].transAxes,\n",
    "        #                 bbox_to_anchor=(.45, .05, 1, 1), loc='lower left')\n",
    "            all_median_incoming_summed_weights = []\n",
    "            all_std_incoming_summed_weights = []\n",
    "            all_median_incoming_summed_weights_e_i = []\n",
    "            all_std_incoming_summed_weights_e_i = []\n",
    "            baseline_median = None\n",
    "            baseline_std = None\n",
    "            baseline_median_e_i = None\n",
    "            baseline_std_e_i = None\n",
    "\n",
    "            for i, data in load_exp_data(os.path.join('./robustness', exp_dir_name), name_frags=['dropout_0']):\n",
    "                if i < cap:\n",
    "                    all_median_incoming_summed_weights.append(data['median_incoming_summed_weights'])\n",
    "                    all_std_incoming_summed_weights.append(data['std_incoming_summed_weights'])\n",
    "                    all_median_incoming_summed_weights_e_i.append(data['median_incoming_summed_weights_e_i'])\n",
    "                    all_std_incoming_summed_weights_e_i.append(data['std_incoming_summed_weights_e_i'])\n",
    "\n",
    "                if i == 0:\n",
    "                    baseline_median = data['median_incoming_summed_weights']\n",
    "                    baseline_std = data['std_incoming_summed_weights']\n",
    "                    baseline_median_e_i = data['median_incoming_summed_weights_e_i']\n",
    "                    baseline_std_e_i = data['std_incoming_summed_weights_e_i']\n",
    "                       \n",
    "            all_median_incoming_summed_weights = np.array(all_median_incoming_summed_weights) / baseline_median\n",
    "            all_std_incoming_summed_weights = np.array(all_std_incoming_summed_weights) / baseline_median\n",
    "            all_median_incoming_summed_weights_e_i = np.array(all_median_incoming_summed_weights_e_i) / baseline_median_e_i\n",
    "            all_std_incoming_summed_weights_e_i = np.array(all_std_incoming_summed_weights_e_i) / baseline_median_e_i\n",
    "\n",
    "            axs[0].plot(np.arange(len(all_median_incoming_summed_weights)) * 10, all_median_incoming_summed_weights, lw=1, color=colors[j])\n",
    "            \n",
    "#             axs_ins.scatter(np.array(timepoints) * 10 + np.random.normal(0, 1, size=len(timepoints)), all_mean_incoming_summed_weights[timepoints],\n",
    "#                             s=30, edgecolor=spaced_colors[idx], facecolor='none', alpha=0.5, marker='o')\n",
    "                \n",
    "            all_weights_for_dir_name.append(all_median_incoming_summed_weights)\n",
    "            \n",
    "            axs[1].plot(np.arange(len(all_median_incoming_summed_weights_e_i)) * 10, all_median_incoming_summed_weights_e_i, lw=1, color=colors[j])\n",
    "        \n",
    "        # axs[0].plot(np.arange(cap) * 10, np.array(all_weights_for_dir_name).mean(axis=0), lw=3., color=spaced_colors[idx], label=labels[idx])\n",
    "        \n",
    "            for i in range(2):\n",
    "                axs[i].set_xlim(0, (cap - 1) * 10)\n",
    "                axs[i].set_ylim(ylim[0], ylim[1])\n",
    "                axs[i].set_xlabel('Network activations')\n",
    "                axs[i].set_ylabel('Median summed synapse strength')\n",
    "                axs[i].tick_params(right=True, labelright=True)\n",
    "        #         axs.legend()\n",
    "                set_font_size(axs[i], 16)\n",
    "            \n",
    "            fig.tight_layout()\n",
    "            save_fig(fig, './figures/paper/fig_2', f'mean_plot_{file_name_ext}.png')\n"
   ]
  },
  {
   "cell_type": "code",
   "execution_count": null,
   "metadata": {},
   "outputs": [],
   "source": [
    "make_figure_2_plot_median([\n",
    "    'smaller_fr_sym_ff_1.3_pf_0.7_pr_0.0_eir_2.0_ier_0.3_2021-08-12--16:44--13:9861',\n",
    "    'smaller_fr_sym_ff_1.3_pf_0.7_pr_0.0_eir_2.0_ier_0.3_2021-08-12--16:54--21:9861',\n",
    "    'smaller_fr_sym_ff_1.3_pf_0.7_pr_0.0_eir_2.0_ier_0.3_2021-08-13--08:50--28:9861',\n",
    "], ylim=(0.3, 1.3), cap=60)"
   ]
  },
  {
   "cell_type": "code",
   "execution_count": null,
   "metadata": {},
   "outputs": [],
   "source": [
    "def make_figure_3(names, ylim=(0, 8), trials=[0], timepoints=[]):    \n",
    "    all_dirs = []\n",
    "    for name in names:\n",
    "        all_dirs.append([dirs for dirs in filter_list_by_name_frags(all_in_dir('./robustness'), [name])])\n",
    "        \n",
    "    spaced_colors = ['#1f22ff', 'black', '#ff1f71', '#ff1f71']\n",
    "    labels = [\n",
    "        'unperturbed',\n",
    "        'perturbed',\n",
    "        '100th rendition',\n",
    "        '1900th rendition',\n",
    "    ]\n",
    "    \n",
    "    for i_t in trials:\n",
    "        scale = 1.1\n",
    "        fig = plt.figure(constrained_layout=True, figsize=(18 * scale, 10 * scale))\n",
    "        gs = gridspec.GridSpec(ncols=3, nrows=6, figure=fig)\n",
    "\n",
    "        col_1_axs = [fig.add_subplot(gs[i:(i+2), 1]) for i in range(0, 6, 2)]\n",
    "        col_2_axs = [fig.add_subplot(gs[i:(i+2), 2]) for i in range(0, 6, 2)]\n",
    "        \n",
    "        axs = [\n",
    "            [fig.add_subplot(gs[0:3, 0])],\n",
    "            [fig.add_subplot(gs[3:, 0])],\n",
    "            col_1_axs,\n",
    "            col_2_axs,\n",
    "        ]\n",
    "        \n",
    "        for idx, exp_dir_names in enumerate(all_dirs):\n",
    "            j = 0\n",
    "            spk_bins_zero = None\n",
    "            freqs_zero = None\n",
    "            exp_dir_names = sorted(exp_dir_names, key=lambda x: x[-4:])\n",
    "            for i, data in load_exp_data(os.path.join('./robustness', exp_dir_names[i_t]), name_frags=['dropout_0']):\n",
    "                if j < len(timepoints) and i == timepoints[j]:\n",
    " \n",
    "                    if j >= 2 or (j == 1 and idx == 0):\n",
    "                        if idx == 0:\n",
    "                            axs[j][idx].plot(spk_bins_zero, freqs_zero, color=spaced_colors[0], alpha=0.2, zorder=-j, label=labels[0])\n",
    "                        else:\n",
    "                            axs[j][idx].plot(spk_bins_zero, freqs_zero, color=spaced_colors[0], alpha=0.2, zorder=-j)\n",
    "\n",
    "                    spk_bins = data['spk_bins']\n",
    "                    freqs = data['freqs']\n",
    "                    if j == 0:\n",
    "                        spk_bins_zero = spk_bins\n",
    "                        freqs_zero = freqs\n",
    "\n",
    "                    if j >= 2 or (j < 2 and idx == 0):\n",
    "                        if idx == 0:\n",
    "                            axs[j][idx].plot(spk_bins, freqs, color=spaced_colors[j], alpha=0.7, zorder=-j, label=labels[j])\n",
    "                        else:\n",
    "                            axs[j][idx].plot(spk_bins, freqs, color=spaced_colors[j], alpha=0.7, zorder=-j)\n",
    "                        axs[j][idx].set_ylabel('Number neurons')\n",
    "                        if idx == (len(all_dirs) - 1):\n",
    "                            axs[j][idx].set_xlabel('Spikes per neuron')\n",
    "                        axs[j][idx].set_xlim(-0.5, 20)\n",
    "                        axs[j][idx].set_ylim(0, 500)\n",
    "                        \n",
    "                        if idx == 0:\n",
    "                            axs[j][idx].legend()\n",
    "\n",
    "                        set_font_size(axs[j][idx], 18)\n",
    "                    j += 1\n",
    "        plt.locator_params(axis='x', nbins=5)\n",
    "        fig.tight_layout()\n",
    "        save_fig(fig, './figures/paper/fig_3', f'trial_{i_t}.png')"
   ]
  },
  {
   "cell_type": "markdown",
   "metadata": {},
   "source": [
    "## Figure 3: comparisons of the firing rate distributions of HVC(RA) cells for three cases: (1) single-cell rule + pop-level rule + STDP, (2) single-cell rule + STDP, (3) pop-level rule + STDP"
   ]
  },
  {
   "cell_type": "markdown",
   "metadata": {},
   "source": [
    "### First run only"
   ]
  },
  {
   "cell_type": "code",
   "execution_count": null,
   "metadata": {
    "scrolled": false
   },
   "outputs": [],
   "source": [
    "make_figure_3([\n",
    "    'settle_ff_1.6_pf_0.7_pr_0.0_eir_2.0_ier_0.3_2021-08-02--09:53--08:0845',\n",
    "    'settle_ff_1.6_pf_0.7_pr_0.0_eir_2.0_ier_0.3_2021-08-02--09:53--08:1354',\n",
    "    'settle_ff_1.6_pf_0.7_pr_0.0_eir_2.0_ier_0.3_2021-08-02--09:53--08:1377'\n",
    "], timepoints=[0, 50, 100, 290])"
   ]
  },
  {
   "cell_type": "markdown",
   "metadata": {},
   "source": [
    "(1) BTDP + single-cell firing rate upper bound + popopulation-level firing rate\n",
    "\n",
    "(2) BTDP + population-level firing rate\n",
    "\n",
    "(3) BTDP + single-cell rule (NOTE: single cell setpoints were artificial & silent cells were drawn in early)"
   ]
  },
  {
   "cell_type": "code",
   "execution_count": null,
   "metadata": {},
   "outputs": [],
   "source": [
    "def make_figure_4_averaged(names, dropout=0, file_name_ext='', ylim=(0, 8), cap=100):\n",
    "    scale = 1.4\n",
    "    fig, axs = plt.subplots(4, 1, sharex=False, sharey=False, figsize=(10 * scale, 12 * scale))\n",
    "    \n",
    "    all_dirs = []\n",
    "    for name in names:\n",
    "        all_dirs.append([dirs for dirs in filter_list_by_name_frags(all_in_dir('./robustness'), [name])])\n",
    "\n",
    "    x = np.concatenate([np.ones(20) * i for i in range(0, 900, 20)])\n",
    "    spaced_colors = ['#ff1717', '#d117ff', '#171bff']\n",
    "    labels = [\n",
    "        'BTDP + single-cell firing rate',\n",
    "        'BTDP + single-cell firing rate \\n+ population-level firing rate',\n",
    "        'BTDP + population-level firing rate',\n",
    "    ]\n",
    "    \n",
    "    for idx, exp_dir_names in enumerate(all_dirs):\n",
    "        to_plot = ['pop_firing_rates', 'inh_pop_firing_rates', 'relative_prop_speeds', 'r_squareds', 'last_layer_actives']\n",
    "        \n",
    "        plot_data = {}\n",
    "        for var in to_plot:\n",
    "            plot_data[var] = {'raw': []}\n",
    "        \n",
    "        for j, exp_dir_name in enumerate(exp_dir_names):\n",
    "            \n",
    "            for var in to_plot:\n",
    "                plot_data[var]['raw'].append([])\n",
    "\n",
    "            for i, data in load_exp_data(os.path.join('./robustness', exp_dir_name), name_frags=[f'dropout_{dropout}']):\n",
    "                if i == cap:\n",
    "                    break\n",
    "\n",
    "                pop_firing_rate = np.sum(data['exc_cells_initially_active'])\n",
    "                if data['exc_cells_newly_active'] is not None:\n",
    "                    pop_firing_rate += np.sum(data['exc_cells_newly_active'])\n",
    "                plot_data['pop_firing_rates']['raw'][-1].append(pop_firing_rate)\n",
    "                \n",
    "                inh_pop_firing_rate = np.sum(data['inh_raster'])\n",
    "                plot_data['inh_pop_firing_rates']['raw'][-1].append(inh_pop_firing_rate)\n",
    "\n",
    "                first_spk_times = data['first_spk_times']\n",
    "                filtered_indices = data['surviving_cell_indices'] & (~np.isnan(first_spk_times))\n",
    "\n",
    "                x_firing = x[filtered_indices]\n",
    "                first_spk_times_nonnan = first_spk_times[filtered_indices]\n",
    "\n",
    "                res = stats.linregress(x_firing, first_spk_times_nonnan)\n",
    "                plot_data['relative_prop_speeds']['raw'][-1].append(res.slope)\n",
    "                plot_data['r_squareds']['raw'][-1].append(np.square(res.rvalue))\n",
    "                plot_data['last_layer_actives']['raw'][-1].append(data['last_layer_active'])\n",
    "                \n",
    "        for var in to_plot:\n",
    "            l = len(plot_data[var]['raw'])\n",
    "            plot_data[var]['raw'] = np.stack(plot_data[var]['raw'])\n",
    "            plot_data[var]['means'] = plot_data[var]['raw'].mean(axis=0)\n",
    "            plot_data[var]['stds'] = plot_data[var]['raw'].std(axis=0)\n",
    "            \n",
    "        epochs = np.arange(0, cap * 10, 10)\n",
    "        \n",
    "        axs[0].fill_between(\n",
    "            epochs,\n",
    "            plot_data['pop_firing_rates']['means'] - plot_data['pop_firing_rates']['stds'],\n",
    "            plot_data['pop_firing_rates']['means'] + plot_data['pop_firing_rates']['stds'],\n",
    "            color=spaced_colors[idx], alpha=0.15\n",
    "        )\n",
    "        axs[0].plot(epochs, plot_data['pop_firing_rates']['means'], c=spaced_colors[idx], lw=1., label=labels[idx])\n",
    "        axs[0].fill_between(\n",
    "            epochs,\n",
    "            plot_data['inh_pop_firing_rates']['means'] - plot_data['inh_pop_firing_rates']['stds'],\n",
    "            plot_data['inh_pop_firing_rates']['means'] + plot_data['inh_pop_firing_rates']['stds'],\n",
    "            color=spaced_colors[idx], alpha=0.15\n",
    "        )\n",
    "        axs[0].plot(epochs, plot_data['inh_pop_firing_rates']['means'], '--', c=spaced_colors[idx], lw=1., label=f'{labels[idx]} inh', )\n",
    "        axs[1].fill_between(\n",
    "            epochs,\n",
    "            plot_data['relative_prop_speeds']['means'] - plot_data['relative_prop_speeds']['stds'],\n",
    "            plot_data['relative_prop_speeds']['means'] + plot_data['relative_prop_speeds']['stds'],\n",
    "            color=spaced_colors[idx], alpha=0.15\n",
    "        )\n",
    "        axs[1].plot(epochs, plot_data['relative_prop_speeds']['means'], c=spaced_colors[idx], lw=1.)\n",
    "        axs[2].fill_between(\n",
    "            epochs,\n",
    "            plot_data['r_squareds']['means'] - plot_data['r_squareds']['stds'],\n",
    "            plot_data['r_squareds']['means'] + plot_data['r_squareds']['stds'],\n",
    "            color=spaced_colors[idx], alpha=0.15\n",
    "        )\n",
    "        axs[2].plot(epochs, plot_data['r_squareds']['means'],c=spaced_colors[idx], lw=1.)\n",
    "        axs[3].fill_between(\n",
    "            epochs,\n",
    "            plot_data['last_layer_actives']['means'] - plot_data['last_layer_actives']['stds'],\n",
    "            plot_data['last_layer_actives']['means'] + plot_data['last_layer_actives']['stds'],\n",
    "            color=spaced_colors[idx], alpha=0.15\n",
    "        )\n",
    "        axs[3].plot(epochs, plot_data['last_layer_actives']['means'], c=spaced_colors[idx], lw=1.)\n",
    "        \n",
    "    axs[0].set_ylabel('Population spikes\\nper activation')\n",
    "    axs[1].set_ylabel('Propagation speed')\n",
    "    axs[2].set_ylabel(r'$R^2$')\n",
    "    axs[3].set_ylabel('Last layer active')\n",
    "    \n",
    "    axs[1].set_ylim(0)\n",
    "    axs[2].set_ylim(0.5, 1.)\n",
    "    axs[3].set_ylim(0, 45)\n",
    "    \n",
    "    axs[0].legend(bbox_to_anchor=(1.05, 1), loc='upper left')\n",
    "        \n",
    "    for i in range(4):\n",
    "        axs[i].set_xlim(0, cap * 10)\n",
    "        axs[i].set_xlabel('Epochs')\n",
    "        set_font_size(axs[i], 16)\n",
    "    fig.tight_layout()\n",
    "    save_fig(fig, './figures/paper/fig_4', f'dropout_{int(50 + dropout * 10)}_{file_name_ext}.png')"
   ]
  },
  {
   "cell_type": "markdown",
   "metadata": {},
   "source": [
    "## Figure 4: metrics of dynamics"
   ]
  },
  {
   "cell_type": "markdown",
   "metadata": {},
   "source": [
    "### 50% dropout of HVC(RA) projectors"
   ]
  },
  {
   "cell_type": "code",
   "execution_count": null,
   "metadata": {},
   "outputs": [],
   "source": [
    "make_figure_4_averaged([\n",
    "    'drop'\n",
    "],\n",
    "file_name_ext='both_rules', cap=172)"
   ]
  },
  {
   "cell_type": "code",
   "execution_count": null,
   "metadata": {},
   "outputs": [],
   "source": [
    "def make_figure_5(name, timepoints=[0, 50, 100, 150], color='black'):\n",
    "    \n",
    "    all_dirs = filter_list_by_name_frags(all_in_dir('./robustness'), [name])\n",
    "    \n",
    "    for exp_dir_name in sorted(all_dirs):\n",
    "        scale = 1.1\n",
    "        fig, axs = plt.subplots(2, 4, sharex=False, sharey=True, figsize=(15 * scale, 7.5 * scale))\n",
    "        \n",
    "        timepoint_names = [f'Rendition {t * 10}' for t in timepoints]\n",
    "        j = 0\n",
    "        for i, data in load_exp_data(os.path.join('./robustness', exp_dir_name),\n",
    "                                 name_frags=['dropout_0']):\n",
    "            \n",
    "            if j < len(timepoints) and i == timepoints[j]:\n",
    "                summed_incoming_weights = data['summed_incoming_weights'].reshape(data['summed_incoming_weights'].shape[1])\n",
    "                layer_weights = np.array([np.sum(summed_incoming_weights[i:i+20]) for i in range(0, summed_incoming_weights.shape[0], 20)])\n",
    "                x = np.arange(summed_incoming_weights.shape[0])\n",
    "                \n",
    "                axs[0, j].scatter(x, summed_incoming_weights, s=1, c=color, zorder=0, alpha=1)\n",
    "                axs[0, j].set_xlim(-1, 901)\n",
    "                axs[0, j].set_xlabel('Cell Index')\n",
    "                axs[0, j].set_ylabel('Summed Incoming Weights')\n",
    "                axs[0, j].title.set_text(f'{timepoint_names[j]}')\n",
    "                \n",
    "                summed_incoming_weights_ei = data['summed_incoming_weights_e_i'].reshape(data['summed_incoming_weights_e_i'].shape[1])\n",
    "                x_ei = np.arange(summed_incoming_weights_ei.shape[0])\n",
    "                axs[1, j].scatter(x_ei, summed_incoming_weights_ei, s=1, c=color, zorder=0, alpha=1)\n",
    "\n",
    "                axs[1, j].set_xlim(-1, 401)\n",
    "                axs[1, j].set_xlabel('Cell Index')\n",
    "                axs[1, j].set_ylabel('Summed Incoming Weights E->I')\n",
    "                axs[1, j].title.set_text(f'{timepoint_names[j]}')\n",
    "                \n",
    "                for idx in range(2):\n",
    "                    set_font_size(axs[idx, j], 16)\n",
    "                j += 1\n",
    "    \n",
    "        fig.tight_layout()\n",
    "#         save_fig(fig, './figures/paper/fig_1', f'{exp_dir_name}.png')"
   ]
  },
  {
   "cell_type": "code",
   "execution_count": null,
   "metadata": {
    "scrolled": false
   },
   "outputs": [],
   "source": [
    "make_figure_5('smaller_fr_sym_ff_1.3_pf_0.7_pr_0.0_eir_2.0_ier_0.3_2021-08-12--16:44--13:9861', timepoints=[0, 10, 1, 2])\n"
   ]
  },
  {
   "cell_type": "code",
   "execution_count": null,
   "metadata": {},
   "outputs": [],
   "source": [
    "def make_figure_6(name, timepoints=[0, 50, 100, 150], color='black'):\n",
    "    \n",
    "    all_dirs = filter_list_by_name_frags(all_in_dir('./robustness'), [name])\n",
    "    \n",
    "    for exp_dir_name in sorted(all_dirs):\n",
    "        scale = 1.1\n",
    "        fig, axs = plt.subplots(2, 4, sharex=False, sharey=True, figsize=(15 * scale, 7.5 * scale))\n",
    "        \n",
    "        timepoint_names = [f'Rendition {t * 10}' for t in timepoints]\n",
    "        j = 0\n",
    "        for i, data in load_exp_data(os.path.join('./robustness', exp_dir_name),\n",
    "                                 name_frags=['dropout_0']):\n",
    "            \n",
    "            if j < len(timepoints) and i == timepoints[j]:\n",
    "                summed_incoming_weights = data['summed_incoming_weights'].reshape(data['summed_incoming_weights'].shape[1])\n",
    "                layer_weights = np.array([np.sum(summed_incoming_weights[i:i+20]) for i in range(0, summed_incoming_weights.shape[0], 20)])\n",
    "                x = np.arange(layer_weights.shape[0])\n",
    "                \n",
    "                axs[0, j].scatter(x, layer_weights, s=1, c=color, zorder=0, alpha=1)\n",
    "                axs[0, j].set_xlim(-1, 46)\n",
    "                axs[0, j].set_xlabel('Cell Index')\n",
    "                axs[0, j].set_ylabel('Layer Weights')\n",
    "                axs[0, j].title.set_text(f'{timepoint_names[j]}')\n",
    "                \n",
    "                for idx in range(2):\n",
    "                    set_font_size(axs[idx, j], 16)\n",
    "                j += 1\n",
    "    \n",
    "        fig.tight_layout()\n",
    "#         save_fig(fig, './figures/paper/fig_1', f'{exp_dir_name}.png')"
   ]
  },
  {
   "cell_type": "code",
   "execution_count": null,
   "metadata": {
    "scrolled": false
   },
   "outputs": [],
   "source": [
    "make_figure_6('settle', timepoints=[0, 30, 50, 170])"
   ]
  }
 ],
 "metadata": {
  "kernelspec": {
   "display_name": "Python 3",
   "language": "python",
   "name": "python3"
  },
  "language_info": {
   "codemirror_mode": {
    "name": "ipython",
    "version": 3
   },
   "file_extension": ".py",
   "mimetype": "text/x-python",
   "name": "python",
   "nbconvert_exporter": "python",
   "pygments_lexer": "ipython3",
   "version": "3.7.6"
  }
 },
 "nbformat": 4,
 "nbformat_minor": 4
}
