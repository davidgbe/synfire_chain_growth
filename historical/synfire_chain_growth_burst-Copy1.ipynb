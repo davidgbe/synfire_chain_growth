{
 "cells": [
  {
   "cell_type": "markdown",
   "metadata": {},
   "source": [
    "# Synfire chain growth\n",
    "\n",
    "The aim of this notebook is to investigate the formation of wide synfire chains via Ila Fiete's recipe of STDP + heterosynaptic competition + correlated input."
   ]
  },
  {
   "cell_type": "markdown",
   "metadata": {},
   "source": [
    "## Network Architecture\n",
    "Conductance-based LIF network. Single-neuron voltage dynamics:\n",
    "\n",
    "$$C_m \\frac{dV}{dt} = g_l[E_l - V(t)] + g_e(t)[E_e - V(t)] + g_i(t)[E_i - V(t)] + I_{ext}(t)$$"
   ]
  },
  {
   "cell_type": "markdown",
   "metadata": {},
   "source": [
    "The time-varying conductances $g_e(t)$ and $g_i(t)$ are exponentially filtered sums of spike trains from upstream neurons $j$, with time constants $\\tau_e$ and $\\tau_i$ and weighted by $W_e^{ij}$ and $W_i^{ij}$, respectively (convention: weight to $i$ from $j$):\n",
    "\n",
    "$$\\tau_e\\frac{dg^i_e}{dt} = -g^i_e + \\sum_j W_e^{ij} \\sum_{t_k^j} \\delta(t - t_k^j)$$\n",
    "\n",
    "$$\\tau_i\\frac{dg^i_i}{dt} = -g^i_i + \\sum_j W_i^{ij} \\sum_{t_k^j} \\delta(t - t_k^j)$$\n",
    "\n",
    "where $t_k^j$ are the spike times in the $j$-th neuron."
   ]
  },
  {
   "cell_type": "markdown",
   "metadata": {},
   "source": [
    "# Code"
   ]
  },
  {
   "cell_type": "code",
   "execution_count": 1,
   "metadata": {},
   "outputs": [
    {
     "name": "stdout",
     "output_type": "stream",
     "text": [
      "T_M_E = 2.5 ms\n"
     ]
    }
   ],
   "source": [
    "%matplotlib inline\n",
    "from copy import deepcopy as copy\n",
    "import matplotlib.gridspec as gridspec\n",
    "import matplotlib.pyplot as plt\n",
    "import numpy as np\n",
    "from scipy import stats\n",
    "import pandas as pd\n",
    "from tqdm import tqdm\n",
    "import pickle\n",
    "from collections import OrderedDict\n",
    "import os\n",
    "from scipy.ndimage.interpolation import shift\n",
    "from functools import reduce\n",
    "\n",
    "from aux import Generic\n",
    "from disp import set_font_size, get_spaced_colors\n",
    "from ntwk import LIFNtwkG\n",
    "from utils.general import *\n",
    "\n",
    "cc = np.concatenate\n",
    "\n",
    "# PARAMS\n",
    "## NEURON AND NETWORK MODEL\n",
    "M = Generic(\n",
    "    # Excitatory membrane\n",
    "    C_M_E=1e-6,  # membrane capacitance\n",
    "    G_L_E=.4e-3,  # membrane leak conductance (T_M (s) = C_M (F/cm^2) / G_L (S/cm^2))\n",
    "    E_L_E=-.06,  # membrane leak potential (V)\n",
    "    V_TH_E=-.05,  # membrane spike threshold (V)\n",
    "    T_R_E=6e-3,  # refractory period (s)\n",
    "    E_R_E=-0.055, # reset voltage (V)\n",
    "    \n",
    "    # Inhibitory membrane\n",
    "    #C_M_I=1e-6,\n",
    "    #G_L_E=.1e-3, \n",
    "    #E_L_I=-.06,\n",
    "    #V_TH_E=-.05,\n",
    "    #T_R_I=.002,\n",
    "    \n",
    "    # syn rev potentials and decay times\n",
    "    E_E=0, E_I=-.07, T_E=.004, T_I=.004,\n",
    "    \n",
    "    W_U_E=0.5e-3,\n",
    "    W_MAX=0.14 * 0.004,\n",
    "    M=1.,\n",
    "    ETA=0.0001,\n",
    "    EPSILON=0.05,\n",
    "    \n",
    "    W_E_I_R=0,\n",
    "    W_I_E_R=0,\n",
    "    \n",
    "    N_EXC=50,\n",
    "    N_INH=1,\n",
    "    \n",
    "    DRIVING_HZ=2, # 10 Hz lambda Poisson input to system\n",
    "    N_DRIVING_CELLS=50,\n",
    "    PROJECTION_NUM=1,\n",
    "    \n",
    "    # OTHER INPUTS\n",
    "    SGM_N=.5e-9,  # noise level (A*sqrt(s))\n",
    "    I_EXT_B=0,  # additional baseline current input\n",
    ")\n",
    "\n",
    "## SMLN\n",
    "S = Generic(RNG_SEED=0, DT=0.02e-3)\n",
    "\n",
    "print('T_M_E =', 1000*M.C_M_E/M.G_L_E, 'ms')  # E cell membrane time constant (C_m/g_m)"
   ]
  },
  {
   "cell_type": "markdown",
   "metadata": {},
   "source": [
    "## Synaptic weight change under STDP rule"
   ]
  },
  {
   "cell_type": "code",
   "execution_count": 2,
   "metadata": {},
   "outputs": [],
   "source": [
    "def bin_occurrences(occurrences, min_idx=0, max_idx=None, bin_size=1):\n",
    "    if max_idx is None:\n",
    "        max_idx = occurrences.max() + 1\n",
    "    binned = np.zeros(max_idx - min_idx)\n",
    "    for n in occurrences:\n",
    "        if n >= max_idx or n < min_idx:\n",
    "            raise IndexError(f'index {n} is out of bounds for min {min_idx} and max {max_idx}')\n",
    "        binned[n - min_idx] += 1\n",
    "    return binned\n",
    "\n",
    "def calc_degree_dist(mat):\n",
    "    degree_freqs = bin_occurrences(np.count_nonzero(mat, axis=1))\n",
    "    return np.arange(len(degree_freqs)), degree_freqs"
   ]
  },
  {
   "cell_type": "markdown",
   "metadata": {},
   "source": [
    "# Full chain"
   ]
  },
  {
   "cell_type": "markdown",
   "metadata": {},
   "source": [
    "### Helper functions for defining network connectivity"
   ]
  },
  {
   "cell_type": "code",
   "execution_count": 3,
   "metadata": {},
   "outputs": [],
   "source": [
    "def rand_n_ones_in_vec_len_l(n, l):\n",
    "    if n > l:\n",
    "        raise ValueError('n cannot be greater than l')\n",
    "    vec = np.concatenate([np.ones(n, int), np.zeros(l - n, int)])\n",
    "    return vec[np.random.permutation(l)]\n",
    "\n",
    "def dropout_on_mat(mat, percent):\n",
    "    dropout_indices = rand_bin_array_with_percentage_ones(mat.shape[1], int((1 - percent) * mat.shape[1]))\n",
    "    m = copy(mat)\n",
    "    for idx, val in enumerate(dropout_indices):\n",
    "        m[:, idx] = val * m[:, idx]\n",
    "    return m"
   ]
  },
  {
   "cell_type": "code",
   "execution_count": 4,
   "metadata": {},
   "outputs": [],
   "source": [
    "def graph_weight_matrix(mat, title, v_max=None, ax=None):\n",
    "    mat = copy(mat)\n",
    "    \n",
    "    if ax is None:\n",
    "        fig, ax = plt.subplots(1, 1, figsize=(4, 4), tight_layout=True)\n",
    "    \n",
    "    ax.matshow(mat, vmin=0, vmax=v_max if v_max is not None else mat.max(), cmap='gray')\n",
    "    ax.set_title(title)\n",
    "    set_font_size(ax, 14)\n",
    "\n",
    "def graph_weights(w_r, w_u, v_max=None):\n",
    "    fig, axs = plt.subplots(2, 2, figsize=(8, 8), tight_layout=True)\n",
    "    \n",
    "    graph_weight_matrix(w_r['E'], 'W_R[E]\\n', v_max=v_max, ax=axs[0, 0])\n",
    "    graph_weight_matrix(w_r['I'], 'W_R[I]\\n', v_max=v_max, ax=axs[0, 1])\n",
    "    graph_weight_matrix(w_u['E'], 'W_U[E]\\n', v_max=v_max, ax=axs[1, 0])\n",
    "    graph_weight_matrix(w_u['I'], 'W_U[I]\\n', v_max=v_max, ax=axs[1, 1])\n",
    "    \n",
    "def sort_mat(mat):\n",
    "    max_locs = np.argmax(mat, axis=1)\n",
    "    print(max_locs)\n",
    "    p = max_locs.argsort()\n",
    "    print(p)\n",
    "    mat_sorted = copy(mat)\n",
    "    \n",
    "    for i in range(mat.shape[0]):\n",
    "        mat_sorted[:,i] = mat[p,i]\n",
    "    for j in range(mat.shape[0]):\n",
    "        mat_sorted[i, :] = mat[i, p]\n",
    "        \n",
    "    return mat_sorted\n"
   ]
  },
  {
   "cell_type": "markdown",
   "metadata": {},
   "source": [
    "### Define function for simulating a single set of parameters using three different input UVA frequences"
   ]
  },
  {
   "cell_type": "code",
   "execution_count": 5,
   "metadata": {
    "scrolled": false
   },
   "outputs": [],
   "source": [
    "def run_test(m, show_connectivity=True, repeats=1, n_show_only=None, add_noise=True, dropouts=[{'E': 0, 'I': 0}]):\n",
    "    \n",
    "    n_cells_driven = m.N_DRIVING_CELLS * m.PROJECTION_NUM\n",
    "    ## input weights\n",
    "    w_u = {\n",
    "        # localized inputs to trigger activation from start of chain\n",
    "        'E': np.block([\n",
    "            [ m.W_U_E * np.repeat(np.diag(np.ones(m.N_DRIVING_CELLS)), m.PROJECTION_NUM, axis=0), np.zeros([n_cells_driven, m.N_EXC + m.N_INH]) ],\n",
    "            [ np.zeros([m.N_EXC + m.N_INH - n_cells_driven, m.N_EXC + m.N_INH + m.N_DRIVING_CELLS]) ],\n",
    "        ]),\n",
    "\n",
    "        'I': np.zeros((m.N_EXC + m.N_INH, m.N_DRIVING_CELLS + m.N_EXC + m.N_INH)),\n",
    "    }\n",
    "    \n",
    "    w_initial_max = m.W_MAX / (m.M * m.N_EXC)\n",
    "    \n",
    "    e_i_r = np.stack([rand_n_ones_in_vec_len_l(int(m.N_EXC * .7), m.N_EXC) for i in range(m.N_INH)])\n",
    "    \n",
    "    i_e_r = np.stack([rand_n_ones_in_vec_len_l(int(m.N_INH * .7), m.N_INH) for i in range(m.N_EXC)])\n",
    "    \n",
    "    w_e_e_r = np.random.rand(m.N_EXC, m.N_EXC) * w_initial_max\n",
    "    np.fill_diagonal(w_e_e_r, 0.)\n",
    "    \n",
    "    ## recurrent weights\n",
    "    w_r_base = {\n",
    "        'E': np.block([\n",
    "            [ w_e_e_r, np.zeros((m.N_EXC, m.N_INH)) ],\n",
    "            [ e_i_r * m.W_E_I_R,  np.zeros((m.N_INH, m.N_INH)) ],\n",
    "        ]),\n",
    "        'I': np.block([\n",
    "            [ np.zeros((m.N_EXC, m.N_EXC)), i_e_r * m.W_I_E_R ],\n",
    "            [ np.zeros((m.N_INH, m.N_EXC)), np.zeros((m.N_INH, m.N_INH)) ],\n",
    "        ]),\n",
    "    }\n",
    "    \n",
    "    w_r_for_dropouts = []\n",
    "    for dropout in dropouts:\n",
    "        w_r = copy(w_r_base)\n",
    "        # w_r['E'][:, :m.N_EXC] = dropout_on_mat(w_r['E'][:, :m.N_EXC], dropout['E'])\n",
    "        # w_r['I'][:, m.N_EXC:] = dropout_on_mat(w_r['I'][:, m.N_EXC:], dropout['I'])\n",
    "        w_r_for_dropouts.append(w_r)\n",
    "    \n",
    "    # generate timesteps and initial excitatory input window\n",
    "    t = np.arange(0, S.T, S.DT)\n",
    "    \n",
    "    all_rsps = []\n",
    "\n",
    "    # run simulation for same set of parameters\n",
    "    for rp_idx in range(repeats):\n",
    "        show_trial = (type(n_show_only) is int and rp_idx < n_show_only)\n",
    "\n",
    "        rsps_for_trial = []\n",
    "\n",
    "        ## external currents\n",
    "        if add_noise:\n",
    "            i_ext = m.SGM_N/S.DT * np.random.randn(len(t), m.N_EXC + m.N_INH) + m.I_EXT_B\n",
    "        else:\n",
    "            i_ext = m.I_EXT_B * np.ones((len(t), m.N_EXC + m.N_INH))\n",
    "\n",
    "        ## inp spks\n",
    "        spks_u_base = np.zeros((len(t), m.N_DRIVING_CELLS + m.N_EXC + m.N_INH), dtype=int)\n",
    "\n",
    "        # trigger inputs\n",
    "        spks_u = copy(spks_u_base)\n",
    "        spks_u[:, :m.N_DRIVING_CELLS] = np.concatenate([np.random.poisson(m.DRIVING_HZ * S.DT, size=(len(t), 1)) for i in range(m.N_DRIVING_CELLS)], axis=1)\n",
    "        \n",
    "        rsps_for_trial = []\n",
    "        \n",
    "        for d_idx, dropout in enumerate(dropouts):\n",
    "            \n",
    "            w_r_for_dropout = w_r_for_dropouts[d_idx]\n",
    "            \n",
    "            w_max = m.W_MAX / m.M\n",
    "            print(w_max)\n",
    "            print(np.max(w_r_for_dropout['E']))\n",
    "            if show_connectivity:\n",
    "                graph_weights(copy(w_r_for_dropout), copy(w_u), v_max=w_max)\n",
    "\n",
    "            ntwk = LIFNtwkG(\n",
    "                c_m=m.C_M_E,\n",
    "                g_l=m.G_L_E,\n",
    "                e_l=m.E_L_E,\n",
    "                v_th=m.V_TH_E,\n",
    "                v_r=m.E_R_E,\n",
    "                t_r=m.T_R_E,\n",
    "                e_s={'E': M.E_E, 'I': M.E_I},\n",
    "                t_s={'E': M.T_E, 'I': M.T_E},\n",
    "                w_r=copy(w_r_for_dropout),\n",
    "                w_u=copy(w_u),\n",
    "                plasticity_indices=np.arange(m.N_EXC),\n",
    "                W_max=m.W_MAX,\n",
    "                m=m.M,\n",
    "                eta=m.ETA,\n",
    "                epsilon=m.EPSILON,\n",
    "                dt=S.DT,\n",
    "            )\n",
    "\n",
    "            clamp = Generic(\n",
    "                v={0: np.repeat(m.E_L_E, m.N_EXC + m.N_INH)}, spk={})\n",
    "\n",
    "            # run smln\n",
    "            rsp = ntwk.run(dt=S.DT, clamp=clamp, i_ext=i_ext, spks_u=spks_u)\n",
    "            \n",
    "            if show_connectivity:\n",
    "                graph_weights(rsp.ntwk.w_r, rsp.ntwk.w_u, v_max=w_max)\n",
    "            \n",
    "            w_r_e = rsp.ntwk.w_r['E'][:m.N_EXC, :m.N_EXC]\n",
    "            print(np.max(w_r_e))\n",
    "            graph_weight_matrix(w_r_e, 'Exc->Exc Weights\\n', v_max=w_max)\n",
    "            graph_weight_matrix(np.sqrt(np.dot(w_r_e, w_r_e.T)), 'W * W.T \\n', v_max=w_max)\n",
    "            sort_mat(w_r_e)\n",
    "                \n",
    "            rsps_for_trial.append({\n",
    "                'spks_t': copy(rsp.spks_t),\n",
    "                'spks_c': copy(rsp.spks_c),\n",
    "                'spks_u': spks_u.nonzero(),\n",
    "                'w_r': copy(rsp.ntwk.w_r)\n",
    "            })\n",
    "        all_rsps.append(rsps_for_trial)\n",
    "    return all_rsps"
   ]
  },
  {
   "cell_type": "code",
   "execution_count": 6,
   "metadata": {},
   "outputs": [],
   "source": [
    "def build_tg_density_graph(m, num_timegroups, spks_t, t_indices, tg_indices):\n",
    "    tgs_at_t = np.zeros((int(S.T/S.DT), num_timegroups))\n",
    "    ts = spks_t[t_indices]\n",
    "    for t, tg_idx in zip(ts, tg_indices) :\n",
    "        if tg_idx % m.N_NUCLEI == 0:\n",
    "            tgs_at_t[int(t / S.DT), tg_idx] += 1\n",
    "    return tgs_at_t"
   ]
  },
  {
   "cell_type": "code",
   "execution_count": 7,
   "metadata": {},
   "outputs": [],
   "source": [
    "def quick_plot(m, repeats=1, show_connectivity=True, n_show_only=None, add_noise=True, dropouts=[{'E': 0, 'I': 0}]):\n",
    "    all_rsps = run_test(m, show_connectivity=show_connectivity, repeats=repeats,\n",
    "                        n_show_only=n_show_only, add_noise=add_noise, dropouts=dropouts)\n",
    "    \n",
    "    colors = ['black', 'blue', 'green', 'purple', 'brown']\n",
    "        \n",
    "    for idx_r, rsps in enumerate(all_rsps):\n",
    "        for idx_do, rsp_for_dropout in enumerate(rsps):\n",
    "            \n",
    "            raster = np.stack([rsp_for_dropout['spks_t'], rsp_for_dropout['spks_c']])\n",
    "\n",
    "            exc_raster = raster[:, raster[1, :] < m.N_EXC]\n",
    "            inh_raster = raster[:, raster[1, :] >= m.N_EXC]\n",
    "\n",
    "            show_trial = (type(n_show_only) is None) or (type(n_show_only) is int and idx_r < n_show_only)\n",
    "            print(show_trial)\n",
    "            # if show_trial:\n",
    "            gs = gridspec.GridSpec(1, 1)\n",
    "            fig = plt.figure(figsize=(18, 6), tight_layout=True)\n",
    "            axs = [fig.add_subplot(gs[0])]\n",
    "\n",
    "            axs[0].scatter(exc_raster[0, :] * 1000, exc_raster[1, :], s=1, c='black', zorder=0, alpha=1)\n",
    "            axs[0].scatter(inh_raster[0, :] * 1000, inh_raster[1, :], s=1, c='red', zorder=0, alpha=1)\n",
    "\n",
    "            axs[0].set_ylim(-1, m.N_EXC + m.N_INH)\n",
    "            axs[0].set_xlim(0, S.T * 1000)\n",
    "            axs[0].set_ylabel('Cell Index')\n",
    "            axs[0].set_xlabel('Time (ms)')\n",
    "            \n",
    "            set_font_size(axs[0], 14)\n",
    "    return all_rsps"
   ]
  },
  {
   "cell_type": "code",
   "execution_count": 9,
   "metadata": {
    "scrolled": false
   },
   "outputs": [
    {
     "name": "stdout",
     "output_type": "stream",
     "text": [
      "0.0005600000000000001\n",
      "1.1191757322444126e-05\n"
     ]
    },
    {
     "ename": "KeyboardInterrupt",
     "evalue": "",
     "output_type": "error",
     "traceback": [
      "\u001b[0;31m---------------------------------------------------------------------------\u001b[0m",
      "\u001b[0;31mKeyboardInterrupt\u001b[0m                         Traceback (most recent call last)",
      "\u001b[0;32m<ipython-input-9-10aeaac4124a>\u001b[0m in \u001b[0;36m<module>\u001b[0;34m\u001b[0m\n\u001b[1;32m      3\u001b[0m \u001b[0mm2\u001b[0m\u001b[0;34m.\u001b[0m\u001b[0mEPSILON\u001b[0m \u001b[0;34m=\u001b[0m \u001b[0;36m75\u001b[0m\u001b[0;34m\u001b[0m\u001b[0;34m\u001b[0m\u001b[0m\n\u001b[1;32m      4\u001b[0m \u001b[0mm2\u001b[0m\u001b[0;34m.\u001b[0m\u001b[0mETA\u001b[0m \u001b[0;34m=\u001b[0m \u001b[0;36m0.002\u001b[0m\u001b[0;34m\u001b[0m\u001b[0;34m\u001b[0m\u001b[0m\n\u001b[0;32m----> 5\u001b[0;31m \u001b[0mall_rsps\u001b[0m \u001b[0;34m=\u001b[0m \u001b[0mquick_plot\u001b[0m\u001b[0;34m(\u001b[0m\u001b[0mm2\u001b[0m\u001b[0;34m)\u001b[0m\u001b[0;34m\u001b[0m\u001b[0;34m\u001b[0m\u001b[0m\n\u001b[0m",
      "\u001b[0;32m<ipython-input-7-2cb9759f32a8>\u001b[0m in \u001b[0;36mquick_plot\u001b[0;34m(m, repeats, show_connectivity, n_show_only, add_noise, dropouts)\u001b[0m\n\u001b[1;32m      1\u001b[0m \u001b[0;32mdef\u001b[0m \u001b[0mquick_plot\u001b[0m\u001b[0;34m(\u001b[0m\u001b[0mm\u001b[0m\u001b[0;34m,\u001b[0m \u001b[0mrepeats\u001b[0m\u001b[0;34m=\u001b[0m\u001b[0;36m1\u001b[0m\u001b[0;34m,\u001b[0m \u001b[0mshow_connectivity\u001b[0m\u001b[0;34m=\u001b[0m\u001b[0;32mTrue\u001b[0m\u001b[0;34m,\u001b[0m \u001b[0mn_show_only\u001b[0m\u001b[0;34m=\u001b[0m\u001b[0;32mNone\u001b[0m\u001b[0;34m,\u001b[0m \u001b[0madd_noise\u001b[0m\u001b[0;34m=\u001b[0m\u001b[0;32mTrue\u001b[0m\u001b[0;34m,\u001b[0m \u001b[0mdropouts\u001b[0m\u001b[0;34m=\u001b[0m\u001b[0;34m[\u001b[0m\u001b[0;34m{\u001b[0m\u001b[0;34m'E'\u001b[0m\u001b[0;34m:\u001b[0m \u001b[0;36m0\u001b[0m\u001b[0;34m,\u001b[0m \u001b[0;34m'I'\u001b[0m\u001b[0;34m:\u001b[0m \u001b[0;36m0\u001b[0m\u001b[0;34m}\u001b[0m\u001b[0;34m]\u001b[0m\u001b[0;34m)\u001b[0m\u001b[0;34m:\u001b[0m\u001b[0;34m\u001b[0m\u001b[0;34m\u001b[0m\u001b[0m\n\u001b[1;32m      2\u001b[0m     all_rsps = run_test(m, show_connectivity=show_connectivity, repeats=repeats,\n\u001b[0;32m----> 3\u001b[0;31m                         n_show_only=n_show_only, add_noise=add_noise, dropouts=dropouts)\n\u001b[0m\u001b[1;32m      4\u001b[0m \u001b[0;34m\u001b[0m\u001b[0m\n\u001b[1;32m      5\u001b[0m     \u001b[0mcolors\u001b[0m \u001b[0;34m=\u001b[0m \u001b[0;34m[\u001b[0m\u001b[0;34m'black'\u001b[0m\u001b[0;34m,\u001b[0m \u001b[0;34m'blue'\u001b[0m\u001b[0;34m,\u001b[0m \u001b[0;34m'green'\u001b[0m\u001b[0;34m,\u001b[0m \u001b[0;34m'purple'\u001b[0m\u001b[0;34m,\u001b[0m \u001b[0;34m'brown'\u001b[0m\u001b[0;34m]\u001b[0m\u001b[0;34m\u001b[0m\u001b[0;34m\u001b[0m\u001b[0m\n",
      "\u001b[0;32m<ipython-input-5-ba42955842df>\u001b[0m in \u001b[0;36mrun_test\u001b[0;34m(m, show_connectivity, repeats, n_show_only, add_noise, dropouts)\u001b[0m\n\u001b[1;32m    100\u001b[0m \u001b[0;34m\u001b[0m\u001b[0m\n\u001b[1;32m    101\u001b[0m             \u001b[0;31m# run smln\u001b[0m\u001b[0;34m\u001b[0m\u001b[0;34m\u001b[0m\u001b[0;34m\u001b[0m\u001b[0m\n\u001b[0;32m--> 102\u001b[0;31m             \u001b[0mrsp\u001b[0m \u001b[0;34m=\u001b[0m \u001b[0mntwk\u001b[0m\u001b[0;34m.\u001b[0m\u001b[0mrun\u001b[0m\u001b[0;34m(\u001b[0m\u001b[0mdt\u001b[0m\u001b[0;34m=\u001b[0m\u001b[0mS\u001b[0m\u001b[0;34m.\u001b[0m\u001b[0mDT\u001b[0m\u001b[0;34m,\u001b[0m \u001b[0mclamp\u001b[0m\u001b[0;34m=\u001b[0m\u001b[0mclamp\u001b[0m\u001b[0;34m,\u001b[0m \u001b[0mi_ext\u001b[0m\u001b[0;34m=\u001b[0m\u001b[0mi_ext\u001b[0m\u001b[0;34m,\u001b[0m \u001b[0mspks_u\u001b[0m\u001b[0;34m=\u001b[0m\u001b[0mspks_u\u001b[0m\u001b[0;34m)\u001b[0m\u001b[0;34m\u001b[0m\u001b[0;34m\u001b[0m\u001b[0m\n\u001b[0m\u001b[1;32m    103\u001b[0m \u001b[0;34m\u001b[0m\u001b[0m\n\u001b[1;32m    104\u001b[0m             \u001b[0;32mif\u001b[0m \u001b[0mshow_connectivity\u001b[0m\u001b[0;34m:\u001b[0m\u001b[0;34m\u001b[0m\u001b[0;34m\u001b[0m\u001b[0m\n",
      "\u001b[0;32m~/work/compneuro/synfire_chain_growth/ntwk.py\u001b[0m in \u001b[0;36mrun\u001b[0;34m(self, dt, clamp, i_ext, spks_u)\u001b[0m\n\u001b[1;32m    192\u001b[0m                     \u001b[0mspks\u001b[0m\u001b[0;34m[\u001b[0m\u001b[0mb_t\u001b[0m \u001b[0;34m+\u001b[0m \u001b[0mt_ctr\u001b[0m\u001b[0;34m,\u001b[0m \u001b[0mspks_for_t_ctr\u001b[0m\u001b[0;34m]\u001b[0m \u001b[0;34m=\u001b[0m \u001b[0;36m1\u001b[0m\u001b[0;34m\u001b[0m\u001b[0;34m\u001b[0m\u001b[0m\n\u001b[1;32m    193\u001b[0m \u001b[0;34m\u001b[0m\u001b[0m\n\u001b[0;32m--> 194\u001b[0;31m             \u001b[0mself\u001b[0m\u001b[0;34m.\u001b[0m\u001b[0mupdate_w\u001b[0m\u001b[0;34m(\u001b[0m\u001b[0mt_ctr\u001b[0m\u001b[0;34m,\u001b[0m \u001b[0mspks\u001b[0m\u001b[0;34m[\u001b[0m\u001b[0;34m-\u001b[0m\u001b[0;34m(\u001b[0m\u001b[0mself\u001b[0m\u001b[0;34m.\u001b[0m\u001b[0mtau_cut\u001b[0m \u001b[0;34m+\u001b[0m \u001b[0;36m1\u001b[0m\u001b[0;34m)\u001b[0m\u001b[0;34m:\u001b[0m\u001b[0;34m,\u001b[0m \u001b[0mself\u001b[0m\u001b[0;34m.\u001b[0m\u001b[0mplasticity_indices\u001b[0m\u001b[0;34m]\u001b[0m\u001b[0;34m,\u001b[0m \u001b[0mdt\u001b[0m\u001b[0;34m)\u001b[0m\u001b[0;34m\u001b[0m\u001b[0;34m\u001b[0m\u001b[0m\n\u001b[0m\u001b[1;32m    195\u001b[0m \u001b[0;34m\u001b[0m\u001b[0m\n\u001b[1;32m    196\u001b[0m             \u001b[0;32mif\u001b[0m \u001b[0mself\u001b[0m\u001b[0;34m.\u001b[0m\u001b[0moutput\u001b[0m \u001b[0;32mand\u001b[0m \u001b[0;34m(\u001b[0m\u001b[0mt_ctr\u001b[0m \u001b[0;34m%\u001b[0m \u001b[0mself\u001b[0m\u001b[0;34m.\u001b[0m\u001b[0moutput_freq\u001b[0m \u001b[0;34m==\u001b[0m \u001b[0;36m0\u001b[0m\u001b[0;34m)\u001b[0m\u001b[0;34m:\u001b[0m\u001b[0;34m\u001b[0m\u001b[0;34m\u001b[0m\u001b[0m\n",
      "\u001b[0;31mKeyboardInterrupt\u001b[0m: "
     ]
    },
    {
     "data": {
      "image/png": "[encoded data removed]",
      "text/plain": [
       "<Figure size 576x576 with 4 Axes>"
      ]
     },
     "metadata": {
      "needs_background": "light"
     },
     "output_type": "display_data"
    }
   ],
   "source": [
    "S.T = 100.\n",
    "m2 = copy(M)\n",
    "m2.EPSILON = 75\n",
    "m2.ETA = 0.002\n",
    "all_rsps = quick_plot(m2)"
   ]
  },
  {
   "cell_type": "code",
   "execution_count": null,
   "metadata": {
    "scrolled": false
   },
   "outputs": [],
   "source": [
    "S.T = 0.5\n",
    "m2 = copy(M)\n",
    "m2.EPSILON = 0.1\n",
    "m2.ETA = 0.002\n",
    "all_rsps = quick_plot(m2)"
   ]
  },
  {
   "cell_type": "code",
   "execution_count": null,
   "metadata": {},
   "outputs": [],
   "source": []
  }
 ],
 "metadata": {
  "kernelspec": {
   "display_name": "Python 3",
   "language": "python",
   "name": "python3"
  },
  "language_info": {
   "codemirror_mode": {
    "name": "ipython",
    "version": 3
   },
   "file_extension": ".py",
   "mimetype": "text/x-python",
   "name": "python",
   "nbconvert_exporter": "python",
   "pygments_lexer": "ipython3",
   "version": "3.7.6"
  }
 },
 "nbformat": 4,
 "nbformat_minor": 2
}
