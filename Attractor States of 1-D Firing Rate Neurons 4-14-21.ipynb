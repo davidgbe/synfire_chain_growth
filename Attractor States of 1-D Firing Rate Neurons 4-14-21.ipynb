{
 "cells": [
  {
   "cell_type": "markdown",
   "metadata": {},
   "source": [
    "The aim of this calculation is to demonstrate that a 1-D chain of firing-rate neurons has an attractor state that is parametrized by $V_{th}$, synaptic strength $W$, and a time-constant $\\tau$. We begin with a firing-rate model of the single neuron in which the firing rate of the neuron is written as:"
   ]
  },
  {
   "cell_type": "markdown",
   "metadata": {},
   "source": [
    "$$\n",
    "\\begin{equation*}\n",
    "F(I_s) = \\beta \\left[ I_s - \\gamma \\right]_+\n",
    "\\tag{1}\n",
    "\\end{equation*}\n",
    "$$\n",
    "\n",
    "Here, $\\beta$ is some constant with units of charge$^{-1}$ and $\\gamma$ is proportional to $V_{th}$. The $\\left[ \\right]_+$ denotes half-wave rectification.\n",
    "\n",
    "The synaptic current $I_s$ is written as:\n",
    "\n",
    "$$\n",
    "\\begin{equation*}\n",
    "I_s = \\frac{W}{\\tau} \\int_0^t g(t-t') r_{in}(t') dt'\n",
    "\\tag{2}\n",
    "\\end{equation*}\n",
    "$$\n",
    "\n",
    "Here, $g(t)$ is the conductance kernel, $r_{in}$ is the rate of presynaptic spikes, $W$ is the synapse strength in units of volts, and $\\tau$ is the time constant of synapse."
   ]
  },
  {
   "cell_type": "markdown",
   "metadata": {},
   "source": [
    "$$\n",
    "\\begin{equation*}\n",
    "r_{out}(t) = \\beta \\left[ \\frac{W}{\\tau} \\int_0^t g(t-t') r_{in}(t') dt' - \\gamma \\right]_+\n",
    "\\tag{3}\n",
    "\\end{equation*}\n",
    "$$"
   ]
  },
  {
   "cell_type": "markdown",
   "metadata": {},
   "source": [
    "A fixed point in the dynamics should leave $r(t)$ unchanged from neuron to neuron, so $r_{out}(t) = r_{in}(t - t^*)$, where $t^*$ is the inverse of the propagation speed. Therefore, we write:"
   ]
  },
  {
   "cell_type": "markdown",
   "metadata": {},
   "source": [
    "$$\n",
    "\\begin{equation*}\n",
    "r_{in}(t - t^*) = \\beta \\left[ \\frac{W}{\\tau} \\int_0^t g(t-t') r_{in}(t') dt' - \\gamma \\right]_+\n",
    "\\tag{4}\n",
    "\\end{equation*}\n",
    "$$"
   ]
  },
  {
   "cell_type": "markdown",
   "metadata": {},
   "source": [
    "We assume that prior to $t^*$, the driven neuron should have emitted no spikes. If we assume that $r(t)$ is continuous, then $r_{out}(t^*) = r_{in}(0) = 0$. Therefore:\n",
    "\n",
    "$$\n",
    "\\begin{equation*}\n",
    "r_{in}(0) = 0 = \\beta \\left[ \\frac{W}{\\tau} \\int_0^{t^*} g(t^*-t') r_{in}(t') dt' - \\gamma \\right]\n",
    "\\tag{5}\n",
    "\\end{equation*}\n",
    "$$\n",
    "\n",
    "Here, we have dropped the half-wave rectification.\n",
    "\n",
    "$$\n",
    "\\begin{equation*}\n",
    "\\gamma = \\frac{W}{\\tau} \\int_0^{t^*} g(t^*-t') r_{in}(t') dt'\n",
    "\\tag{6}\n",
    "\\end{equation*}\n",
    "$$\n",
    "\n",
    "This relates the threshold, $r(t)$, and $t^*$.\n",
    "\n"
   ]
  },
  {
   "cell_type": "markdown",
   "metadata": {},
   "source": [
    "Now we resume with equation (4) and make the change of variable $\\bar{t} = t - t^*$. We further drop the subscript on $r_{in}(t)$:\n",
    "\n",
    "$$\n",
    "\\begin{equation*}\n",
    "r_{in}(\\bar{t}) = \\beta \\left[ \\frac{W}{\\tau} \\int_0^{t^* + \\bar{t}} g(t^* + \\bar{t} -t') r_{in}(t') dt' - \\gamma \\right]_+\n",
    "\\tag{7}\n",
    "\\end{equation*}\n",
    "$$"
   ]
  },
  {
   "cell_type": "markdown",
   "metadata": {},
   "source": [
    "$\\frac{d r_{in}(\\bar{t})}{d\\bar{t}}$ is defined for $\\bar{t} > 0$, so we take the derivative of both sides of (7)."
   ]
  },
  {
   "cell_type": "code",
   "execution_count": null,
   "metadata": {},
   "outputs": [],
   "source": []
  }
 ],
 "metadata": {
  "kernelspec": {
   "display_name": "Python 3",
   "language": "python",
   "name": "python3"
  },
  "language_info": {
   "codemirror_mode": {
    "name": "ipython",
    "version": 3
   },
   "file_extension": ".py",
   "mimetype": "text/x-python",
   "name": "python",
   "nbconvert_exporter": "python",
   "pygments_lexer": "ipython3",
   "version": "3.7.6"
  }
 },
 "nbformat": 4,
 "nbformat_minor": 4
}
