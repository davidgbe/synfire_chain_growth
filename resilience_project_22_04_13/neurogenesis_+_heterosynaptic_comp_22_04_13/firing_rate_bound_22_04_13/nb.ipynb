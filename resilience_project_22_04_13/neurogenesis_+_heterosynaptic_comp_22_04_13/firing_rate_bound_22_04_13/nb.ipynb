{
 "cells": [
  {
   "cell_type": "code",
   "execution_count": 1,
   "metadata": {},
   "outputs": [],
   "source": [
    "import os\n",
    "os.environ['OPENBLAS_NUM_THREADS'] = '1'\n",
    "\n",
    "%matplotlib inline\n",
    "from copy import deepcopy as copy\n",
    "import matplotlib\n",
    "import matplotlib.pyplot as plt\n",
    "import matplotlib.gridspec as gridspec\n",
    "from mpl_toolkits.axes_grid1.inset_locator import inset_axes\n",
    "import numpy as np\n",
    "from scipy import stats\n",
    "import scipy.io as sio\n",
    "import pandas as pd\n",
    "import pickle\n",
    "from collections import OrderedDict\n",
    "from scipy.ndimage.interpolation import shift\n",
    "from functools import reduce\n",
    "import time\n",
    "import re\n",
    "from scipy.special import comb\n",
    "import time\n",
    "import asyncio\n",
    "from bisect import bisect_left\n",
    "\n",
    "from aux import Generic, bin_occurrences, safe_apply_stat, flatten\n",
    "from disp import set_font_size, get_spaced_colors, graph_weight_matrix\n",
    "from ntwk import LIFNtwkG\n",
    "from utils.general import *\n",
    "from utils.file_io import *\n",
    "\n",
    "dt = 0.22e-3"
   ]
  },
  {
   "cell_type": "code",
   "execution_count": 2,
   "metadata": {},
   "outputs": [],
   "source": [
    "def save_fig(fig, path, name):\n",
    "    if not os.path.exists(path):\n",
    "        os.makedirs(path)\n",
    "    fig.savefig(os.path.join(path, name))"
   ]
  },
  {
   "cell_type": "code",
   "execution_count": 3,
   "metadata": {},
   "outputs": [],
   "source": [
    "def get_equally_spaced_colors(n, cmap='autumn'):\n",
    "    cmap = plt.get_cmap(cmap)\n",
    "    colors = cmap(np.linspace(0, 1, n))\n",
    "    return [matplotlib.colors.rgb2hex(rgba) for rgba in colors]"
   ]
  },
  {
   "cell_type": "code",
   "execution_count": 4,
   "metadata": {},
   "outputs": [],
   "source": [
    "def process_single_activation(exc_raster, n):\n",
    "    # extract first spikes\n",
    "    first_spk_times = np.nan * np.ones(n)\n",
    "    for i in range(exc_raster.shape[1]):\n",
    "        nrn_idx = int(exc_raster[1, i])\n",
    "        if np.isnan(first_spk_times[nrn_idx]):\n",
    "            first_spk_times[nrn_idx] = exc_raster[0, i]\n",
    "    return first_spk_times"
   ]
  },
  {
   "cell_type": "code",
   "execution_count": 5,
   "metadata": {},
   "outputs": [],
   "source": [
    "def load_exp_data(direc, cut=None, layer_size=10, n_exc=1000, name_frags=[], reverse=False):\n",
    "    file_names = [f for f in sorted(all_files_from_dir(direc))]\n",
    "    file_names = [f for f in filter_list_by_name_frags(file_names, name_frags)]\n",
    "    if cut is not None:\n",
    "        file_names = file_names[:cut]\n",
    "        \n",
    "    included_cell_mask = None\n",
    "    file_name_count = range(0, len(file_names))\n",
    "    if reverse:\n",
    "        file_name_count = reversed(file_name_count)\n",
    "    for i_f in file_name_count:\n",
    "        file = file_names[i_f]\n",
    "        \n",
    "        if i_f == 0:\n",
    "            loaded = sio.loadmat(os.path.join(direc, file))\n",
    "        \n",
    "        def lazy_load():\n",
    "            loaded = sio.loadmat(os.path.join(direc, file))\n",
    "\n",
    "            exc_raster = loaded['exc_raster']\n",
    "            inh_raster = loaded['inh_raster']\n",
    "\n",
    "            first_spk_times = process_single_activation(loaded['exc_raster'].astype(float), n_exc)\n",
    "\n",
    "            layers_active = []\n",
    "            layer_weights = []\n",
    "\n",
    "            data = {\n",
    "                'index': i_f,\n",
    "                'first_spk_times': first_spk_times,\n",
    "                \n",
    "                'w_e_e': loaded['w_e_e'][0],\n",
    "                'w_e_i': loaded['w_e_i'][0],\n",
    "                'w_i_e': loaded['w_i_e'][0],\n",
    "                \n",
    "                'exc_raster': exc_raster,\n",
    "                'inh_raster': inh_raster,\n",
    "                'freqs': loaded['freqs'][0],\n",
    "                'spk_bins': loaded['spk_bins'][0],\n",
    "                \n",
    "                'prop_speed': loaded['prop_speed'][0],\n",
    "                'avg_temporal_width': loaded['avg_temporal_width'][0],\n",
    "                'stable': loaded['stable'][0],\n",
    "            }\n",
    "            if 'gs' in loaded:\n",
    "                data['gs'] = loaded['gs']\n",
    "                \n",
    "            if 'w_r_e' in loaded:\n",
    "                data['w_r_e'] = loaded['w_r_e']\n",
    "                data['w_r_i'] = loaded['w_r_i']\n",
    "                \n",
    "#             if 'surviving_cell_indices' in loaded:\n",
    "#                 surviving_cell_indices = loaded['surviving_cell_indices'][0, :]\n",
    "#                 data['surviving_cell_indices'] = surviving_cell_indices\n",
    "                \n",
    "#                 sorting_order = np.argsort(exc_raster[1, :])\n",
    "#                 exc_raster_sorted = exc_raster[:, sorting_order]\n",
    "#                 indices = np.arange(len(surviving_cell_indices))[surviving_cell_indices.astype(bool)]\n",
    "                \n",
    "#                 exc_raster_unperturbed = []\n",
    "#                 exc_raster_perturbed = []\n",
    "                \n",
    "#                 j = 0\n",
    "#                 for idx in np.arange(exc_raster_sorted.shape[1]):\n",
    "#                     if j >= len(indices):\n",
    "#                         exc_raster_perturbed.append(exc_raster_sorted[:, idx].reshape(2, 1))\n",
    "#                     elif exc_raster_sorted[1, idx] < indices[j]:\n",
    "#                         exc_raster_perturbed.append(exc_raster_sorted[:, idx].reshape(2, 1))\n",
    "#                     elif exc_raster_sorted[1, idx] == indices[j]:\n",
    "#                         exc_raster_unperturbed.append(exc_raster_sorted[:, idx].reshape(2, 1))\n",
    "#                     elif exc_raster_sorted[1, idx] > indices[j]:\n",
    "#                         j +=1\n",
    "                \n",
    "#                 data['exc_raster_unperturbed'] = np.concatenate(exc_raster_unperturbed, axis=1)\n",
    "#                 data['exc_raster_perturbed'] = np.concatenate(exc_raster_perturbed, axis=1)\n",
    "                \n",
    "            return data\n",
    "        yield i_f, lazy_load"
   ]
  },
  {
   "cell_type": "code",
   "execution_count": 6,
   "metadata": {},
   "outputs": [],
   "source": [
    "def make_heat_map(mat):\n",
    "    scale = 7\n",
    "    cbar_frac = 0.1\n",
    "    fig = plt.figure(constrained_layout=True, figsize=(scale, scale))\n",
    "    graph_col_width = int(1 / cbar_frac)\n",
    "    gs = gridspec.GridSpec(ncols=graph_col_width, nrows=1, figure=fig)\n",
    "    axs = [\n",
    "        fig.add_subplot(gs[0: graph_col_width - 1]),\n",
    "        fig.add_subplot(gs[graph_col_width - 1]),\n",
    "    ]\n",
    "    \n",
    "    print(mat[~np.isnan(mat)].min())\n",
    "    print(mat[~np.isnan(mat)].max())\n",
    "\n",
    "    im1 = axs[0].imshow(mat, cmap='YlOrRd', vmin=mat[~np.isnan(mat)].min(), vmax=mat[~np.isnan(mat)].max())\n",
    "    plt.colorbar(im1, cax=axs[1])\n",
    "    \n",
    "    return axs, fig"
   ]
  },
  {
   "cell_type": "code",
   "execution_count": 10,
   "metadata": {},
   "outputs": [],
   "source": [
    "def make_maps(name, shape, repeats=1, repeats_to_use=None):\n",
    "    if repeats_to_use is None:\n",
    "        repeats_to_use = repeats\n",
    "    if type(name) is list:\n",
    "        all_dirs = filter_list_by_name_frags(all_in_dir('./robustness'), name)\n",
    "    else:\n",
    "        all_dirs = filter_list_by_name_frags(all_in_dir('./robustness'), [name])\n",
    "        \n",
    "    all_dirs = [d for d in all_dirs]\n",
    "    n_points = len(all_dirs)\n",
    "    \n",
    "    prop_speeds = np.zeros(n_points)\n",
    "    avg_temporal_widths = np.zeros(n_points)\n",
    "    stability_points = np.zeros(n_points)\n",
    "    \n",
    "    for d_idx, exp_dir_name in enumerate(sorted(all_dirs)):\n",
    "        if d_idx % repeats >= repeats_to_use:\n",
    "            continue\n",
    "        try:\n",
    "            load_data = [d for i_d, d in load_exp_data(os.path.join('./robustness', exp_dir_name))][0]\n",
    "        except IndexError:\n",
    "            continue\n",
    "        data = load_data()\n",
    "        first_spk_times = data['first_spk_times']\n",
    "        prop_speed = data['prop_speed']\n",
    "        avg_temporal_width = data['avg_temporal_width']\n",
    "        \n",
    "#         print(data['w_e_e'])\n",
    "#         print(data['w_i_e'])\n",
    "#         print(prop_speed)\n",
    "#         print(avg_temporal_width)\n",
    "#         print('')\n",
    "        \n",
    "        stable = len(~np.isnan(first_spk_times[950:1000])) > 30\n",
    "        \n",
    "        prop_speeds[d_idx] = prop_speed\n",
    "        avg_temporal_widths[d_idx] = avg_temporal_width\n",
    "        stability_points[d_idx] = stable\n",
    "        \n",
    "        if stable == 0 or np.isnan(prop_speed) or np.isnan(avg_temporal_width):\n",
    "            prop_speeds[d_idx] = np.nan\n",
    "            avg_temporal_widths[d_idx] = np.nan\n",
    "            stability_points[d_idx] = 0\n",
    "            \n",
    "    fig = plt.figure(constrained_layout=True, figsize=(8, 8))\n",
    "    gs = gridspec.GridSpec(ncols=1, nrows=1, figure=fig)\n",
    "    ax = fig.add_subplot(gs[0])\n",
    "    \n",
    "    to_show_mask = np.logical_and(~np.isnan(prop_speeds), ~np.isclose(prop_speeds, 0), np.abs(avg_temporal_widths) < 0.06)\n",
    "    ax.scatter(avg_temporal_widths[to_show_mask], prop_speeds[to_show_mask], s=2, c='black')\n",
    "    ax.set_ylabel('Prop Speed')    \n",
    "    ax.set_xlabel('Avg Temporal Width')\n",
    "    \n",
    "    n_points_to_use = int(n_points * repeats_to_use / repeats)\n",
    "    \n",
    "    prop_speeds = np.array([np.mean(prop_speeds[l:l+repeats_to_use]) for l in range(0, n_points, repeats)])\n",
    "    avg_temporal_widths = np.array([np.mean(avg_temporal_widths[l:l+repeats_to_use]) for l in range(0, n_points, repeats)])\n",
    "    stability_points = np.array([np.mean(stability_points[l:l+repeats_to_use]) for l in range(0, n_points, repeats)])\n",
    "    \n",
    "    prop_speeds_all = np.nan * np.ones(shape)\n",
    "    avg_temporal_widths_all = np.nan * np.ones(shape)\n",
    "    stability_points_all = np.nan * np.ones(shape)\n",
    "    \n",
    "    for i in range(len(prop_speeds)):\n",
    "        j = int(i / shape[0])\n",
    "        k = i % shape[0]\n",
    "        prop_speeds_all[j, k] = prop_speeds[i]\n",
    "        avg_temporal_widths_all[j, k] = avg_temporal_widths[i]\n",
    "        stability_points_all[j, k] = stability_points[i]\n",
    "    \n",
    "    ax1, f1 = make_heat_map(prop_speeds_all.T[:, :-2])\n",
    "    ax1[0].set_title('Prop speeds\\n')\n",
    "    \n",
    "    ax2, f2 = make_heat_map(avg_temporal_widths_all.T[:, :-2])\n",
    "    ax2[0].set_title('Avg temporal std of spikes\\n')\n",
    "    \n",
    "    ax3, f3 = make_heat_map(stability_points_all.T[:, :-2])\n",
    "    ax3[0].set_title('Stablility\\n')\n",
    "    \n",
    "    for ax in [ax1, ax2, ax3]:\n",
    "        ax[0].set_ylabel('w_i_e')\n",
    "        ax[0].set_xlabel('w_e_e')\n",
    "        "
   ]
  },
  {
   "cell_type": "code",
   "execution_count": 11,
   "metadata": {
    "scrolled": false
   },
   "outputs": [
    {
     "name": "stdout",
     "output_type": "stream",
     "text": [
      "191.85015624995108\n",
      "255.352538050543\n",
      "0.0018280548637271104\n",
      "0.015090944986612453\n",
      "0.0\n",
      "1.0\n"
     ]
    },
    {
     "data": {
      "image/png": "[encoded data removed]",
      "text/plain": [
       "<Figure size 576x576 with 1 Axes>"
      ]
     },
     "metadata": {
      "needs_background": "light"
     },
     "output_type": "display_data"
    },
    {
     "data": {
      "image/png": "[encoded data removed]",
      "text/plain": [
       "<Figure size 504x504 with 2 Axes>"
      ]
     },
     "metadata": {
      "needs_background": "light"
     },
     "output_type": "display_data"
    },
    {
     "data": {
      "image/png": "[encoded data removed]",
      "text/plain": [
       "<Figure size 504x504 with 2 Axes>"
      ]
     },
     "metadata": {
      "needs_background": "light"
     },
     "output_type": "display_data"
    },
    {
     "data": {
      "image/png": "[encoded data removed]",
      "text/plain": [
       "<Figure size 504x504 with 2 Axes>"
      ]
     },
     "metadata": {
      "needs_background": "light"
     },
     "output_type": "display_data"
    }
   ],
   "source": [
    "make_maps(['sweep_w_e_i_7e-5'], (20, 20), repeats=10, repeats_to_use=3)"
   ]
  },
  {
   "cell_type": "code",
   "execution_count": null,
   "metadata": {},
   "outputs": [],
   "source": []
  }
 ],
 "metadata": {
  "kernelspec": {
   "display_name": "Python 3",
   "language": "python",
   "name": "python3"
  },
  "language_info": {
   "codemirror_mode": {
    "name": "ipython",
    "version": 3
   },
   "file_extension": ".py",
   "mimetype": "text/x-python",
   "name": "python",
   "nbconvert_exporter": "python",
   "pygments_lexer": "ipython3",
   "version": "3.8.1"
  }
 },
 "nbformat": 4,
 "nbformat_minor": 4
}
